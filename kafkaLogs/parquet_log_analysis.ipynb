{
  "cells": [
    {
      "cell_type": "markdown",
      "metadata": {
        "id": "view-in-github",
        "colab_type": "text"
      },
      "source": [
        "<a href=\"https://colab.research.google.com/github/divaamahajan/logAnalysis-kafka-spark/blob/main/kafkaLogs/parquet_log_analysis.ipynb\" target=\"_parent\"><img src=\"https://colab.research.google.com/assets/colab-badge.svg\" alt=\"Open In Colab\"/></a>"
      ]
    },
    {
      "cell_type": "markdown",
      "metadata": {
        "id": "Bo-DNZvk7FuO"
      },
      "source": [
        "# Scalable Web Server Log Analytics with Apache Spark\n"
      ]
    },
    {
      "cell_type": "markdown",
      "metadata": {
        "id": "KGdeyPtp7FuS"
      },
      "source": [
        "# Setting up Dependencies"
      ]
    },
    {
      "cell_type": "code",
      "execution_count": null,
      "metadata": {
        "id": "4oE0N_nl7FuS",
        "outputId": "b27f5a3d-5072-404c-c8df-3629fb07caac",
        "colab": {
          "base_uri": "https://localhost:8080/"
        }
      },
      "outputs": [
        {
          "output_type": "stream",
          "name": "stdout",
          "text": [
            "Looking in indexes: https://pypi.org/simple, https://us-python.pkg.dev/colab-wheels/public/simple/\n",
            "Collecting spark\n",
            "  Downloading spark-0.2.1.tar.gz (41 kB)\n",
            "\u001b[2K     \u001b[90m━━━━━━━━━━━━━━━━━━━━━━━━━━━━━━━━━━━━━━━━\u001b[0m \u001b[32m41.0/41.0 kB\u001b[0m \u001b[31m2.1 MB/s\u001b[0m eta \u001b[36m0:00:00\u001b[0m\n",
            "\u001b[?25h  Preparing metadata (setup.py) ... \u001b[?25l\u001b[?25hdone\n",
            "Building wheels for collected packages: spark\n",
            "  Building wheel for spark (setup.py) ... \u001b[?25l\u001b[?25hdone\n",
            "  Created wheel for spark: filename=spark-0.2.1-py3-none-any.whl size=58747 sha256=dc7ffd3b361dc54026020bcbb1f94485c85a25f0d26dab5ae3e04d1ba1e8c62d\n",
            "  Stored in directory: /root/.cache/pip/wheels/63/88/77/b4131110ea4094540f7b47c6d62a649807d7e94800da5eab0b\n",
            "Successfully built spark\n",
            "Installing collected packages: spark\n",
            "Successfully installed spark-0.2.1\n",
            "Looking in indexes: https://pypi.org/simple, https://us-python.pkg.dev/colab-wheels/public/simple/\n",
            "Collecting pyspark\n",
            "  Downloading pyspark-3.4.0.tar.gz (310.8 MB)\n",
            "\u001b[2K     \u001b[90m━━━━━━━━━━━━━━━━━━━━━━━━━━━━━━━━━━━━━━━\u001b[0m \u001b[32m310.8/310.8 MB\u001b[0m \u001b[31m2.2 MB/s\u001b[0m eta \u001b[36m0:00:00\u001b[0m\n",
            "\u001b[?25h  Preparing metadata (setup.py) ... \u001b[?25l\u001b[?25hdone\n",
            "Requirement already satisfied: py4j==0.10.9.7 in /usr/local/lib/python3.10/dist-packages (from pyspark) (0.10.9.7)\n",
            "Building wheels for collected packages: pyspark\n",
            "  Building wheel for pyspark (setup.py) ... \u001b[?25l\u001b[?25hdone\n",
            "  Created wheel for pyspark: filename=pyspark-3.4.0-py2.py3-none-any.whl size=311317130 sha256=842a4ebc846562fb43c9f182d8fe7cb4ceaea265405d44e63daa326fcd0791da\n",
            "  Stored in directory: /root/.cache/pip/wheels/7b/1b/4b/3363a1d04368e7ff0d408e57ff57966fcdf00583774e761327\n",
            "Successfully built pyspark\n",
            "Installing collected packages: pyspark\n",
            "Successfully installed pyspark-3.4.0\n",
            "Looking in indexes: https://pypi.org/simple, https://us-python.pkg.dev/colab-wheels/public/simple/\n",
            "Requirement already satisfied: seaborn in /usr/local/lib/python3.10/dist-packages (0.12.2)\n",
            "Requirement already satisfied: numpy!=1.24.0,>=1.17 in /usr/local/lib/python3.10/dist-packages (from seaborn) (1.22.4)\n",
            "Requirement already satisfied: pandas>=0.25 in /usr/local/lib/python3.10/dist-packages (from seaborn) (1.5.3)\n",
            "Requirement already satisfied: matplotlib!=3.6.1,>=3.1 in /usr/local/lib/python3.10/dist-packages (from seaborn) (3.7.1)\n",
            "Requirement already satisfied: contourpy>=1.0.1 in /usr/local/lib/python3.10/dist-packages (from matplotlib!=3.6.1,>=3.1->seaborn) (1.0.7)\n",
            "Requirement already satisfied: cycler>=0.10 in /usr/local/lib/python3.10/dist-packages (from matplotlib!=3.6.1,>=3.1->seaborn) (0.11.0)\n",
            "Requirement already satisfied: fonttools>=4.22.0 in /usr/local/lib/python3.10/dist-packages (from matplotlib!=3.6.1,>=3.1->seaborn) (4.39.3)\n",
            "Requirement already satisfied: kiwisolver>=1.0.1 in /usr/local/lib/python3.10/dist-packages (from matplotlib!=3.6.1,>=3.1->seaborn) (1.4.4)\n",
            "Requirement already satisfied: packaging>=20.0 in /usr/local/lib/python3.10/dist-packages (from matplotlib!=3.6.1,>=3.1->seaborn) (23.1)\n",
            "Requirement already satisfied: pillow>=6.2.0 in /usr/local/lib/python3.10/dist-packages (from matplotlib!=3.6.1,>=3.1->seaborn) (8.4.0)\n",
            "Requirement already satisfied: pyparsing>=2.3.1 in /usr/local/lib/python3.10/dist-packages (from matplotlib!=3.6.1,>=3.1->seaborn) (3.0.9)\n",
            "Requirement already satisfied: python-dateutil>=2.7 in /usr/local/lib/python3.10/dist-packages (from matplotlib!=3.6.1,>=3.1->seaborn) (2.8.2)\n",
            "Requirement already satisfied: pytz>=2020.1 in /usr/local/lib/python3.10/dist-packages (from pandas>=0.25->seaborn) (2022.7.1)\n",
            "Requirement already satisfied: six>=1.5 in /usr/local/lib/python3.10/dist-packages (from python-dateutil>=2.7->matplotlib!=3.6.1,>=3.1->seaborn) (1.16.0)\n"
          ]
        }
      ],
      "source": [
        "!pip install spark\n",
        "!pip install pyspark\n",
        "!pip install -U seaborn"
      ]
    },
    {
      "cell_type": "code",
      "execution_count": null,
      "metadata": {
        "collapsed": true,
        "id": "tpgkWWxL7FuU",
        "outputId": "84ae941b-e1ac-4914-a7ce-b5825334416d",
        "colab": {
          "base_uri": "https://localhost:8080/"
        }
      },
      "outputs": [
        {
          "output_type": "stream",
          "name": "stderr",
          "text": [
            "/usr/local/lib/python3.10/dist-packages/pyspark/sql/context.py:112: FutureWarning: Deprecated in 3.0.0. Use SparkSession.builder.getOrCreate() instead.\n",
            "  warnings.warn(\n"
          ]
        }
      ],
      "source": [
        "from pyspark.context import SparkContext\n",
        "from pyspark.sql.context import SQLContext\n",
        "from pyspark.sql.session import SparkSession\n",
        "\n",
        "# Get the existing SparkSession\n",
        "spark = SparkSession.builder.getOrCreate()\n",
        "\n",
        "# Create SQLContext\n",
        "sqlContext = SQLContext(spark)\n"
      ]
    },
    {
      "cell_type": "code",
      "source": [
        "spark"
      ],
      "metadata": {
        "id": "IY6vPZdnrhZk",
        "outputId": "46442fac-3be3-47ba-f404-7bd1a438b4fe",
        "colab": {
          "base_uri": "https://localhost:8080/",
          "height": 219
        }
      },
      "execution_count": null,
      "outputs": [
        {
          "output_type": "execute_result",
          "data": {
            "text/plain": [
              "<pyspark.sql.session.SparkSession at 0x7fbed0437d30>"
            ],
            "text/html": [
              "\n",
              "            <div>\n",
              "                <p><b>SparkSession - in-memory</b></p>\n",
              "                \n",
              "        <div>\n",
              "            <p><b>SparkContext</b></p>\n",
              "\n",
              "            <p><a href=\"http://04fe8f997205:4040\">Spark UI</a></p>\n",
              "\n",
              "            <dl>\n",
              "              <dt>Version</dt>\n",
              "                <dd><code>v3.4.0</code></dd>\n",
              "              <dt>Master</dt>\n",
              "                <dd><code>local[*]</code></dd>\n",
              "              <dt>AppName</dt>\n",
              "                <dd><code>pyspark-shell</code></dd>\n",
              "            </dl>\n",
              "        </div>\n",
              "        \n",
              "            </div>\n",
              "        "
            ]
          },
          "metadata": {},
          "execution_count": 6
        }
      ]
    },
    {
      "cell_type": "code",
      "source": [
        "sqlContext"
      ],
      "metadata": {
        "id": "nnNLRADJrlYx",
        "outputId": "58af7c4a-a85f-46b4-c168-af256847c01c",
        "colab": {
          "base_uri": "https://localhost:8080/"
        }
      },
      "execution_count": null,
      "outputs": [
        {
          "output_type": "execute_result",
          "data": {
            "text/plain": [
              "<pyspark.sql.context.SQLContext at 0x7fbee0377940>"
            ]
          },
          "metadata": {},
          "execution_count": 7
        }
      ]
    },
    {
      "cell_type": "code",
      "execution_count": null,
      "metadata": {
        "id": "08dooI3n7FuV"
      },
      "outputs": [],
      "source": [
        "import re\n",
        "import pandas as pd"
      ]
    },
    {
      "cell_type": "markdown",
      "metadata": {
        "id": "s7XZXHat7FuV"
      },
      "source": [
        "## Basic Regular Expressions"
      ]
    },
    {
      "cell_type": "code",
      "execution_count": null,
      "metadata": {
        "id": "SupiOwiz7FuV",
        "outputId": "2494653a-f657-4ae9-a2ab-46aca19194b8",
        "colab": {
          "base_uri": "https://localhost:8080/"
        }
      },
      "outputs": [
        {
          "output_type": "stream",
          "name": "stdout",
          "text": [
            "<re.Match object; span=(0, 25), match=\"I'm searching for a spark\"> 0 25\n",
            "<re.Match object; span=(25, 36), match=' in PySpark'> 25 36\n"
          ]
        }
      ],
      "source": [
        "m = re.finditer(r'.*?(spark).*?', \"I'm searching for a spark in PySpark\", re.I)\n",
        "for match in m:\n",
        "    print(match, match.start(), match.end())"
      ]
    },
    {
      "cell_type": "markdown",
      "metadata": {
        "id": "PMDSrLxO7FuW"
      },
      "source": [
        "- Jul 01 to Jul 31, ASCII format, 20.7 MB gzip compressed, 205.2 MB uncompressed: [ftp://ita.ee.lbl.gov/traces/NASA_access_log_Jul95.gz](ftp://ita.ee.lbl.gov/traces/NASA_access_log_Jul95.gz)\n",
        "- Aug 04 to Aug 31, ASCII format, 21.8 MB gzip compressed, 167.8 MB uncompressed: [ftp://ita.ee.lbl.gov/traces/NASA_access_log_Aug95.gz](ftp://ita.ee.lbl.gov/traces/NASA_access_log_Aug95.gz)\n",
        "\n",
        "Make sure both the files are in the same directory as this notebook."
      ]
    },
    {
      "cell_type": "markdown",
      "metadata": {
        "id": "8SIU91l17FuW"
      },
      "source": [
        "# Loading and Viewing the NASA Log Dataset\n",
        "\n",
        "This will produce a DataFrame with a single string column called `value`."
      ]
    },
    {
      "cell_type": "code",
      "execution_count": null,
      "metadata": {
        "id": "8PUj06pc7FuW",
        "outputId": "1d15ddb0-1909-4d23-c513-ef6c5af281ef",
        "colab": {
          "base_uri": "https://localhost:8080/"
        }
      },
      "outputs": [
        {
          "output_type": "execute_result",
          "data": {
            "text/plain": [
              "['NASA_access_log_Aug95.gz', 'NASA_access_log_Jul95.gz']"
            ]
          },
          "metadata": {},
          "execution_count": 10
        }
      ],
      "source": [
        "import glob\n",
        "\n",
        "raw_data_files = glob.glob('*.gz')\n",
        "raw_data_files"
      ]
    },
    {
      "cell_type": "markdown",
      "metadata": {
        "id": "vHMyTqyn7FuX"
      },
      "source": [
        "### Metadata of dataframe"
      ]
    },
    {
      "cell_type": "code",
      "execution_count": null,
      "metadata": {
        "id": "Cg5PRli17FuX",
        "outputId": "c0fc390f-a021-4bfb-cc40-53433fb1dfe8",
        "colab": {
          "base_uri": "https://localhost:8080/"
        }
      },
      "outputs": [
        {
          "output_type": "stream",
          "name": "stdout",
          "text": [
            "root\n",
            " |-- value: string (nullable = true)\n",
            "\n"
          ]
        }
      ],
      "source": [
        "base_df = spark.read.text(raw_data_files)\n",
        "base_df.printSchema()"
      ]
    },
    {
      "cell_type": "code",
      "execution_count": null,
      "metadata": {
        "id": "Cq7b6Hcy7FuX",
        "outputId": "ac7acecd-a762-4ca5-f631-83a279e6801e",
        "colab": {
          "base_uri": "https://localhost:8080/"
        }
      },
      "outputs": [
        {
          "output_type": "execute_result",
          "data": {
            "text/plain": [
              "pyspark.sql.dataframe.DataFrame"
            ]
          },
          "metadata": {},
          "execution_count": 12
        }
      ],
      "source": [
        "type(base_df)"
      ]
    },
    {
      "cell_type": "markdown",
      "metadata": {
        "id": "MGCftH7T7FuX"
      },
      "source": [
        "Convert a dataframe to an RDD if needed"
      ]
    },
    {
      "cell_type": "code",
      "execution_count": null,
      "metadata": {
        "id": "lJbCca9g7FuX",
        "outputId": "4d637fdd-421f-4702-a098-560c9dee563b",
        "colab": {
          "base_uri": "https://localhost:8080/"
        }
      },
      "outputs": [
        {
          "output_type": "execute_result",
          "data": {
            "text/plain": [
              "pyspark.rdd.RDD"
            ]
          },
          "metadata": {},
          "execution_count": 13
        }
      ],
      "source": [
        "base_df_rdd = base_df.rdd\n",
        "type(base_df_rdd)"
      ]
    },
    {
      "cell_type": "markdown",
      "metadata": {
        "id": "d_TZEzAA7FuX"
      },
      "source": [
        "### Viewing sample data in our dataframe"
      ]
    },
    {
      "cell_type": "code",
      "execution_count": null,
      "metadata": {
        "id": "clKqKj387FuY",
        "outputId": "95fcc441-0720-4234-a662-f11e27f72e3c",
        "colab": {
          "base_uri": "https://localhost:8080/"
        }
      },
      "outputs": [
        {
          "output_type": "stream",
          "name": "stdout",
          "text": [
            "+-----------------------------------------------------------------------------------------------------------------------+\n",
            "|value                                                                                                                  |\n",
            "+-----------------------------------------------------------------------------------------------------------------------+\n",
            "|199.72.81.55 - - [01/Jul/1995:00:00:01 -0400] \"GET /history/apollo/ HTTP/1.0\" 200 6245                                 |\n",
            "|unicomp6.unicomp.net - - [01/Jul/1995:00:00:06 -0400] \"GET /shuttle/countdown/ HTTP/1.0\" 200 3985                      |\n",
            "|199.120.110.21 - - [01/Jul/1995:00:00:09 -0400] \"GET /shuttle/missions/sts-73/mission-sts-73.html HTTP/1.0\" 200 4085   |\n",
            "|burger.letters.com - - [01/Jul/1995:00:00:11 -0400] \"GET /shuttle/countdown/liftoff.html HTTP/1.0\" 304 0               |\n",
            "|199.120.110.21 - - [01/Jul/1995:00:00:11 -0400] \"GET /shuttle/missions/sts-73/sts-73-patch-small.gif HTTP/1.0\" 200 4179|\n",
            "|burger.letters.com - - [01/Jul/1995:00:00:12 -0400] \"GET /images/NASA-logosmall.gif HTTP/1.0\" 304 0                    |\n",
            "|burger.letters.com - - [01/Jul/1995:00:00:12 -0400] \"GET /shuttle/countdown/video/livevideo.gif HTTP/1.0\" 200 0        |\n",
            "|205.212.115.106 - - [01/Jul/1995:00:00:12 -0400] \"GET /shuttle/countdown/countdown.html HTTP/1.0\" 200 3985             |\n",
            "|d104.aa.net - - [01/Jul/1995:00:00:13 -0400] \"GET /shuttle/countdown/ HTTP/1.0\" 200 3985                               |\n",
            "|129.94.144.152 - - [01/Jul/1995:00:00:13 -0400] \"GET / HTTP/1.0\" 200 7074                                              |\n",
            "+-----------------------------------------------------------------------------------------------------------------------+\n",
            "only showing top 10 rows\n",
            "\n"
          ]
        }
      ],
      "source": [
        "base_df.show(10, truncate=False)"
      ]
    },
    {
      "cell_type": "code",
      "execution_count": null,
      "metadata": {
        "id": "p6xRQBld7FuY",
        "outputId": "335e88a8-e5e5-4fc8-ef5b-b4cfd5d9c67e",
        "colab": {
          "base_uri": "https://localhost:8080/"
        }
      },
      "outputs": [
        {
          "output_type": "execute_result",
          "data": {
            "text/plain": [
              "[Row(value='199.72.81.55 - - [01/Jul/1995:00:00:01 -0400] \"GET /history/apollo/ HTTP/1.0\" 200 6245'),\n",
              " Row(value='unicomp6.unicomp.net - - [01/Jul/1995:00:00:06 -0400] \"GET /shuttle/countdown/ HTTP/1.0\" 200 3985'),\n",
              " Row(value='199.120.110.21 - - [01/Jul/1995:00:00:09 -0400] \"GET /shuttle/missions/sts-73/mission-sts-73.html HTTP/1.0\" 200 4085'),\n",
              " Row(value='burger.letters.com - - [01/Jul/1995:00:00:11 -0400] \"GET /shuttle/countdown/liftoff.html HTTP/1.0\" 304 0'),\n",
              " Row(value='199.120.110.21 - - [01/Jul/1995:00:00:11 -0400] \"GET /shuttle/missions/sts-73/sts-73-patch-small.gif HTTP/1.0\" 200 4179'),\n",
              " Row(value='burger.letters.com - - [01/Jul/1995:00:00:12 -0400] \"GET /images/NASA-logosmall.gif HTTP/1.0\" 304 0'),\n",
              " Row(value='burger.letters.com - - [01/Jul/1995:00:00:12 -0400] \"GET /shuttle/countdown/video/livevideo.gif HTTP/1.0\" 200 0'),\n",
              " Row(value='205.212.115.106 - - [01/Jul/1995:00:00:12 -0400] \"GET /shuttle/countdown/countdown.html HTTP/1.0\" 200 3985'),\n",
              " Row(value='d104.aa.net - - [01/Jul/1995:00:00:13 -0400] \"GET /shuttle/countdown/ HTTP/1.0\" 200 3985'),\n",
              " Row(value='129.94.144.152 - - [01/Jul/1995:00:00:13 -0400] \"GET / HTTP/1.0\" 200 7074')]"
            ]
          },
          "metadata": {},
          "execution_count": 15
        }
      ],
      "source": [
        "base_df_rdd.take(10)"
      ]
    },
    {
      "cell_type": "markdown",
      "metadata": {
        "id": "EDtl45uO7FuY"
      },
      "source": [
        "# Data Wrangling\n",
        "Clean and parse dataset to extract structured attributes with meaningful information from each log message.\n"
      ]
    },
    {
      "cell_type": "markdown",
      "metadata": {
        "id": "LEH5ZjM77FuY"
      },
      "source": [
        "## Data Parsing and Extraction with Regular Expressions\n"
      ]
    },
    {
      "cell_type": "code",
      "execution_count": null,
      "metadata": {
        "id": "kkwfF2_47FuZ",
        "outputId": "d83cee31-2604-4473-9864-a1187db7ca9f",
        "colab": {
          "base_uri": "https://localhost:8080/"
        }
      },
      "outputs": [
        {
          "output_type": "stream",
          "name": "stdout",
          "text": [
            "(3461613, 1)\n"
          ]
        }
      ],
      "source": [
        "print((base_df.count(), len(base_df.columns)))"
      ]
    },
    {
      "cell_type": "markdown",
      "metadata": {
        "id": "tvgd_WS07FuZ"
      },
      "source": [
        "Sample log messages"
      ]
    },
    {
      "cell_type": "code",
      "execution_count": null,
      "metadata": {
        "id": "pX4WSaqj7FuZ",
        "outputId": "083dca79-1515-42b0-9e13-26cda552b57e",
        "colab": {
          "base_uri": "https://localhost:8080/"
        }
      },
      "outputs": [
        {
          "output_type": "execute_result",
          "data": {
            "text/plain": [
              "['199.72.81.55 - - [01/Jul/1995:00:00:01 -0400] \"GET /history/apollo/ HTTP/1.0\" 200 6245',\n",
              " 'unicomp6.unicomp.net - - [01/Jul/1995:00:00:06 -0400] \"GET /shuttle/countdown/ HTTP/1.0\" 200 3985',\n",
              " '199.120.110.21 - - [01/Jul/1995:00:00:09 -0400] \"GET /shuttle/missions/sts-73/mission-sts-73.html HTTP/1.0\" 200 4085',\n",
              " 'burger.letters.com - - [01/Jul/1995:00:00:11 -0400] \"GET /shuttle/countdown/liftoff.html HTTP/1.0\" 304 0',\n",
              " '199.120.110.21 - - [01/Jul/1995:00:00:11 -0400] \"GET /shuttle/missions/sts-73/sts-73-patch-small.gif HTTP/1.0\" 200 4179',\n",
              " 'burger.letters.com - - [01/Jul/1995:00:00:12 -0400] \"GET /images/NASA-logosmall.gif HTTP/1.0\" 304 0',\n",
              " 'burger.letters.com - - [01/Jul/1995:00:00:12 -0400] \"GET /shuttle/countdown/video/livevideo.gif HTTP/1.0\" 200 0',\n",
              " '205.212.115.106 - - [01/Jul/1995:00:00:12 -0400] \"GET /shuttle/countdown/countdown.html HTTP/1.0\" 200 3985',\n",
              " 'd104.aa.net - - [01/Jul/1995:00:00:13 -0400] \"GET /shuttle/countdown/ HTTP/1.0\" 200 3985',\n",
              " '129.94.144.152 - - [01/Jul/1995:00:00:13 -0400] \"GET / HTTP/1.0\" 200 7074',\n",
              " 'unicomp6.unicomp.net - - [01/Jul/1995:00:00:14 -0400] \"GET /shuttle/countdown/count.gif HTTP/1.0\" 200 40310',\n",
              " 'unicomp6.unicomp.net - - [01/Jul/1995:00:00:14 -0400] \"GET /images/NASA-logosmall.gif HTTP/1.0\" 200 786',\n",
              " 'unicomp6.unicomp.net - - [01/Jul/1995:00:00:14 -0400] \"GET /images/KSC-logosmall.gif HTTP/1.0\" 200 1204',\n",
              " 'd104.aa.net - - [01/Jul/1995:00:00:15 -0400] \"GET /shuttle/countdown/count.gif HTTP/1.0\" 200 40310',\n",
              " 'd104.aa.net - - [01/Jul/1995:00:00:15 -0400] \"GET /images/NASA-logosmall.gif HTTP/1.0\" 200 786']"
            ]
          },
          "metadata": {},
          "execution_count": 82
        }
      ],
      "source": [
        "sample_logs = [item['value'] for item in base_df.take(15)]\n",
        "sample_logs"
      ]
    },
    {
      "cell_type": "markdown",
      "metadata": {
        "id": "ounDeHjG7FuZ"
      },
      "source": [
        "### Extracting host names\n"
      ]
    },
    {
      "cell_type": "code",
      "execution_count": null,
      "metadata": {
        "id": "knb8xfdd7FuZ",
        "outputId": "c5ab5cfb-202d-4b42-83e0-65729353a030",
        "colab": {
          "base_uri": "https://localhost:8080/"
        }
      },
      "outputs": [
        {
          "output_type": "execute_result",
          "data": {
            "text/plain": [
              "['199.72.81.55',\n",
              " 'unicomp6.unicomp.net',\n",
              " '199.120.110.21',\n",
              " 'burger.letters.com',\n",
              " '199.120.110.21',\n",
              " 'burger.letters.com',\n",
              " 'burger.letters.com',\n",
              " '205.212.115.106',\n",
              " 'd104.aa.net',\n",
              " '129.94.144.152',\n",
              " 'unicomp6.unicomp.net',\n",
              " 'unicomp6.unicomp.net',\n",
              " 'unicomp6.unicomp.net',\n",
              " 'd104.aa.net',\n",
              " 'd104.aa.net']"
            ]
          },
          "metadata": {},
          "execution_count": 83
        }
      ],
      "source": [
        "host_pattern = r'(^\\S+\\.[\\S+\\.]+\\S+)\\s'\n",
        "hosts = [re.search(host_pattern, item).group(1)\n",
        "           if re.search(host_pattern, item)\n",
        "           else 'no match'\n",
        "           for item in sample_logs]\n",
        "hosts"
      ]
    },
    {
      "cell_type": "markdown",
      "metadata": {
        "id": "bKi4CSgH7Fua"
      },
      "source": [
        "### Extracting timestamps "
      ]
    },
    {
      "cell_type": "code",
      "execution_count": null,
      "metadata": {
        "id": "nPsqaxlU7Fua",
        "outputId": "381372f1-8f79-4f1f-8722-c96396fdb05e",
        "colab": {
          "base_uri": "https://localhost:8080/"
        }
      },
      "outputs": [
        {
          "output_type": "execute_result",
          "data": {
            "text/plain": [
              "['01/Jul/1995:00:00:01 -0400',\n",
              " '01/Jul/1995:00:00:06 -0400',\n",
              " '01/Jul/1995:00:00:09 -0400',\n",
              " '01/Jul/1995:00:00:11 -0400',\n",
              " '01/Jul/1995:00:00:11 -0400',\n",
              " '01/Jul/1995:00:00:12 -0400',\n",
              " '01/Jul/1995:00:00:12 -0400',\n",
              " '01/Jul/1995:00:00:12 -0400',\n",
              " '01/Jul/1995:00:00:13 -0400',\n",
              " '01/Jul/1995:00:00:13 -0400',\n",
              " '01/Jul/1995:00:00:14 -0400',\n",
              " '01/Jul/1995:00:00:14 -0400',\n",
              " '01/Jul/1995:00:00:14 -0400',\n",
              " '01/Jul/1995:00:00:15 -0400',\n",
              " '01/Jul/1995:00:00:15 -0400']"
            ]
          },
          "metadata": {},
          "execution_count": 84
        }
      ],
      "source": [
        "ts_pattern = r'\\[(\\d{2}/\\w{3}/\\d{4}:\\d{2}:\\d{2}:\\d{2} -\\d{4})]'\n",
        "timestamps = [re.search(ts_pattern, item).group(1) for item in sample_logs]\n",
        "timestamps"
      ]
    },
    {
      "cell_type": "markdown",
      "metadata": {
        "id": "Yvy7pQWK7Fua"
      },
      "source": [
        "### Extracting HTTP Request Method, URIs and Protocol "
      ]
    },
    {
      "cell_type": "code",
      "execution_count": null,
      "metadata": {
        "id": "pefn8dF47Fua",
        "outputId": "f721062d-541d-4232-b909-15a45218cbc4",
        "colab": {
          "base_uri": "https://localhost:8080/"
        }
      },
      "outputs": [
        {
          "output_type": "execute_result",
          "data": {
            "text/plain": [
              "[('GET', '/history/apollo/', 'HTTP/1.0'),\n",
              " ('GET', '/shuttle/countdown/', 'HTTP/1.0'),\n",
              " ('GET', '/shuttle/missions/sts-73/mission-sts-73.html', 'HTTP/1.0'),\n",
              " ('GET', '/shuttle/countdown/liftoff.html', 'HTTP/1.0'),\n",
              " ('GET', '/shuttle/missions/sts-73/sts-73-patch-small.gif', 'HTTP/1.0'),\n",
              " ('GET', '/images/NASA-logosmall.gif', 'HTTP/1.0'),\n",
              " ('GET', '/shuttle/countdown/video/livevideo.gif', 'HTTP/1.0'),\n",
              " ('GET', '/shuttle/countdown/countdown.html', 'HTTP/1.0'),\n",
              " ('GET', '/shuttle/countdown/', 'HTTP/1.0'),\n",
              " ('GET', '/', 'HTTP/1.0'),\n",
              " ('GET', '/shuttle/countdown/count.gif', 'HTTP/1.0'),\n",
              " ('GET', '/images/NASA-logosmall.gif', 'HTTP/1.0'),\n",
              " ('GET', '/images/KSC-logosmall.gif', 'HTTP/1.0'),\n",
              " ('GET', '/shuttle/countdown/count.gif', 'HTTP/1.0'),\n",
              " ('GET', '/images/NASA-logosmall.gif', 'HTTP/1.0')]"
            ]
          },
          "metadata": {},
          "execution_count": 85
        }
      ],
      "source": [
        "method_uri_protocol_pattern = r'\\\"(\\S+)\\s(\\S+)\\s*(\\S*)\\\"'\n",
        "method_uri_protocol = [re.search(method_uri_protocol_pattern, item).groups()\n",
        "               if re.search(method_uri_protocol_pattern, item)\n",
        "               else 'no match'\n",
        "              for item in sample_logs]\n",
        "method_uri_protocol"
      ]
    },
    {
      "cell_type": "markdown",
      "metadata": {
        "id": "qMORcE8l7Fua"
      },
      "source": [
        "### Extracting HTTP Status Codes\n"
      ]
    },
    {
      "cell_type": "code",
      "execution_count": null,
      "metadata": {
        "id": "CDoOb7b07Fua",
        "outputId": "dc9cc458-d15f-4b75-f251-196dec4e57ba",
        "colab": {
          "base_uri": "https://localhost:8080/"
        }
      },
      "outputs": [
        {
          "output_type": "stream",
          "name": "stdout",
          "text": [
            "['200', '200', '200', '304', '200', '304', '200', '200', '200', '200', '200', '200', '200', '200', '200']\n"
          ]
        }
      ],
      "source": [
        "status_pattern = r'\\s(\\d{3})\\s'\n",
        "status = [re.search(status_pattern, item).group(1) for item in sample_logs]\n",
        "print(status)"
      ]
    },
    {
      "cell_type": "markdown",
      "metadata": {
        "id": "CiJsNioy7Fua"
      },
      "source": [
        "### Extracting HTTP Response Content Size"
      ]
    },
    {
      "cell_type": "code",
      "execution_count": null,
      "metadata": {
        "id": "msrgtKUH7Fua",
        "outputId": "39686e27-2b8c-411e-8034-568be861e3e8",
        "colab": {
          "base_uri": "https://localhost:8080/"
        }
      },
      "outputs": [
        {
          "output_type": "stream",
          "name": "stdout",
          "text": [
            "['6245', '3985', '4085', '0', '4179', '0', '0', '3985', '3985', '7074', '40310', '786', '1204', '40310', '786']\n"
          ]
        }
      ],
      "source": [
        "content_size_pattern = r'\\s(\\d+)$'\n",
        "content_size = [re.search(content_size_pattern, item).group(1) for item in sample_logs]\n",
        "print(content_size)"
      ]
    },
    {
      "cell_type": "markdown",
      "metadata": {
        "id": "qh3IatU_7Fub"
      },
      "source": [
        "## Log Extraction (putting it all together)"
      ]
    },
    {
      "cell_type": "code",
      "execution_count": null,
      "metadata": {
        "id": "14-0otQj7Fub",
        "outputId": "78d7fee6-8869-473c-f976-5900602a85f0",
        "colab": {
          "base_uri": "https://localhost:8080/"
        }
      },
      "outputs": [
        {
          "output_type": "stream",
          "name": "stdout",
          "text": [
            "+--------------------+--------------------+------+--------------------+--------+------+------------+\n",
            "|                host|           timestamp|method|            endpoint|protocol|status|content_size|\n",
            "+--------------------+--------------------+------+--------------------+--------+------+------------+\n",
            "|        199.72.81.55|01/Jul/1995:00:00...|   GET|    /history/apollo/|HTTP/1.0|   200|        6245|\n",
            "|unicomp6.unicomp.net|01/Jul/1995:00:00...|   GET| /shuttle/countdown/|HTTP/1.0|   200|        3985|\n",
            "|      199.120.110.21|01/Jul/1995:00:00...|   GET|/shuttle/missions...|HTTP/1.0|   200|        4085|\n",
            "|  burger.letters.com|01/Jul/1995:00:00...|   GET|/shuttle/countdow...|HTTP/1.0|   304|           0|\n",
            "|      199.120.110.21|01/Jul/1995:00:00...|   GET|/shuttle/missions...|HTTP/1.0|   200|        4179|\n",
            "|  burger.letters.com|01/Jul/1995:00:00...|   GET|/images/NASA-logo...|HTTP/1.0|   304|           0|\n",
            "|  burger.letters.com|01/Jul/1995:00:00...|   GET|/shuttle/countdow...|HTTP/1.0|   200|           0|\n",
            "|     205.212.115.106|01/Jul/1995:00:00...|   GET|/shuttle/countdow...|HTTP/1.0|   200|        3985|\n",
            "|         d104.aa.net|01/Jul/1995:00:00...|   GET| /shuttle/countdown/|HTTP/1.0|   200|        3985|\n",
            "|      129.94.144.152|01/Jul/1995:00:00...|   GET|                   /|HTTP/1.0|   200|        7074|\n",
            "+--------------------+--------------------+------+--------------------+--------+------+------------+\n",
            "only showing top 10 rows\n",
            "\n",
            "(3461613, 7)\n"
          ]
        }
      ],
      "source": [
        "from pyspark.sql.functions import regexp_extract\n",
        "\n",
        "logs_df = base_df.select(regexp_extract('value', host_pattern, 1).alias('host'),\n",
        "                         regexp_extract('value', ts_pattern, 1).alias('timestamp'),\n",
        "                         regexp_extract('value', method_uri_protocol_pattern, 1).alias('method'),\n",
        "                         regexp_extract('value', method_uri_protocol_pattern, 2).alias('endpoint'),\n",
        "                         regexp_extract('value', method_uri_protocol_pattern, 3).alias('protocol'),\n",
        "                         regexp_extract('value', status_pattern, 1).cast('integer').alias('status'),\n",
        "                         regexp_extract('value', content_size_pattern, 1).cast('integer').alias('content_size'))\n",
        "logs_df.show(10, truncate=True)\n",
        "print((logs_df.count(), len(logs_df.columns)))"
      ]
    },
    {
      "cell_type": "markdown",
      "metadata": {
        "id": "zHmZm0St7Fub"
      },
      "source": [
        "## Finding Missing Values"
      ]
    },
    {
      "cell_type": "code",
      "execution_count": null,
      "metadata": {
        "id": "kKijxMau7Fub",
        "outputId": "c7c62e7f-f591-45a3-9759-651f80d423b7",
        "colab": {
          "base_uri": "https://localhost:8080/"
        }
      },
      "outputs": [
        {
          "output_type": "execute_result",
          "data": {
            "text/plain": [
              "0"
            ]
          },
          "metadata": {},
          "execution_count": 89
        }
      ],
      "source": [
        "(base_df\n",
        "    .filter(base_df['value']\n",
        "                .isNull())\n",
        "    .count())"
      ]
    },
    {
      "cell_type": "markdown",
      "metadata": {
        "id": "wPWXV7Sy7Fug"
      },
      "source": [
        "We should not have any rows with potential null values"
      ]
    },
    {
      "cell_type": "code",
      "execution_count": null,
      "metadata": {
        "id": "PnPTZwHY7Fug",
        "outputId": "5da38cea-1d05-4a40-fa96-c188203380c1",
        "colab": {
          "base_uri": "https://localhost:8080/"
        }
      },
      "outputs": [
        {
          "output_type": "execute_result",
          "data": {
            "text/plain": [
              "33905"
            ]
          },
          "metadata": {},
          "execution_count": 90
        }
      ],
      "source": [
        "bad_rows_df = logs_df.filter(logs_df['host'].isNull()| \n",
        "                             logs_df['timestamp'].isNull() | \n",
        "                             logs_df['method'].isNull() |\n",
        "                             logs_df['endpoint'].isNull() |\n",
        "                             logs_df['status'].isNull() |\n",
        "                             logs_df['content_size'].isNull()|\n",
        "                             logs_df['protocol'].isNull())\n",
        "bad_rows_df.count()"
      ]
    },
    {
      "cell_type": "markdown",
      "metadata": {
        "id": "-Wx2_jJF7Fuh"
      },
      "source": [
        "__Note:__ :  _big dataset_ is residing on disk which can potentially be present in multiple nodes in a spark cluster."
      ]
    },
    {
      "cell_type": "markdown",
      "metadata": {
        "id": "OpTanDIr7Fuh"
      },
      "source": [
        "### Finding Null Counts\n"
      ]
    },
    {
      "cell_type": "code",
      "execution_count": null,
      "metadata": {
        "id": "1ec2MHM_7Fuh",
        "outputId": "604eb8a2-08b2-44d7-b5c0-b26e6c3fa0b3",
        "colab": {
          "base_uri": "https://localhost:8080/"
        }
      },
      "outputs": [
        {
          "output_type": "execute_result",
          "data": {
            "text/plain": [
              "['host',\n",
              " 'timestamp',\n",
              " 'method',\n",
              " 'endpoint',\n",
              " 'protocol',\n",
              " 'status',\n",
              " 'content_size']"
            ]
          },
          "metadata": {},
          "execution_count": 91
        }
      ],
      "source": [
        "logs_df.columns"
      ]
    },
    {
      "cell_type": "code",
      "execution_count": null,
      "metadata": {
        "id": "pW3lPpEY7Fuh",
        "outputId": "01533ed9-858a-4b26-a8f4-13abc4f0c9bf",
        "colab": {
          "base_uri": "https://localhost:8080/"
        }
      },
      "outputs": [
        {
          "output_type": "stream",
          "name": "stdout",
          "text": [
            "+----+---------+------+--------+--------+------+------------+\n",
            "|host|timestamp|method|endpoint|protocol|status|content_size|\n",
            "+----+---------+------+--------+--------+------+------------+\n",
            "|   0|        0|     0|       0|       0|     1|       33905|\n",
            "+----+---------+------+--------+--------+------+------------+\n",
            "\n"
          ]
        }
      ],
      "source": [
        "from pyspark.sql.functions import col\n",
        "from pyspark.sql.functions import sum as spark_sum\n",
        "\n",
        "def count_null(col_name):\n",
        "    return spark_sum(col(col_name).isNull().cast('integer')).alias(col_name)\n",
        "\n",
        "# Build up a list of column expressions, one per column.\n",
        "exprs = [count_null(col_name) for col_name in logs_df.columns]\n",
        "\n",
        "# Run the aggregation. The *exprs converts the list of expressions into\n",
        "# variable function arguments.\n",
        "logs_df.agg(*exprs).show()"
      ]
    },
    {
      "cell_type": "markdown",
      "metadata": {
        "id": "aREyPJb07Fuh"
      },
      "source": [
        "- One missing value in the `status` column \n",
        "- rest 33905 missing value is in the `content_size` column. "
      ]
    },
    {
      "cell_type": "markdown",
      "metadata": {
        "id": "8prn0Kzt7Fuh"
      },
      "source": [
        "### Handling nulls in HTTP status\n"
      ]
    },
    {
      "cell_type": "code",
      "execution_count": null,
      "metadata": {
        "id": "wXxEzJNA7Fuh",
        "outputId": "7188f337-109f-4196-ea92-88dcf9c848b8",
        "colab": {
          "base_uri": "https://localhost:8080/"
        }
      },
      "outputs": [
        {
          "output_type": "execute_result",
          "data": {
            "text/plain": [
              "1"
            ]
          },
          "metadata": {},
          "execution_count": 93
        }
      ],
      "source": [
        "null_status_df = base_df.filter(~base_df['value'].rlike(r'\\s(\\d{3})\\s'))\n",
        "null_status_df.count()"
      ]
    },
    {
      "cell_type": "code",
      "execution_count": null,
      "metadata": {
        "id": "WDPt9hoa7Fuh",
        "outputId": "1d82d3ca-e0f8-4b0f-e8cc-8793021b336c",
        "colab": {
          "base_uri": "https://localhost:8080/"
        }
      },
      "outputs": [
        {
          "output_type": "stream",
          "name": "stdout",
          "text": [
            "+--------+\n",
            "|value   |\n",
            "+--------+\n",
            "|alyssa.p|\n",
            "+--------+\n",
            "\n"
          ]
        }
      ],
      "source": [
        "null_status_df.show(truncate=False)"
      ]
    },
    {
      "cell_type": "code",
      "execution_count": null,
      "metadata": {
        "id": "bnz0SV8A7Fui",
        "outputId": "07154422-8883-4999-cd57-96ede677b3e3",
        "colab": {
          "base_uri": "https://localhost:8080/"
        }
      },
      "outputs": [
        {
          "output_type": "stream",
          "name": "stdout",
          "text": [
            "+----+---------+------+--------+--------+------+------------+\n",
            "|host|timestamp|method|endpoint|protocol|status|content_size|\n",
            "+----+---------+------+--------+--------+------+------------+\n",
            "|    |         |      |        |        |null  |null        |\n",
            "+----+---------+------+--------+--------+------+------------+\n",
            "\n"
          ]
        }
      ],
      "source": [
        "bad_status_df = null_status_df.select(regexp_extract('value', host_pattern, 1).alias('host'),\n",
        "                                      regexp_extract('value', ts_pattern, 1).alias('timestamp'),\n",
        "                                      regexp_extract('value', method_uri_protocol_pattern, 1).alias('method'),\n",
        "                                      regexp_extract('value', method_uri_protocol_pattern, 2).alias('endpoint'),\n",
        "                                      regexp_extract('value', method_uri_protocol_pattern, 3).alias('protocol'),\n",
        "                                      regexp_extract('value', status_pattern, 1).cast('integer').alias('status'),\n",
        "                                      regexp_extract('value', content_size_pattern, 1).cast('integer').alias('content_size'))\n",
        "bad_status_df.show(truncate=False)"
      ]
    },
    {
      "cell_type": "markdown",
      "metadata": {
        "id": "WipL0r-I7Fui"
      },
      "source": [
        "Drop this record."
      ]
    },
    {
      "cell_type": "code",
      "execution_count": null,
      "metadata": {
        "id": "7UFcErxa7Fui",
        "outputId": "71cea42d-27c9-4fcb-dcf6-ddd461c705fd",
        "colab": {
          "base_uri": "https://localhost:8080/"
        }
      },
      "outputs": [
        {
          "output_type": "execute_result",
          "data": {
            "text/plain": [
              "3461613"
            ]
          },
          "metadata": {},
          "execution_count": 96
        }
      ],
      "source": [
        "logs_df.count()"
      ]
    },
    {
      "cell_type": "code",
      "execution_count": null,
      "metadata": {
        "id": "sfJimTyL7Fui",
        "outputId": "a8e831c4-4637-41b3-ce87-4a86cf4b02a5",
        "colab": {
          "base_uri": "https://localhost:8080/"
        }
      },
      "outputs": [
        {
          "output_type": "execute_result",
          "data": {
            "text/plain": [
              "3461612"
            ]
          },
          "metadata": {},
          "execution_count": 97
        }
      ],
      "source": [
        "logs_df = logs_df[logs_df['status'].isNotNull()] \n",
        "logs_df.count()"
      ]
    },
    {
      "cell_type": "code",
      "execution_count": null,
      "metadata": {
        "id": "s51EpSzG7Fui",
        "outputId": "e7bc10ab-6556-470a-99de-67fdc124d19f",
        "colab": {
          "base_uri": "https://localhost:8080/"
        }
      },
      "outputs": [
        {
          "output_type": "stream",
          "name": "stdout",
          "text": [
            "+----+---------+------+--------+--------+------+------------+\n",
            "|host|timestamp|method|endpoint|protocol|status|content_size|\n",
            "+----+---------+------+--------+--------+------+------------+\n",
            "|   0|        0|     0|       0|       0|     0|       33904|\n",
            "+----+---------+------+--------+--------+------+------------+\n",
            "\n"
          ]
        }
      ],
      "source": [
        "exprs = [count_null(col_name) for col_name in logs_df.columns]\n",
        "logs_df.agg(*exprs).show()"
      ]
    },
    {
      "cell_type": "markdown",
      "metadata": {
        "id": "UJ_ljSAR7Fui"
      },
      "source": [
        "### Handling nulls in HTTP content size\n"
      ]
    },
    {
      "cell_type": "markdown",
      "metadata": {
        "id": "sghhD9wE7Fui"
      },
      "source": [
        "#### Find out the records in our base data frame with potential missing content sizes"
      ]
    },
    {
      "cell_type": "code",
      "execution_count": null,
      "metadata": {
        "id": "7KB-rMhM7Fui",
        "outputId": "4bf61bf8-93bd-41cf-df42-2eea63590cb3",
        "colab": {
          "base_uri": "https://localhost:8080/"
        }
      },
      "outputs": [
        {
          "output_type": "execute_result",
          "data": {
            "text/plain": [
              "33905"
            ]
          },
          "metadata": {},
          "execution_count": 99
        }
      ],
      "source": [
        "null_content_size_df = base_df.filter(~base_df['value'].rlike(r'\\s\\d+$'))\n",
        "null_content_size_df.count()"
      ]
    },
    {
      "cell_type": "markdown",
      "metadata": {
        "id": "Pa2OZGjH7Fuj"
      },
      "source": [
        "### Display the top ten records of data frame having missing content sizes"
      ]
    },
    {
      "cell_type": "code",
      "execution_count": null,
      "metadata": {
        "id": "4gzaCyCU7Fuj",
        "outputId": "f62e1adc-efee-4178-e818-0389d835f7a8",
        "colab": {
          "base_uri": "https://localhost:8080/"
        }
      },
      "outputs": [
        {
          "output_type": "execute_result",
          "data": {
            "text/plain": [
              "[Row(value='dd15-062.compuserve.com - - [01/Jul/1995:00:01:12 -0400] \"GET /news/sci.space.shuttle/archive/sci-space-shuttle-22-apr-1995-40.txt HTTP/1.0\" 404 -'),\n",
              " Row(value='dynip42.efn.org - - [01/Jul/1995:00:02:14 -0400] \"GET /software HTTP/1.0\" 302 -'),\n",
              " Row(value='ix-or10-06.ix.netcom.com - - [01/Jul/1995:00:02:40 -0400] \"GET /software/winvn HTTP/1.0\" 302 -'),\n",
              " Row(value='ix-or10-06.ix.netcom.com - - [01/Jul/1995:00:03:24 -0400] \"GET /software HTTP/1.0\" 302 -'),\n",
              " Row(value='link097.txdirect.net - - [01/Jul/1995:00:05:06 -0400] \"GET /shuttle HTTP/1.0\" 302 -'),\n",
              " Row(value='ix-war-mi1-20.ix.netcom.com - - [01/Jul/1995:00:05:13 -0400] \"GET /shuttle/missions/sts-78/news HTTP/1.0\" 302 -'),\n",
              " Row(value='ix-war-mi1-20.ix.netcom.com - - [01/Jul/1995:00:05:58 -0400] \"GET /shuttle/missions/sts-72/news HTTP/1.0\" 302 -'),\n",
              " Row(value='netport-27.iu.net - - [01/Jul/1995:00:10:19 -0400] \"GET /pub/winvn/readme.txt HTTP/1.0\" 404 -'),\n",
              " Row(value='netport-27.iu.net - - [01/Jul/1995:00:10:28 -0400] \"GET /pub/winvn/readme.txt HTTP/1.0\" 404 -'),\n",
              " Row(value='dynip38.efn.org - - [01/Jul/1995:00:10:50 -0400] \"GET /software HTTP/1.0\" 302 -')]"
            ]
          },
          "metadata": {},
          "execution_count": 100
        }
      ],
      "source": [
        "null_content_size_df.take(10)"
      ]
    },
    {
      "cell_type": "markdown",
      "metadata": {
        "id": "8ZOM59rr7Fuj"
      },
      "source": [
        "The bad raw data records correspond to error responses, where no content was sent back and the server emitted a \"`-`\" for the `content_size` field. Let's impute or fill them to 0."
      ]
    },
    {
      "cell_type": "markdown",
      "metadata": {
        "id": "daQfNJlV7Fuj"
      },
      "source": [
        "#### Fix the rows with null content\\_size"
      ]
    },
    {
      "cell_type": "code",
      "execution_count": null,
      "metadata": {
        "collapsed": true,
        "id": "gaLw6e1t7Fuj"
      },
      "outputs": [],
      "source": [
        "logs_df = logs_df.na.fill({'content_size': 0})"
      ]
    },
    {
      "cell_type": "code",
      "execution_count": null,
      "metadata": {
        "id": "6HsjGRj57Fuj",
        "outputId": "98318921-09b6-405a-835b-4fa55a1bf494",
        "colab": {
          "base_uri": "https://localhost:8080/"
        }
      },
      "outputs": [
        {
          "output_type": "stream",
          "name": "stdout",
          "text": [
            "+----+---------+------+--------+--------+------+------------+\n",
            "|host|timestamp|method|endpoint|protocol|status|content_size|\n",
            "+----+---------+------+--------+--------+------+------------+\n",
            "|   0|        0|     0|       0|       0|     0|           0|\n",
            "+----+---------+------+--------+--------+------+------------+\n",
            "\n"
          ]
        }
      ],
      "source": [
        "exprs = [count_null(col_name) for col_name in logs_df.columns]\n",
        "logs_df.agg(*exprs).show()"
      ]
    },
    {
      "cell_type": "markdown",
      "metadata": {
        "id": "cRxehNNK7Fuj"
      },
      "source": [
        "## Handling Temporal Fields (Timestamp)\n",
        "\n",
        "Parse the timestamp field into an actual timestamp."
      ]
    },
    {
      "cell_type": "code",
      "execution_count": null,
      "metadata": {
        "collapsed": true,
        "id": "SSmLBrxc7Fuk"
      },
      "outputs": [],
      "source": [
        "from pyspark.sql.functions import udf\n",
        "\n",
        "month_map = {\n",
        "  'Jan': 1, 'Feb': 2, 'Mar':3, 'Apr':4, 'May':5, 'Jun':6, 'Jul':7,\n",
        "  'Aug':8,  'Sep': 9, 'Oct':10, 'Nov': 11, 'Dec': 12\n",
        "}\n",
        "\n",
        "def parse_clf_time(text):\n",
        "    \"\"\" Convert Common Log time format into a Python datetime object\n",
        "    Args:\n",
        "        text (str): date and time in Apache time format [dd/mmm/yyyy:hh:mm:ss (+/-)zzzz]\n",
        "    Returns:\n",
        "        a string suitable for passing to CAST('timestamp')\n",
        "    \"\"\"\n",
        "    # NOTE: We're ignoring the time zones here, might need to be handled depending on the problem you are solving\n",
        "    return \"{0:04d}-{1:02d}-{2:02d} {3:02d}:{4:02d}:{5:02d}\".format(\n",
        "      int(text[7:11]),\n",
        "      month_map[text[3:6]],\n",
        "      int(text[0:2]),\n",
        "      int(text[12:14]),\n",
        "      int(text[15:17]),\n",
        "      int(text[18:20])\n",
        "    )"
      ]
    },
    {
      "cell_type": "code",
      "execution_count": null,
      "metadata": {
        "id": "TwLG3B5x7Fuk",
        "outputId": "8a011997-3e78-4b9d-9048-269ec3522c41",
        "colab": {
          "base_uri": "https://localhost:8080/"
        }
      },
      "outputs": [
        {
          "output_type": "execute_result",
          "data": {
            "text/plain": [
              "['01/Jul/1995:00:00:01 -0400',\n",
              " '01/Jul/1995:00:00:06 -0400',\n",
              " '01/Jul/1995:00:00:09 -0400',\n",
              " '01/Jul/1995:00:00:11 -0400',\n",
              " '01/Jul/1995:00:00:11 -0400']"
            ]
          },
          "metadata": {},
          "execution_count": 104
        }
      ],
      "source": [
        "sample_ts = [item['timestamp'] for item in logs_df.select('timestamp').take(5)]\n",
        "sample_ts"
      ]
    },
    {
      "cell_type": "code",
      "execution_count": null,
      "metadata": {
        "id": "DraKKaXA7Fuk",
        "outputId": "2d8461bf-d42c-4f74-ba8a-cb3b50e35091",
        "colab": {
          "base_uri": "https://localhost:8080/"
        }
      },
      "outputs": [
        {
          "output_type": "execute_result",
          "data": {
            "text/plain": [
              "['1995-07-01 00:00:01',\n",
              " '1995-07-01 00:00:06',\n",
              " '1995-07-01 00:00:09',\n",
              " '1995-07-01 00:00:11',\n",
              " '1995-07-01 00:00:11']"
            ]
          },
          "metadata": {},
          "execution_count": 105
        }
      ],
      "source": [
        "[parse_clf_time(item) for item in sample_ts]"
      ]
    },
    {
      "cell_type": "code",
      "execution_count": null,
      "metadata": {
        "id": "ZFFkg1MM7Fuk",
        "outputId": "a1bd31fd-f1b6-4d29-c6ee-fa98eeccdf80",
        "colab": {
          "base_uri": "https://localhost:8080/"
        }
      },
      "outputs": [
        {
          "output_type": "stream",
          "name": "stdout",
          "text": [
            "+--------------------+------+--------------------+--------+------+------------+-------------------+\n",
            "|                host|method|            endpoint|protocol|status|content_size|           datetime|\n",
            "+--------------------+------+--------------------+--------+------+------------+-------------------+\n",
            "|        199.72.81.55|   GET|    /history/apollo/|HTTP/1.0|   200|        6245|1995-07-01 00:00:01|\n",
            "|unicomp6.unicomp.net|   GET| /shuttle/countdown/|HTTP/1.0|   200|        3985|1995-07-01 00:00:06|\n",
            "|      199.120.110.21|   GET|/shuttle/missions...|HTTP/1.0|   200|        4085|1995-07-01 00:00:09|\n",
            "|  burger.letters.com|   GET|/shuttle/countdow...|HTTP/1.0|   304|           0|1995-07-01 00:00:11|\n",
            "|      199.120.110.21|   GET|/shuttle/missions...|HTTP/1.0|   200|        4179|1995-07-01 00:00:11|\n",
            "|  burger.letters.com|   GET|/images/NASA-logo...|HTTP/1.0|   304|           0|1995-07-01 00:00:12|\n",
            "|  burger.letters.com|   GET|/shuttle/countdow...|HTTP/1.0|   200|           0|1995-07-01 00:00:12|\n",
            "|     205.212.115.106|   GET|/shuttle/countdow...|HTTP/1.0|   200|        3985|1995-07-01 00:00:12|\n",
            "|         d104.aa.net|   GET| /shuttle/countdown/|HTTP/1.0|   200|        3985|1995-07-01 00:00:13|\n",
            "|      129.94.144.152|   GET|                   /|HTTP/1.0|   200|        7074|1995-07-01 00:00:13|\n",
            "+--------------------+------+--------------------+--------+------+------------+-------------------+\n",
            "only showing top 10 rows\n",
            "\n"
          ]
        }
      ],
      "source": [
        "udf_parse_time = udf(parse_clf_time)\n",
        "\n",
        "logs_df = logs_df.select('*', udf_parse_time(logs_df['timestamp']).cast('timestamp').alias('datetime')).drop('timestamp')\n",
        "logs_df.show(10, truncate=True)"
      ]
    },
    {
      "cell_type": "code",
      "execution_count": null,
      "metadata": {
        "id": "mATK2i8g7Fuk",
        "outputId": "4f947226-5a23-4fea-e56d-7367d2ee39d3",
        "colab": {
          "base_uri": "https://localhost:8080/"
        }
      },
      "outputs": [
        {
          "output_type": "stream",
          "name": "stdout",
          "text": [
            "+--------------------+------+--------------------+--------+------+------------+-------------------+-----------+----+-----+----+----+------+------+\n",
            "|                host|method|            endpoint|protocol|status|content_size|           datetime|day_of_week|year|month|date|hour|minute|second|\n",
            "+--------------------+------+--------------------+--------+------+------------+-------------------+-----------+----+-----+----+----+------+------+\n",
            "|        199.72.81.55|   GET|    /history/apollo/|HTTP/1.0|   200|        6245|1995-07-01 00:00:01|   Saturday|1995|    7|   1|   0|     0|     1|\n",
            "|unicomp6.unicomp.net|   GET| /shuttle/countdown/|HTTP/1.0|   200|        3985|1995-07-01 00:00:06|   Saturday|1995|    7|   1|   0|     0|     6|\n",
            "|      199.120.110.21|   GET|/shuttle/missions...|HTTP/1.0|   200|        4085|1995-07-01 00:00:09|   Saturday|1995|    7|   1|   0|     0|     9|\n",
            "|  burger.letters.com|   GET|/shuttle/countdow...|HTTP/1.0|   304|           0|1995-07-01 00:00:11|   Saturday|1995|    7|   1|   0|     0|    11|\n",
            "|      199.120.110.21|   GET|/shuttle/missions...|HTTP/1.0|   200|        4179|1995-07-01 00:00:11|   Saturday|1995|    7|   1|   0|     0|    11|\n",
            "|  burger.letters.com|   GET|/images/NASA-logo...|HTTP/1.0|   304|           0|1995-07-01 00:00:12|   Saturday|1995|    7|   1|   0|     0|    12|\n",
            "|  burger.letters.com|   GET|/shuttle/countdow...|HTTP/1.0|   200|           0|1995-07-01 00:00:12|   Saturday|1995|    7|   1|   0|     0|    12|\n",
            "|     205.212.115.106|   GET|/shuttle/countdow...|HTTP/1.0|   200|        3985|1995-07-01 00:00:12|   Saturday|1995|    7|   1|   0|     0|    12|\n",
            "|         d104.aa.net|   GET| /shuttle/countdown/|HTTP/1.0|   200|        3985|1995-07-01 00:00:13|   Saturday|1995|    7|   1|   0|     0|    13|\n",
            "|      129.94.144.152|   GET|                   /|HTTP/1.0|   200|        7074|1995-07-01 00:00:13|   Saturday|1995|    7|   1|   0|     0|    13|\n",
            "+--------------------+------+--------------------+--------+------+------------+-------------------+-----------+----+-----+----+----+------+------+\n",
            "only showing top 10 rows\n",
            "\n"
          ]
        }
      ],
      "source": [
        "from pyspark.sql.functions import year, month, dayofmonth, hour, minute, second, date_format, count, max\n",
        "\n",
        "# Extract the day of the week from the timestamp column\n",
        "logs_df = logs_df.withColumn('day_of_week', date_format(logs_df.datetime, 'EEEE'))\n",
        "\n",
        "# Add columns for year, month, and date\n",
        "logs_df = logs_df.withColumn('year', year(logs_df['datetime']))\n",
        "logs_df = logs_df.withColumn('month', month(logs_df['datetime']))\n",
        "logs_df = logs_df.withColumn('date', dayofmonth(logs_df['datetime']))\n",
        "\n",
        "# Add columns for hour, minute, and second\n",
        "logs_df = logs_df.withColumn('hour', hour(logs_df['datetime']))\n",
        "logs_df = logs_df.withColumn('minute', minute(logs_df['datetime']))\n",
        "logs_df = logs_df.withColumn('second', second(logs_df['datetime']))\n",
        "\n",
        "# Show the updated DataFrame\n",
        "logs_df.show(10, truncate=True)\n"
      ]
    },
    {
      "cell_type": "code",
      "source": [
        "logs_df.select('year').distinct().rdd.flatMap(lambda x: x).collect()\n"
      ],
      "metadata": {
        "id": "-iKk7V3W_8kG",
        "outputId": "3fbd5163-362d-4dbd-8d93-bdb6db0bd73e",
        "colab": {
          "base_uri": "https://localhost:8080/"
        }
      },
      "execution_count": null,
      "outputs": [
        {
          "output_type": "execute_result",
          "data": {
            "text/plain": [
              "[1995]"
            ]
          },
          "metadata": {},
          "execution_count": 108
        }
      ]
    },
    {
      "cell_type": "code",
      "execution_count": null,
      "metadata": {
        "id": "yATKk04Q7Fuk",
        "outputId": "14eb2079-7fdd-4fe4-bd6a-ec13a87c8626",
        "colab": {
          "base_uri": "https://localhost:8080/"
        }
      },
      "outputs": [
        {
          "output_type": "stream",
          "name": "stdout",
          "text": [
            "root\n",
            " |-- host: string (nullable = true)\n",
            " |-- method: string (nullable = true)\n",
            " |-- endpoint: string (nullable = true)\n",
            " |-- protocol: string (nullable = true)\n",
            " |-- status: integer (nullable = true)\n",
            " |-- content_size: integer (nullable = false)\n",
            " |-- datetime: timestamp (nullable = true)\n",
            " |-- day_of_week: string (nullable = true)\n",
            " |-- year: integer (nullable = true)\n",
            " |-- month: integer (nullable = true)\n",
            " |-- date: integer (nullable = true)\n",
            " |-- hour: integer (nullable = true)\n",
            " |-- minute: integer (nullable = true)\n",
            " |-- second: integer (nullable = true)\n",
            "\n"
          ]
        }
      ],
      "source": [
        "logs_df.printSchema()"
      ]
    },
    {
      "cell_type": "code",
      "execution_count": null,
      "metadata": {
        "id": "0IVxOaL57Fuk",
        "outputId": "45c9f3e7-a434-4e78-b575-0c5697ea024f",
        "colab": {
          "base_uri": "https://localhost:8080/",
          "height": 478
        }
      },
      "outputs": [
        {
          "output_type": "stream",
          "name": "stderr",
          "text": [
            "/usr/local/lib/python3.10/dist-packages/pyspark/sql/pandas/conversion.py:251: FutureWarning: Passing unit-less datetime64 dtype to .astype is deprecated and will raise in a future version. Pass 'datetime64[ns]' instead\n",
            "  series = series.astype(t, copy=False)\n"
          ]
        },
        {
          "output_type": "execute_result",
          "data": {
            "text/plain": [
              "                   host method  \\\n",
              "0          199.72.81.55    GET   \n",
              "1  unicomp6.unicomp.net    GET   \n",
              "2        199.120.110.21    GET   \n",
              "3    burger.letters.com    GET   \n",
              "4        199.120.110.21    GET   \n",
              "\n",
              "                                          endpoint  protocol  status  \\\n",
              "0                                 /history/apollo/  HTTP/1.0     200   \n",
              "1                              /shuttle/countdown/  HTTP/1.0     200   \n",
              "2     /shuttle/missions/sts-73/mission-sts-73.html  HTTP/1.0     200   \n",
              "3                  /shuttle/countdown/liftoff.html  HTTP/1.0     304   \n",
              "4  /shuttle/missions/sts-73/sts-73-patch-small.gif  HTTP/1.0     200   \n",
              "\n",
              "   content_size            datetime day_of_week  year  month  date  hour  \\\n",
              "0          6245 1995-07-01 00:00:01    Saturday  1995      7     1     0   \n",
              "1          3985 1995-07-01 00:00:06    Saturday  1995      7     1     0   \n",
              "2          4085 1995-07-01 00:00:09    Saturday  1995      7     1     0   \n",
              "3             0 1995-07-01 00:00:11    Saturday  1995      7     1     0   \n",
              "4          4179 1995-07-01 00:00:11    Saturday  1995      7     1     0   \n",
              "\n",
              "   minute  second  \n",
              "0       0       1  \n",
              "1       0       6  \n",
              "2       0       9  \n",
              "3       0      11  \n",
              "4       0      11  "
            ],
            "text/html": [
              "\n",
              "  <div id=\"df-4c88e4ea-28bc-4a84-be93-2f8cf066be05\">\n",
              "    <div class=\"colab-df-container\">\n",
              "      <div>\n",
              "<style scoped>\n",
              "    .dataframe tbody tr th:only-of-type {\n",
              "        vertical-align: middle;\n",
              "    }\n",
              "\n",
              "    .dataframe tbody tr th {\n",
              "        vertical-align: top;\n",
              "    }\n",
              "\n",
              "    .dataframe thead th {\n",
              "        text-align: right;\n",
              "    }\n",
              "</style>\n",
              "<table border=\"1\" class=\"dataframe\">\n",
              "  <thead>\n",
              "    <tr style=\"text-align: right;\">\n",
              "      <th></th>\n",
              "      <th>host</th>\n",
              "      <th>method</th>\n",
              "      <th>endpoint</th>\n",
              "      <th>protocol</th>\n",
              "      <th>status</th>\n",
              "      <th>content_size</th>\n",
              "      <th>datetime</th>\n",
              "      <th>day_of_week</th>\n",
              "      <th>year</th>\n",
              "      <th>month</th>\n",
              "      <th>date</th>\n",
              "      <th>hour</th>\n",
              "      <th>minute</th>\n",
              "      <th>second</th>\n",
              "    </tr>\n",
              "  </thead>\n",
              "  <tbody>\n",
              "    <tr>\n",
              "      <th>0</th>\n",
              "      <td>199.72.81.55</td>\n",
              "      <td>GET</td>\n",
              "      <td>/history/apollo/</td>\n",
              "      <td>HTTP/1.0</td>\n",
              "      <td>200</td>\n",
              "      <td>6245</td>\n",
              "      <td>1995-07-01 00:00:01</td>\n",
              "      <td>Saturday</td>\n",
              "      <td>1995</td>\n",
              "      <td>7</td>\n",
              "      <td>1</td>\n",
              "      <td>0</td>\n",
              "      <td>0</td>\n",
              "      <td>1</td>\n",
              "    </tr>\n",
              "    <tr>\n",
              "      <th>1</th>\n",
              "      <td>unicomp6.unicomp.net</td>\n",
              "      <td>GET</td>\n",
              "      <td>/shuttle/countdown/</td>\n",
              "      <td>HTTP/1.0</td>\n",
              "      <td>200</td>\n",
              "      <td>3985</td>\n",
              "      <td>1995-07-01 00:00:06</td>\n",
              "      <td>Saturday</td>\n",
              "      <td>1995</td>\n",
              "      <td>7</td>\n",
              "      <td>1</td>\n",
              "      <td>0</td>\n",
              "      <td>0</td>\n",
              "      <td>6</td>\n",
              "    </tr>\n",
              "    <tr>\n",
              "      <th>2</th>\n",
              "      <td>199.120.110.21</td>\n",
              "      <td>GET</td>\n",
              "      <td>/shuttle/missions/sts-73/mission-sts-73.html</td>\n",
              "      <td>HTTP/1.0</td>\n",
              "      <td>200</td>\n",
              "      <td>4085</td>\n",
              "      <td>1995-07-01 00:00:09</td>\n",
              "      <td>Saturday</td>\n",
              "      <td>1995</td>\n",
              "      <td>7</td>\n",
              "      <td>1</td>\n",
              "      <td>0</td>\n",
              "      <td>0</td>\n",
              "      <td>9</td>\n",
              "    </tr>\n",
              "    <tr>\n",
              "      <th>3</th>\n",
              "      <td>burger.letters.com</td>\n",
              "      <td>GET</td>\n",
              "      <td>/shuttle/countdown/liftoff.html</td>\n",
              "      <td>HTTP/1.0</td>\n",
              "      <td>304</td>\n",
              "      <td>0</td>\n",
              "      <td>1995-07-01 00:00:11</td>\n",
              "      <td>Saturday</td>\n",
              "      <td>1995</td>\n",
              "      <td>7</td>\n",
              "      <td>1</td>\n",
              "      <td>0</td>\n",
              "      <td>0</td>\n",
              "      <td>11</td>\n",
              "    </tr>\n",
              "    <tr>\n",
              "      <th>4</th>\n",
              "      <td>199.120.110.21</td>\n",
              "      <td>GET</td>\n",
              "      <td>/shuttle/missions/sts-73/sts-73-patch-small.gif</td>\n",
              "      <td>HTTP/1.0</td>\n",
              "      <td>200</td>\n",
              "      <td>4179</td>\n",
              "      <td>1995-07-01 00:00:11</td>\n",
              "      <td>Saturday</td>\n",
              "      <td>1995</td>\n",
              "      <td>7</td>\n",
              "      <td>1</td>\n",
              "      <td>0</td>\n",
              "      <td>0</td>\n",
              "      <td>11</td>\n",
              "    </tr>\n",
              "  </tbody>\n",
              "</table>\n",
              "</div>\n",
              "      <button class=\"colab-df-convert\" onclick=\"convertToInteractive('df-4c88e4ea-28bc-4a84-be93-2f8cf066be05')\"\n",
              "              title=\"Convert this dataframe to an interactive table.\"\n",
              "              style=\"display:none;\">\n",
              "        \n",
              "  <svg xmlns=\"http://www.w3.org/2000/svg\" height=\"24px\"viewBox=\"0 0 24 24\"\n",
              "       width=\"24px\">\n",
              "    <path d=\"M0 0h24v24H0V0z\" fill=\"none\"/>\n",
              "    <path d=\"M18.56 5.44l.94 2.06.94-2.06 2.06-.94-2.06-.94-.94-2.06-.94 2.06-2.06.94zm-11 1L8.5 8.5l.94-2.06 2.06-.94-2.06-.94L8.5 2.5l-.94 2.06-2.06.94zm10 10l.94 2.06.94-2.06 2.06-.94-2.06-.94-.94-2.06-.94 2.06-2.06.94z\"/><path d=\"M17.41 7.96l-1.37-1.37c-.4-.4-.92-.59-1.43-.59-.52 0-1.04.2-1.43.59L10.3 9.45l-7.72 7.72c-.78.78-.78 2.05 0 2.83L4 21.41c.39.39.9.59 1.41.59.51 0 1.02-.2 1.41-.59l7.78-7.78 2.81-2.81c.8-.78.8-2.07 0-2.86zM5.41 20L4 18.59l7.72-7.72 1.47 1.35L5.41 20z\"/>\n",
              "  </svg>\n",
              "      </button>\n",
              "      \n",
              "  <style>\n",
              "    .colab-df-container {\n",
              "      display:flex;\n",
              "      flex-wrap:wrap;\n",
              "      gap: 12px;\n",
              "    }\n",
              "\n",
              "    .colab-df-convert {\n",
              "      background-color: #E8F0FE;\n",
              "      border: none;\n",
              "      border-radius: 50%;\n",
              "      cursor: pointer;\n",
              "      display: none;\n",
              "      fill: #1967D2;\n",
              "      height: 32px;\n",
              "      padding: 0 0 0 0;\n",
              "      width: 32px;\n",
              "    }\n",
              "\n",
              "    .colab-df-convert:hover {\n",
              "      background-color: #E2EBFA;\n",
              "      box-shadow: 0px 1px 2px rgba(60, 64, 67, 0.3), 0px 1px 3px 1px rgba(60, 64, 67, 0.15);\n",
              "      fill: #174EA6;\n",
              "    }\n",
              "\n",
              "    [theme=dark] .colab-df-convert {\n",
              "      background-color: #3B4455;\n",
              "      fill: #D2E3FC;\n",
              "    }\n",
              "\n",
              "    [theme=dark] .colab-df-convert:hover {\n",
              "      background-color: #434B5C;\n",
              "      box-shadow: 0px 1px 3px 1px rgba(0, 0, 0, 0.15);\n",
              "      filter: drop-shadow(0px 1px 2px rgba(0, 0, 0, 0.3));\n",
              "      fill: #FFFFFF;\n",
              "    }\n",
              "  </style>\n",
              "\n",
              "      <script>\n",
              "        const buttonEl =\n",
              "          document.querySelector('#df-4c88e4ea-28bc-4a84-be93-2f8cf066be05 button.colab-df-convert');\n",
              "        buttonEl.style.display =\n",
              "          google.colab.kernel.accessAllowed ? 'block' : 'none';\n",
              "\n",
              "        async function convertToInteractive(key) {\n",
              "          const element = document.querySelector('#df-4c88e4ea-28bc-4a84-be93-2f8cf066be05');\n",
              "          const dataTable =\n",
              "            await google.colab.kernel.invokeFunction('convertToInteractive',\n",
              "                                                     [key], {});\n",
              "          if (!dataTable) return;\n",
              "\n",
              "          const docLinkHtml = 'Like what you see? Visit the ' +\n",
              "            '<a target=\"_blank\" href=https://colab.research.google.com/notebooks/data_table.ipynb>data table notebook</a>'\n",
              "            + ' to learn more about interactive tables.';\n",
              "          element.innerHTML = '';\n",
              "          dataTable['output_type'] = 'display_data';\n",
              "          await google.colab.output.renderOutput(dataTable, element);\n",
              "          const docLink = document.createElement('div');\n",
              "          docLink.innerHTML = docLinkHtml;\n",
              "          element.appendChild(docLink);\n",
              "        }\n",
              "      </script>\n",
              "    </div>\n",
              "  </div>\n",
              "  "
            ]
          },
          "metadata": {},
          "execution_count": 110
        }
      ],
      "source": [
        "logs_df.limit(5).toPandas()"
      ]
    },
    {
      "cell_type": "markdown",
      "metadata": {
        "id": "oQ3yPMxC7Fuk"
      },
      "source": [
        "Let's now cache `logs_df` since we will be using it extensively for our data analysis section in the next part!"
      ]
    },
    {
      "cell_type": "code",
      "execution_count": null,
      "metadata": {
        "id": "2567BLKP7Ful",
        "outputId": "7758ac6c-c607-484f-eb1b-3cce9c1a8c13",
        "colab": {
          "base_uri": "https://localhost:8080/"
        }
      },
      "outputs": [
        {
          "output_type": "execute_result",
          "data": {
            "text/plain": [
              "DataFrame[host: string, method: string, endpoint: string, protocol: string, status: int, content_size: int, datetime: timestamp, day_of_week: string, year: int, month: int, date: int, hour: int, minute: int, second: int]"
            ]
          },
          "metadata": {},
          "execution_count": 111
        }
      ],
      "source": [
        "logs_df.cache()"
      ]
    },
    {
      "cell_type": "markdown",
      "metadata": {
        "id": "X0ccVKO_7Ful"
      },
      "source": [
        "# Data Analysis on Web Logs (EDA)\n",
        "\n",
        "Exploratory data analysis (EDA)\n"
      ]
    },
    {
      "cell_type": "markdown",
      "metadata": {
        "id": "AAOdAhdV7Ful"
      },
      "source": [
        "## Content Size Statistics"
      ]
    },
    {
      "cell_type": "code",
      "execution_count": null,
      "metadata": {
        "id": "BhmzL0HV7Ful",
        "outputId": "408bfc4c-b484-4d42-b2af-ce9dbf548f04",
        "colab": {
          "base_uri": "https://localhost:8080/",
          "height": 206
        }
      },
      "outputs": [
        {
          "output_type": "execute_result",
          "data": {
            "text/plain": [
              "  summary        content_size\n",
              "0   count             3461612\n",
              "1    mean  18928.844398216785\n",
              "2  stddev   73031.47260949228\n",
              "3     min                   0\n",
              "4     max             6823936"
            ],
            "text/html": [
              "\n",
              "  <div id=\"df-03878805-ddfc-4775-99d0-8d30a308a5c4\">\n",
              "    <div class=\"colab-df-container\">\n",
              "      <div>\n",
              "<style scoped>\n",
              "    .dataframe tbody tr th:only-of-type {\n",
              "        vertical-align: middle;\n",
              "    }\n",
              "\n",
              "    .dataframe tbody tr th {\n",
              "        vertical-align: top;\n",
              "    }\n",
              "\n",
              "    .dataframe thead th {\n",
              "        text-align: right;\n",
              "    }\n",
              "</style>\n",
              "<table border=\"1\" class=\"dataframe\">\n",
              "  <thead>\n",
              "    <tr style=\"text-align: right;\">\n",
              "      <th></th>\n",
              "      <th>summary</th>\n",
              "      <th>content_size</th>\n",
              "    </tr>\n",
              "  </thead>\n",
              "  <tbody>\n",
              "    <tr>\n",
              "      <th>0</th>\n",
              "      <td>count</td>\n",
              "      <td>3461612</td>\n",
              "    </tr>\n",
              "    <tr>\n",
              "      <th>1</th>\n",
              "      <td>mean</td>\n",
              "      <td>18928.844398216785</td>\n",
              "    </tr>\n",
              "    <tr>\n",
              "      <th>2</th>\n",
              "      <td>stddev</td>\n",
              "      <td>73031.47260949228</td>\n",
              "    </tr>\n",
              "    <tr>\n",
              "      <th>3</th>\n",
              "      <td>min</td>\n",
              "      <td>0</td>\n",
              "    </tr>\n",
              "    <tr>\n",
              "      <th>4</th>\n",
              "      <td>max</td>\n",
              "      <td>6823936</td>\n",
              "    </tr>\n",
              "  </tbody>\n",
              "</table>\n",
              "</div>\n",
              "      <button class=\"colab-df-convert\" onclick=\"convertToInteractive('df-03878805-ddfc-4775-99d0-8d30a308a5c4')\"\n",
              "              title=\"Convert this dataframe to an interactive table.\"\n",
              "              style=\"display:none;\">\n",
              "        \n",
              "  <svg xmlns=\"http://www.w3.org/2000/svg\" height=\"24px\"viewBox=\"0 0 24 24\"\n",
              "       width=\"24px\">\n",
              "    <path d=\"M0 0h24v24H0V0z\" fill=\"none\"/>\n",
              "    <path d=\"M18.56 5.44l.94 2.06.94-2.06 2.06-.94-2.06-.94-.94-2.06-.94 2.06-2.06.94zm-11 1L8.5 8.5l.94-2.06 2.06-.94-2.06-.94L8.5 2.5l-.94 2.06-2.06.94zm10 10l.94 2.06.94-2.06 2.06-.94-2.06-.94-.94-2.06-.94 2.06-2.06.94z\"/><path d=\"M17.41 7.96l-1.37-1.37c-.4-.4-.92-.59-1.43-.59-.52 0-1.04.2-1.43.59L10.3 9.45l-7.72 7.72c-.78.78-.78 2.05 0 2.83L4 21.41c.39.39.9.59 1.41.59.51 0 1.02-.2 1.41-.59l7.78-7.78 2.81-2.81c.8-.78.8-2.07 0-2.86zM5.41 20L4 18.59l7.72-7.72 1.47 1.35L5.41 20z\"/>\n",
              "  </svg>\n",
              "      </button>\n",
              "      \n",
              "  <style>\n",
              "    .colab-df-container {\n",
              "      display:flex;\n",
              "      flex-wrap:wrap;\n",
              "      gap: 12px;\n",
              "    }\n",
              "\n",
              "    .colab-df-convert {\n",
              "      background-color: #E8F0FE;\n",
              "      border: none;\n",
              "      border-radius: 50%;\n",
              "      cursor: pointer;\n",
              "      display: none;\n",
              "      fill: #1967D2;\n",
              "      height: 32px;\n",
              "      padding: 0 0 0 0;\n",
              "      width: 32px;\n",
              "    }\n",
              "\n",
              "    .colab-df-convert:hover {\n",
              "      background-color: #E2EBFA;\n",
              "      box-shadow: 0px 1px 2px rgba(60, 64, 67, 0.3), 0px 1px 3px 1px rgba(60, 64, 67, 0.15);\n",
              "      fill: #174EA6;\n",
              "    }\n",
              "\n",
              "    [theme=dark] .colab-df-convert {\n",
              "      background-color: #3B4455;\n",
              "      fill: #D2E3FC;\n",
              "    }\n",
              "\n",
              "    [theme=dark] .colab-df-convert:hover {\n",
              "      background-color: #434B5C;\n",
              "      box-shadow: 0px 1px 3px 1px rgba(0, 0, 0, 0.15);\n",
              "      filter: drop-shadow(0px 1px 2px rgba(0, 0, 0, 0.3));\n",
              "      fill: #FFFFFF;\n",
              "    }\n",
              "  </style>\n",
              "\n",
              "      <script>\n",
              "        const buttonEl =\n",
              "          document.querySelector('#df-03878805-ddfc-4775-99d0-8d30a308a5c4 button.colab-df-convert');\n",
              "        buttonEl.style.display =\n",
              "          google.colab.kernel.accessAllowed ? 'block' : 'none';\n",
              "\n",
              "        async function convertToInteractive(key) {\n",
              "          const element = document.querySelector('#df-03878805-ddfc-4775-99d0-8d30a308a5c4');\n",
              "          const dataTable =\n",
              "            await google.colab.kernel.invokeFunction('convertToInteractive',\n",
              "                                                     [key], {});\n",
              "          if (!dataTable) return;\n",
              "\n",
              "          const docLinkHtml = 'Like what you see? Visit the ' +\n",
              "            '<a target=\"_blank\" href=https://colab.research.google.com/notebooks/data_table.ipynb>data table notebook</a>'\n",
              "            + ' to learn more about interactive tables.';\n",
              "          element.innerHTML = '';\n",
              "          dataTable['output_type'] = 'display_data';\n",
              "          await google.colab.output.renderOutput(dataTable, element);\n",
              "          const docLink = document.createElement('div');\n",
              "          docLink.innerHTML = docLinkHtml;\n",
              "          element.appendChild(docLink);\n",
              "        }\n",
              "      </script>\n",
              "    </div>\n",
              "  </div>\n",
              "  "
            ]
          },
          "metadata": {},
          "execution_count": 112
        }
      ],
      "source": [
        "content_size_summary_df = logs_df.describe(['content_size'])\n",
        "content_size_summary_df.toPandas()"
      ]
    },
    {
      "cell_type": "code",
      "execution_count": null,
      "metadata": {
        "id": "knbGRSu17Fum",
        "outputId": "475c8e98-9d72-4152-9c53-de2ac8c105a1",
        "colab": {
          "base_uri": "https://localhost:8080/",
          "height": 81
        }
      },
      "outputs": [
        {
          "output_type": "execute_result",
          "data": {
            "text/plain": [
              "   min_content_size  max_content_size  mean_content_size  std_content_size  \\\n",
              "0                 0           6823936       18928.844398      73031.472609   \n",
              "\n",
              "   count_content_size  \n",
              "0             3461612  "
            ],
            "text/html": [
              "\n",
              "  <div id=\"df-f288987f-a3f5-4eae-bf1f-2eed00265446\">\n",
              "    <div class=\"colab-df-container\">\n",
              "      <div>\n",
              "<style scoped>\n",
              "    .dataframe tbody tr th:only-of-type {\n",
              "        vertical-align: middle;\n",
              "    }\n",
              "\n",
              "    .dataframe tbody tr th {\n",
              "        vertical-align: top;\n",
              "    }\n",
              "\n",
              "    .dataframe thead th {\n",
              "        text-align: right;\n",
              "    }\n",
              "</style>\n",
              "<table border=\"1\" class=\"dataframe\">\n",
              "  <thead>\n",
              "    <tr style=\"text-align: right;\">\n",
              "      <th></th>\n",
              "      <th>min_content_size</th>\n",
              "      <th>max_content_size</th>\n",
              "      <th>mean_content_size</th>\n",
              "      <th>std_content_size</th>\n",
              "      <th>count_content_size</th>\n",
              "    </tr>\n",
              "  </thead>\n",
              "  <tbody>\n",
              "    <tr>\n",
              "      <th>0</th>\n",
              "      <td>0</td>\n",
              "      <td>6823936</td>\n",
              "      <td>18928.844398</td>\n",
              "      <td>73031.472609</td>\n",
              "      <td>3461612</td>\n",
              "    </tr>\n",
              "  </tbody>\n",
              "</table>\n",
              "</div>\n",
              "      <button class=\"colab-df-convert\" onclick=\"convertToInteractive('df-f288987f-a3f5-4eae-bf1f-2eed00265446')\"\n",
              "              title=\"Convert this dataframe to an interactive table.\"\n",
              "              style=\"display:none;\">\n",
              "        \n",
              "  <svg xmlns=\"http://www.w3.org/2000/svg\" height=\"24px\"viewBox=\"0 0 24 24\"\n",
              "       width=\"24px\">\n",
              "    <path d=\"M0 0h24v24H0V0z\" fill=\"none\"/>\n",
              "    <path d=\"M18.56 5.44l.94 2.06.94-2.06 2.06-.94-2.06-.94-.94-2.06-.94 2.06-2.06.94zm-11 1L8.5 8.5l.94-2.06 2.06-.94-2.06-.94L8.5 2.5l-.94 2.06-2.06.94zm10 10l.94 2.06.94-2.06 2.06-.94-2.06-.94-.94-2.06-.94 2.06-2.06.94z\"/><path d=\"M17.41 7.96l-1.37-1.37c-.4-.4-.92-.59-1.43-.59-.52 0-1.04.2-1.43.59L10.3 9.45l-7.72 7.72c-.78.78-.78 2.05 0 2.83L4 21.41c.39.39.9.59 1.41.59.51 0 1.02-.2 1.41-.59l7.78-7.78 2.81-2.81c.8-.78.8-2.07 0-2.86zM5.41 20L4 18.59l7.72-7.72 1.47 1.35L5.41 20z\"/>\n",
              "  </svg>\n",
              "      </button>\n",
              "      \n",
              "  <style>\n",
              "    .colab-df-container {\n",
              "      display:flex;\n",
              "      flex-wrap:wrap;\n",
              "      gap: 12px;\n",
              "    }\n",
              "\n",
              "    .colab-df-convert {\n",
              "      background-color: #E8F0FE;\n",
              "      border: none;\n",
              "      border-radius: 50%;\n",
              "      cursor: pointer;\n",
              "      display: none;\n",
              "      fill: #1967D2;\n",
              "      height: 32px;\n",
              "      padding: 0 0 0 0;\n",
              "      width: 32px;\n",
              "    }\n",
              "\n",
              "    .colab-df-convert:hover {\n",
              "      background-color: #E2EBFA;\n",
              "      box-shadow: 0px 1px 2px rgba(60, 64, 67, 0.3), 0px 1px 3px 1px rgba(60, 64, 67, 0.15);\n",
              "      fill: #174EA6;\n",
              "    }\n",
              "\n",
              "    [theme=dark] .colab-df-convert {\n",
              "      background-color: #3B4455;\n",
              "      fill: #D2E3FC;\n",
              "    }\n",
              "\n",
              "    [theme=dark] .colab-df-convert:hover {\n",
              "      background-color: #434B5C;\n",
              "      box-shadow: 0px 1px 3px 1px rgba(0, 0, 0, 0.15);\n",
              "      filter: drop-shadow(0px 1px 2px rgba(0, 0, 0, 0.3));\n",
              "      fill: #FFFFFF;\n",
              "    }\n",
              "  </style>\n",
              "\n",
              "      <script>\n",
              "        const buttonEl =\n",
              "          document.querySelector('#df-f288987f-a3f5-4eae-bf1f-2eed00265446 button.colab-df-convert');\n",
              "        buttonEl.style.display =\n",
              "          google.colab.kernel.accessAllowed ? 'block' : 'none';\n",
              "\n",
              "        async function convertToInteractive(key) {\n",
              "          const element = document.querySelector('#df-f288987f-a3f5-4eae-bf1f-2eed00265446');\n",
              "          const dataTable =\n",
              "            await google.colab.kernel.invokeFunction('convertToInteractive',\n",
              "                                                     [key], {});\n",
              "          if (!dataTable) return;\n",
              "\n",
              "          const docLinkHtml = 'Like what you see? Visit the ' +\n",
              "            '<a target=\"_blank\" href=https://colab.research.google.com/notebooks/data_table.ipynb>data table notebook</a>'\n",
              "            + ' to learn more about interactive tables.';\n",
              "          element.innerHTML = '';\n",
              "          dataTable['output_type'] = 'display_data';\n",
              "          await google.colab.output.renderOutput(dataTable, element);\n",
              "          const docLink = document.createElement('div');\n",
              "          docLink.innerHTML = docLinkHtml;\n",
              "          element.appendChild(docLink);\n",
              "        }\n",
              "      </script>\n",
              "    </div>\n",
              "  </div>\n",
              "  "
            ]
          },
          "metadata": {},
          "execution_count": 113
        }
      ],
      "source": [
        "from pyspark.sql import functions as F\n",
        "\n",
        "(logs_df.agg(F.min(logs_df['content_size']).alias('min_content_size'),\n",
        "             F.max(logs_df['content_size']).alias('max_content_size'),\n",
        "             F.mean(logs_df['content_size']).alias('mean_content_size'),\n",
        "             F.stddev(logs_df['content_size']).alias('std_content_size'),\n",
        "             F.count(logs_df['content_size']).alias('count_content_size'))\n",
        "        .toPandas())"
      ]
    },
    {
      "cell_type": "markdown",
      "metadata": {
        "id": "gvjlxl9q7Fum"
      },
      "source": [
        "## HTTP Status Code Analysis\n"
      ]
    },
    {
      "cell_type": "code",
      "execution_count": null,
      "metadata": {
        "collapsed": true,
        "id": "H73DxlX67Fum"
      },
      "outputs": [],
      "source": [
        "status_freq_df = (logs_df\n",
        "                     .groupBy('status')\n",
        "                     .count()\n",
        "                     .sort('status')\n",
        "                     .cache())"
      ]
    },
    {
      "cell_type": "code",
      "execution_count": null,
      "metadata": {
        "id": "8yvYYVap7Fum",
        "outputId": "7ce5bd33-4fef-4897-a65f-02d3ca3baff5",
        "colab": {
          "base_uri": "https://localhost:8080/"
        }
      },
      "outputs": [
        {
          "output_type": "stream",
          "name": "stdout",
          "text": [
            "Total distinct HTTP Status Codes: 8\n"
          ]
        }
      ],
      "source": [
        "print('Total distinct HTTP Status Codes:', status_freq_df.count())"
      ]
    },
    {
      "cell_type": "code",
      "execution_count": null,
      "metadata": {
        "id": "ACuDUwMt7Fun",
        "outputId": "469b1df6-4854-4f85-9254-874a575e8b70",
        "colab": {
          "base_uri": "https://localhost:8080/",
          "height": 300
        }
      },
      "outputs": [
        {
          "output_type": "execute_result",
          "data": {
            "text/plain": [
              "   status    count\n",
              "0     200  3100524\n",
              "2     304   266773\n",
              "1     302    73070\n",
              "5     404    20899\n",
              "4     403      225\n",
              "6     500       65\n",
              "7     501       41\n",
              "3     400       15"
            ],
            "text/html": [
              "\n",
              "  <div id=\"df-f90aa022-f492-4c36-813d-1781561e4161\">\n",
              "    <div class=\"colab-df-container\">\n",
              "      <div>\n",
              "<style scoped>\n",
              "    .dataframe tbody tr th:only-of-type {\n",
              "        vertical-align: middle;\n",
              "    }\n",
              "\n",
              "    .dataframe tbody tr th {\n",
              "        vertical-align: top;\n",
              "    }\n",
              "\n",
              "    .dataframe thead th {\n",
              "        text-align: right;\n",
              "    }\n",
              "</style>\n",
              "<table border=\"1\" class=\"dataframe\">\n",
              "  <thead>\n",
              "    <tr style=\"text-align: right;\">\n",
              "      <th></th>\n",
              "      <th>status</th>\n",
              "      <th>count</th>\n",
              "    </tr>\n",
              "  </thead>\n",
              "  <tbody>\n",
              "    <tr>\n",
              "      <th>0</th>\n",
              "      <td>200</td>\n",
              "      <td>3100524</td>\n",
              "    </tr>\n",
              "    <tr>\n",
              "      <th>2</th>\n",
              "      <td>304</td>\n",
              "      <td>266773</td>\n",
              "    </tr>\n",
              "    <tr>\n",
              "      <th>1</th>\n",
              "      <td>302</td>\n",
              "      <td>73070</td>\n",
              "    </tr>\n",
              "    <tr>\n",
              "      <th>5</th>\n",
              "      <td>404</td>\n",
              "      <td>20899</td>\n",
              "    </tr>\n",
              "    <tr>\n",
              "      <th>4</th>\n",
              "      <td>403</td>\n",
              "      <td>225</td>\n",
              "    </tr>\n",
              "    <tr>\n",
              "      <th>6</th>\n",
              "      <td>500</td>\n",
              "      <td>65</td>\n",
              "    </tr>\n",
              "    <tr>\n",
              "      <th>7</th>\n",
              "      <td>501</td>\n",
              "      <td>41</td>\n",
              "    </tr>\n",
              "    <tr>\n",
              "      <th>3</th>\n",
              "      <td>400</td>\n",
              "      <td>15</td>\n",
              "    </tr>\n",
              "  </tbody>\n",
              "</table>\n",
              "</div>\n",
              "      <button class=\"colab-df-convert\" onclick=\"convertToInteractive('df-f90aa022-f492-4c36-813d-1781561e4161')\"\n",
              "              title=\"Convert this dataframe to an interactive table.\"\n",
              "              style=\"display:none;\">\n",
              "        \n",
              "  <svg xmlns=\"http://www.w3.org/2000/svg\" height=\"24px\"viewBox=\"0 0 24 24\"\n",
              "       width=\"24px\">\n",
              "    <path d=\"M0 0h24v24H0V0z\" fill=\"none\"/>\n",
              "    <path d=\"M18.56 5.44l.94 2.06.94-2.06 2.06-.94-2.06-.94-.94-2.06-.94 2.06-2.06.94zm-11 1L8.5 8.5l.94-2.06 2.06-.94-2.06-.94L8.5 2.5l-.94 2.06-2.06.94zm10 10l.94 2.06.94-2.06 2.06-.94-2.06-.94-.94-2.06-.94 2.06-2.06.94z\"/><path d=\"M17.41 7.96l-1.37-1.37c-.4-.4-.92-.59-1.43-.59-.52 0-1.04.2-1.43.59L10.3 9.45l-7.72 7.72c-.78.78-.78 2.05 0 2.83L4 21.41c.39.39.9.59 1.41.59.51 0 1.02-.2 1.41-.59l7.78-7.78 2.81-2.81c.8-.78.8-2.07 0-2.86zM5.41 20L4 18.59l7.72-7.72 1.47 1.35L5.41 20z\"/>\n",
              "  </svg>\n",
              "      </button>\n",
              "      \n",
              "  <style>\n",
              "    .colab-df-container {\n",
              "      display:flex;\n",
              "      flex-wrap:wrap;\n",
              "      gap: 12px;\n",
              "    }\n",
              "\n",
              "    .colab-df-convert {\n",
              "      background-color: #E8F0FE;\n",
              "      border: none;\n",
              "      border-radius: 50%;\n",
              "      cursor: pointer;\n",
              "      display: none;\n",
              "      fill: #1967D2;\n",
              "      height: 32px;\n",
              "      padding: 0 0 0 0;\n",
              "      width: 32px;\n",
              "    }\n",
              "\n",
              "    .colab-df-convert:hover {\n",
              "      background-color: #E2EBFA;\n",
              "      box-shadow: 0px 1px 2px rgba(60, 64, 67, 0.3), 0px 1px 3px 1px rgba(60, 64, 67, 0.15);\n",
              "      fill: #174EA6;\n",
              "    }\n",
              "\n",
              "    [theme=dark] .colab-df-convert {\n",
              "      background-color: #3B4455;\n",
              "      fill: #D2E3FC;\n",
              "    }\n",
              "\n",
              "    [theme=dark] .colab-df-convert:hover {\n",
              "      background-color: #434B5C;\n",
              "      box-shadow: 0px 1px 3px 1px rgba(0, 0, 0, 0.15);\n",
              "      filter: drop-shadow(0px 1px 2px rgba(0, 0, 0, 0.3));\n",
              "      fill: #FFFFFF;\n",
              "    }\n",
              "  </style>\n",
              "\n",
              "      <script>\n",
              "        const buttonEl =\n",
              "          document.querySelector('#df-f90aa022-f492-4c36-813d-1781561e4161 button.colab-df-convert');\n",
              "        buttonEl.style.display =\n",
              "          google.colab.kernel.accessAllowed ? 'block' : 'none';\n",
              "\n",
              "        async function convertToInteractive(key) {\n",
              "          const element = document.querySelector('#df-f90aa022-f492-4c36-813d-1781561e4161');\n",
              "          const dataTable =\n",
              "            await google.colab.kernel.invokeFunction('convertToInteractive',\n",
              "                                                     [key], {});\n",
              "          if (!dataTable) return;\n",
              "\n",
              "          const docLinkHtml = 'Like what you see? Visit the ' +\n",
              "            '<a target=\"_blank\" href=https://colab.research.google.com/notebooks/data_table.ipynb>data table notebook</a>'\n",
              "            + ' to learn more about interactive tables.';\n",
              "          element.innerHTML = '';\n",
              "          dataTable['output_type'] = 'display_data';\n",
              "          await google.colab.output.renderOutput(dataTable, element);\n",
              "          const docLink = document.createElement('div');\n",
              "          docLink.innerHTML = docLinkHtml;\n",
              "          element.appendChild(docLink);\n",
              "        }\n",
              "      </script>\n",
              "    </div>\n",
              "  </div>\n",
              "  "
            ]
          },
          "metadata": {},
          "execution_count": 116
        }
      ],
      "source": [
        "status_freq_pd_df = (status_freq_df\n",
        "                         .toPandas()\n",
        "                         .sort_values(by=['count'],\n",
        "                                      ascending=False))\n",
        "status_freq_pd_df"
      ]
    },
    {
      "cell_type": "code",
      "execution_count": null,
      "metadata": {
        "id": "d9gkYGAe7Fun",
        "outputId": "e22af6b6-4ed7-4139-b1a5-8f7498438fa6",
        "colab": {
          "base_uri": "https://localhost:8080/",
          "height": 523
        }
      },
      "outputs": [
        {
          "output_type": "execute_result",
          "data": {
            "text/plain": [
              "<seaborn.axisgrid.FacetGrid at 0x7fbe99cb5f90>"
            ]
          },
          "metadata": {},
          "execution_count": 117
        },
        {
          "output_type": "display_data",
          "data": {
            "text/plain": [
              "<Figure size 500x500 with 1 Axes>"
            ],
            "image/png": "[encoded data removed]"
          },
          "metadata": {}
        }
      ],
      "source": [
        "import matplotlib.pyplot as plt\n",
        "import seaborn as sns\n",
        "import numpy as np\n",
        "%matplotlib inline\n",
        "\n",
        "sns.catplot(x='status', y='count', data=status_freq_pd_df, \n",
        "            kind='bar', order=status_freq_pd_df['status'])"
      ]
    },
    {
      "cell_type": "code",
      "execution_count": null,
      "metadata": {
        "id": "aM9kXM1K7Fuo",
        "outputId": "11a8c972-85b4-4fda-b7f8-83f010bcaf9a",
        "colab": {
          "base_uri": "https://localhost:8080/"
        }
      },
      "outputs": [
        {
          "output_type": "stream",
          "name": "stdout",
          "text": [
            "+------+-------+------------------+\n",
            "|status|  count|        log(count)|\n",
            "+------+-------+------------------+\n",
            "|   200|3100524|14.947081687429097|\n",
            "|   302|  73070|11.199173164785263|\n",
            "|   304| 266773|12.494153388502301|\n",
            "|   400|     15|  2.70805020110221|\n",
            "|   403|    225|  5.41610040220442|\n",
            "|   404|  20899| 9.947456589918252|\n",
            "|   500|     65| 4.174387269895637|\n",
            "|   501|     41| 3.713572066704308|\n",
            "+------+-------+------------------+\n",
            "\n"
          ]
        }
      ],
      "source": [
        "log_freq_df = status_freq_df.withColumn('log(count)', F.log(status_freq_df['count']))\n",
        "log_freq_df.show()"
      ]
    },
    {
      "cell_type": "code",
      "execution_count": null,
      "metadata": {
        "id": "OoxH6qCD7Fuo",
        "outputId": "986ad2fb-bb1d-4b00-948e-4f73fe93f7f5",
        "colab": {
          "base_uri": "https://localhost:8080/",
          "height": 523
        }
      },
      "outputs": [
        {
          "output_type": "execute_result",
          "data": {
            "text/plain": [
              "<seaborn.axisgrid.FacetGrid at 0x7fbe99d14910>"
            ]
          },
          "metadata": {},
          "execution_count": 119
        },
        {
          "output_type": "display_data",
          "data": {
            "text/plain": [
              "<Figure size 500x500 with 1 Axes>"
            ],
            "image/png": "[encoded data removed]"
          },
          "metadata": {}
        }
      ],
      "source": [
        "log_freq_pd_df = (log_freq_df\n",
        "                    .toPandas()\n",
        "                    .sort_values(by=['log(count)'],\n",
        "                                 ascending=False))\n",
        "sns.catplot(x='status', y='log(count)', data=log_freq_pd_df, \n",
        "            kind='bar', order=status_freq_pd_df['status'])"
      ]
    },
    {
      "cell_type": "markdown",
      "metadata": {
        "id": "CdzSTgKp7Fuo"
      },
      "source": [
        "## Analyzing Frequent Hosts\n",
        "Get the count of total accesses by each `host` and then sort by the counts and display only the top ten most frequent hosts."
      ]
    },
    {
      "cell_type": "code",
      "execution_count": null,
      "metadata": {
        "id": "SitWzUM-7Fuo",
        "outputId": "06060839-12b0-4383-bf87-b48ae1ee7971",
        "colab": {
          "base_uri": "https://localhost:8080/"
        }
      },
      "outputs": [
        {
          "output_type": "stream",
          "name": "stdout",
          "text": [
            "+--------------------+-----+\n",
            "|host                |count|\n",
            "+--------------------+-----+\n",
            "|piweba3y.prodigy.com|21988|\n",
            "|piweba4y.prodigy.com|16437|\n",
            "|piweba1y.prodigy.com|12825|\n",
            "|edams.ksc.nasa.gov  |11964|\n",
            "|163.206.89.4        |9697 |\n",
            "|news.ti.com         |8161 |\n",
            "|www-d1.proxy.aol.com|8047 |\n",
            "|alyssa.prodigy.com  |8037 |\n",
            "|                    |7660 |\n",
            "|siltb10.orl.mmc.com |7573 |\n",
            "+--------------------+-----+\n",
            "\n"
          ]
        }
      ],
      "source": [
        "host_sum_df =(logs_df\n",
        "               .groupBy('host')\n",
        "               .count()\n",
        "               .sort('count', ascending=False).limit(10))\n",
        "\n",
        "host_sum_df.show(truncate=False)"
      ]
    },
    {
      "cell_type": "code",
      "execution_count": null,
      "metadata": {
        "id": "-ZD2TgF_7Fup",
        "outputId": "f9741f21-b5d2-4497-f111-d997da4ddbfc",
        "colab": {
          "base_uri": "https://localhost:8080/",
          "height": 36
        }
      },
      "outputs": [
        {
          "output_type": "execute_result",
          "data": {
            "text/plain": [
              "''"
            ],
            "application/vnd.google.colaboratory.intrinsic+json": {
              "type": "string"
            }
          },
          "metadata": {},
          "execution_count": 121
        }
      ],
      "source": [
        "host_sum_pd_df = host_sum_df.toPandas()\n",
        "host_sum_pd_df.iloc[8]['host']"
      ]
    },
    {
      "cell_type": "markdown",
      "metadata": {
        "id": "lflmMz9h7Fup"
      },
      "source": [
        "Note: check for potentially empty strings when data wrangling."
      ]
    },
    {
      "cell_type": "markdown",
      "metadata": {
        "id": "8MBlY5yW7Fup"
      },
      "source": [
        "## Display the Top 20 Frequent EndPoints\n",
        "The number of hits to endpoints (URIs) in the log. \n",
        "- Group by the `endpoint` column, aggregate by count, \n",
        "- sort in descending order like the previous part."
      ]
    },
    {
      "cell_type": "code",
      "execution_count": null,
      "metadata": {
        "collapsed": true,
        "id": "fRPZ8JL47Fup"
      },
      "outputs": [],
      "source": [
        "paths_df = (logs_df\n",
        "            .groupBy('endpoint')\n",
        "            .count()\n",
        "            .sort('count', ascending=False).limit(20))"
      ]
    },
    {
      "cell_type": "code",
      "execution_count": null,
      "metadata": {
        "id": "rZcTCBSt7Fup",
        "outputId": "d416b0b2-4010-40d3-e89c-8c4319116c65",
        "colab": {
          "base_uri": "https://localhost:8080/",
          "height": 676
        }
      },
      "outputs": [
        {
          "output_type": "execute_result",
          "data": {
            "text/plain": [
              "                                           endpoint   count\n",
              "0                        /images/NASA-logosmall.gif  208714\n",
              "1                         /images/KSC-logosmall.gif  164970\n",
              "2                      /images/MOSAIC-logosmall.gif  127908\n",
              "3                         /images/USA-logosmall.gif  127074\n",
              "4                       /images/WORLD-logosmall.gif  125925\n",
              "5                        /images/ksclogo-medium.gif  121572\n",
              "6                                         /ksc.html   83909\n",
              "7                           /images/launch-logo.gif   76006\n",
              "8           /history/apollo/images/apollo-logo1.gif   68896\n",
              "9                               /shuttle/countdown/   64736\n",
              "10                                                /   63171\n",
              "11                         /images/ksclogosmall.gif   61393\n",
              "12                  /shuttle/missions/missions.html   47315\n",
              "13                         /images/launchmedium.gif   40687\n",
              "14                               /htbin/cdt_main.pl   39871\n",
              "15     /shuttle/missions/sts-69/mission-sts-69.html   31574\n",
              "16                  /shuttle/countdown/liftoff.html   29865\n",
              "17                                  /icons/menu.xbm   29190\n",
              "18  /shuttle/missions/sts-69/sts-69-patch-small.gif   29118\n",
              "19                                 /icons/blank.xbm   28852"
            ],
            "text/html": [
              "\n",
              "  <div id=\"df-2f5840e6-e27c-4007-b074-3fceeb22b145\">\n",
              "    <div class=\"colab-df-container\">\n",
              "      <div>\n",
              "<style scoped>\n",
              "    .dataframe tbody tr th:only-of-type {\n",
              "        vertical-align: middle;\n",
              "    }\n",
              "\n",
              "    .dataframe tbody tr th {\n",
              "        vertical-align: top;\n",
              "    }\n",
              "\n",
              "    .dataframe thead th {\n",
              "        text-align: right;\n",
              "    }\n",
              "</style>\n",
              "<table border=\"1\" class=\"dataframe\">\n",
              "  <thead>\n",
              "    <tr style=\"text-align: right;\">\n",
              "      <th></th>\n",
              "      <th>endpoint</th>\n",
              "      <th>count</th>\n",
              "    </tr>\n",
              "  </thead>\n",
              "  <tbody>\n",
              "    <tr>\n",
              "      <th>0</th>\n",
              "      <td>/images/NASA-logosmall.gif</td>\n",
              "      <td>208714</td>\n",
              "    </tr>\n",
              "    <tr>\n",
              "      <th>1</th>\n",
              "      <td>/images/KSC-logosmall.gif</td>\n",
              "      <td>164970</td>\n",
              "    </tr>\n",
              "    <tr>\n",
              "      <th>2</th>\n",
              "      <td>/images/MOSAIC-logosmall.gif</td>\n",
              "      <td>127908</td>\n",
              "    </tr>\n",
              "    <tr>\n",
              "      <th>3</th>\n",
              "      <td>/images/USA-logosmall.gif</td>\n",
              "      <td>127074</td>\n",
              "    </tr>\n",
              "    <tr>\n",
              "      <th>4</th>\n",
              "      <td>/images/WORLD-logosmall.gif</td>\n",
              "      <td>125925</td>\n",
              "    </tr>\n",
              "    <tr>\n",
              "      <th>5</th>\n",
              "      <td>/images/ksclogo-medium.gif</td>\n",
              "      <td>121572</td>\n",
              "    </tr>\n",
              "    <tr>\n",
              "      <th>6</th>\n",
              "      <td>/ksc.html</td>\n",
              "      <td>83909</td>\n",
              "    </tr>\n",
              "    <tr>\n",
              "      <th>7</th>\n",
              "      <td>/images/launch-logo.gif</td>\n",
              "      <td>76006</td>\n",
              "    </tr>\n",
              "    <tr>\n",
              "      <th>8</th>\n",
              "      <td>/history/apollo/images/apollo-logo1.gif</td>\n",
              "      <td>68896</td>\n",
              "    </tr>\n",
              "    <tr>\n",
              "      <th>9</th>\n",
              "      <td>/shuttle/countdown/</td>\n",
              "      <td>64736</td>\n",
              "    </tr>\n",
              "    <tr>\n",
              "      <th>10</th>\n",
              "      <td>/</td>\n",
              "      <td>63171</td>\n",
              "    </tr>\n",
              "    <tr>\n",
              "      <th>11</th>\n",
              "      <td>/images/ksclogosmall.gif</td>\n",
              "      <td>61393</td>\n",
              "    </tr>\n",
              "    <tr>\n",
              "      <th>12</th>\n",
              "      <td>/shuttle/missions/missions.html</td>\n",
              "      <td>47315</td>\n",
              "    </tr>\n",
              "    <tr>\n",
              "      <th>13</th>\n",
              "      <td>/images/launchmedium.gif</td>\n",
              "      <td>40687</td>\n",
              "    </tr>\n",
              "    <tr>\n",
              "      <th>14</th>\n",
              "      <td>/htbin/cdt_main.pl</td>\n",
              "      <td>39871</td>\n",
              "    </tr>\n",
              "    <tr>\n",
              "      <th>15</th>\n",
              "      <td>/shuttle/missions/sts-69/mission-sts-69.html</td>\n",
              "      <td>31574</td>\n",
              "    </tr>\n",
              "    <tr>\n",
              "      <th>16</th>\n",
              "      <td>/shuttle/countdown/liftoff.html</td>\n",
              "      <td>29865</td>\n",
              "    </tr>\n",
              "    <tr>\n",
              "      <th>17</th>\n",
              "      <td>/icons/menu.xbm</td>\n",
              "      <td>29190</td>\n",
              "    </tr>\n",
              "    <tr>\n",
              "      <th>18</th>\n",
              "      <td>/shuttle/missions/sts-69/sts-69-patch-small.gif</td>\n",
              "      <td>29118</td>\n",
              "    </tr>\n",
              "    <tr>\n",
              "      <th>19</th>\n",
              "      <td>/icons/blank.xbm</td>\n",
              "      <td>28852</td>\n",
              "    </tr>\n",
              "  </tbody>\n",
              "</table>\n",
              "</div>\n",
              "      <button class=\"colab-df-convert\" onclick=\"convertToInteractive('df-2f5840e6-e27c-4007-b074-3fceeb22b145')\"\n",
              "              title=\"Convert this dataframe to an interactive table.\"\n",
              "              style=\"display:none;\">\n",
              "        \n",
              "  <svg xmlns=\"http://www.w3.org/2000/svg\" height=\"24px\"viewBox=\"0 0 24 24\"\n",
              "       width=\"24px\">\n",
              "    <path d=\"M0 0h24v24H0V0z\" fill=\"none\"/>\n",
              "    <path d=\"M18.56 5.44l.94 2.06.94-2.06 2.06-.94-2.06-.94-.94-2.06-.94 2.06-2.06.94zm-11 1L8.5 8.5l.94-2.06 2.06-.94-2.06-.94L8.5 2.5l-.94 2.06-2.06.94zm10 10l.94 2.06.94-2.06 2.06-.94-2.06-.94-.94-2.06-.94 2.06-2.06.94z\"/><path d=\"M17.41 7.96l-1.37-1.37c-.4-.4-.92-.59-1.43-.59-.52 0-1.04.2-1.43.59L10.3 9.45l-7.72 7.72c-.78.78-.78 2.05 0 2.83L4 21.41c.39.39.9.59 1.41.59.51 0 1.02-.2 1.41-.59l7.78-7.78 2.81-2.81c.8-.78.8-2.07 0-2.86zM5.41 20L4 18.59l7.72-7.72 1.47 1.35L5.41 20z\"/>\n",
              "  </svg>\n",
              "      </button>\n",
              "      \n",
              "  <style>\n",
              "    .colab-df-container {\n",
              "      display:flex;\n",
              "      flex-wrap:wrap;\n",
              "      gap: 12px;\n",
              "    }\n",
              "\n",
              "    .colab-df-convert {\n",
              "      background-color: #E8F0FE;\n",
              "      border: none;\n",
              "      border-radius: 50%;\n",
              "      cursor: pointer;\n",
              "      display: none;\n",
              "      fill: #1967D2;\n",
              "      height: 32px;\n",
              "      padding: 0 0 0 0;\n",
              "      width: 32px;\n",
              "    }\n",
              "\n",
              "    .colab-df-convert:hover {\n",
              "      background-color: #E2EBFA;\n",
              "      box-shadow: 0px 1px 2px rgba(60, 64, 67, 0.3), 0px 1px 3px 1px rgba(60, 64, 67, 0.15);\n",
              "      fill: #174EA6;\n",
              "    }\n",
              "\n",
              "    [theme=dark] .colab-df-convert {\n",
              "      background-color: #3B4455;\n",
              "      fill: #D2E3FC;\n",
              "    }\n",
              "\n",
              "    [theme=dark] .colab-df-convert:hover {\n",
              "      background-color: #434B5C;\n",
              "      box-shadow: 0px 1px 3px 1px rgba(0, 0, 0, 0.15);\n",
              "      filter: drop-shadow(0px 1px 2px rgba(0, 0, 0, 0.3));\n",
              "      fill: #FFFFFF;\n",
              "    }\n",
              "  </style>\n",
              "\n",
              "      <script>\n",
              "        const buttonEl =\n",
              "          document.querySelector('#df-2f5840e6-e27c-4007-b074-3fceeb22b145 button.colab-df-convert');\n",
              "        buttonEl.style.display =\n",
              "          google.colab.kernel.accessAllowed ? 'block' : 'none';\n",
              "\n",
              "        async function convertToInteractive(key) {\n",
              "          const element = document.querySelector('#df-2f5840e6-e27c-4007-b074-3fceeb22b145');\n",
              "          const dataTable =\n",
              "            await google.colab.kernel.invokeFunction('convertToInteractive',\n",
              "                                                     [key], {});\n",
              "          if (!dataTable) return;\n",
              "\n",
              "          const docLinkHtml = 'Like what you see? Visit the ' +\n",
              "            '<a target=\"_blank\" href=https://colab.research.google.com/notebooks/data_table.ipynb>data table notebook</a>'\n",
              "            + ' to learn more about interactive tables.';\n",
              "          element.innerHTML = '';\n",
              "          dataTable['output_type'] = 'display_data';\n",
              "          await google.colab.output.renderOutput(dataTable, element);\n",
              "          const docLink = document.createElement('div');\n",
              "          docLink.innerHTML = docLinkHtml;\n",
              "          element.appendChild(docLink);\n",
              "        }\n",
              "      </script>\n",
              "    </div>\n",
              "  </div>\n",
              "  "
            ]
          },
          "metadata": {},
          "execution_count": 123
        }
      ],
      "source": [
        "paths_pd_df = paths_df.toPandas()\n",
        "paths_pd_df"
      ]
    },
    {
      "cell_type": "markdown",
      "metadata": {
        "id": "lyU5owA17Fuq"
      },
      "source": [
        "## Top 10 Error Endpoints\n",
        "Sorted list containing the endpoints and the number of times that they were accessed with a non-200 return code and show the top ten."
      ]
    },
    {
      "cell_type": "code",
      "execution_count": null,
      "metadata": {
        "collapsed": true,
        "id": "HUMnGaYp7Fuq"
      },
      "outputs": [],
      "source": [
        "not200_df = (logs_df\n",
        "               .filter(logs_df['status'] != 200))\n",
        "\n",
        "error_endpoints_freq_df = (not200_df\n",
        "                               .groupBy('endpoint')\n",
        "                               .count()\n",
        "                               .sort('count', ascending=False)\n",
        "                               .limit(10)\n",
        "                          )"
      ]
    },
    {
      "cell_type": "code",
      "execution_count": null,
      "metadata": {
        "id": "OaYpRw4i7Fuq",
        "outputId": "f29dbf7f-55e9-4132-b4d6-22aecfd70e64",
        "colab": {
          "base_uri": "https://localhost:8080/"
        }
      },
      "outputs": [
        {
          "output_type": "stream",
          "name": "stdout",
          "text": [
            "+---------------------------------------+-----+\n",
            "|endpoint                               |count|\n",
            "+---------------------------------------+-----+\n",
            "|/images/NASA-logosmall.gif             |40082|\n",
            "|/images/KSC-logosmall.gif              |23763|\n",
            "|/images/MOSAIC-logosmall.gif           |15245|\n",
            "|/images/USA-logosmall.gif              |15142|\n",
            "|/images/WORLD-logosmall.gif            |14773|\n",
            "|/images/ksclogo-medium.gif             |13559|\n",
            "|/images/launch-logo.gif                |8806 |\n",
            "|/history/apollo/images/apollo-logo1.gif|7489 |\n",
            "|/                                      |6296 |\n",
            "|/images/ksclogosmall.gif               |5669 |\n",
            "+---------------------------------------+-----+\n",
            "\n"
          ]
        }
      ],
      "source": [
        "error_endpoints_freq_df.show(truncate=False)"
      ]
    },
    {
      "cell_type": "markdown",
      "metadata": {
        "id": "CKTLPFLq7Fuq"
      },
      "source": [
        "## Total number of Unique Hosts"
      ]
    },
    {
      "cell_type": "code",
      "execution_count": null,
      "metadata": {
        "id": "5C8jpQ2n7Fuq",
        "outputId": "0243f87d-1af9-4f6c-b4fb-0702f41d5376",
        "colab": {
          "base_uri": "https://localhost:8080/"
        }
      },
      "outputs": [
        {
          "output_type": "execute_result",
          "data": {
            "text/plain": [
              "137933"
            ]
          },
          "metadata": {},
          "execution_count": 126
        }
      ],
      "source": [
        "unique_host_count = (logs_df\n",
        "                     .select('host')\n",
        "                     .distinct()\n",
        "                     .count())\n",
        "unique_host_count"
      ]
    },
    {
      "cell_type": "markdown",
      "metadata": {
        "id": "-r5qOVtO7Fuq"
      },
      "source": [
        "## Number of Unique Daily Hosts\n"
      ]
    },
    {
      "cell_type": "code",
      "execution_count": null,
      "metadata": {
        "id": "lTGEqqtg7Fur",
        "outputId": "bc702272-655d-41c4-f4f8-facc3042490f",
        "colab": {
          "base_uri": "https://localhost:8080/"
        }
      },
      "outputs": [
        {
          "output_type": "stream",
          "name": "stdout",
          "text": [
            "+-----------------------+----+\n",
            "|host                   |date|\n",
            "+-----------------------+----+\n",
            "|129.94.144.152         |1   |\n",
            "|slip1.yab.com          |1   |\n",
            "|205.184.190.47         |1   |\n",
            "|204.120.34.71          |1   |\n",
            "|ppp3_130.bekkoame.or.jp|1   |\n",
            "+-----------------------+----+\n",
            "only showing top 5 rows\n",
            "\n"
          ]
        }
      ],
      "source": [
        "# host_day_df = logs_df.select(logs_df.host, \n",
        "#                              F.dayofmonth('datetime').alias('day'))\n",
        "host_day_distinct_df = logs_df.select(logs_df.host,'date').dropDuplicates()\n",
        "host_day_distinct_df.show(5, truncate=False)"
      ]
    },
    {
      "cell_type": "markdown",
      "metadata": {
        "id": "websNIxw7Fur"
      },
      "source": [
        "**`daily_unique_hosts_df`**\n",
        "\n",
        "A DataFrame with two columns:\n",
        "\n",
        "| column  | explanation                                        |\n",
        "| ------- | -------------------------------------------------- |\n",
        "| `day`   | the day of the month                               |\n",
        "| `count` | the number of unique requesting hosts for that day |"
      ]
    },
    {
      "cell_type": "code",
      "source": [
        "dir(pd.options)"
      ],
      "metadata": {
        "id": "T-JEQ6dd9PaF",
        "outputId": "4e5bcece-1217-4d97-c0ce-709d98806901",
        "colab": {
          "base_uri": "https://localhost:8080/"
        }
      },
      "execution_count": null,
      "outputs": [
        {
          "output_type": "execute_result",
          "data": {
            "text/plain": [
              "['compute', 'display', 'io', 'mode', 'plotting', 'styler']"
            ]
          },
          "metadata": {},
          "execution_count": 137
        }
      ]
    },
    {
      "cell_type": "code",
      "execution_count": null,
      "metadata": {
        "id": "GXjvj7lu7Fur",
        "outputId": "b0fb6f84-2669-4c70-f776-cd7e31170bff",
        "colab": {
          "base_uri": "https://localhost:8080/",
          "height": 423
        }
      },
      "outputs": [
        {
          "output_type": "execute_result",
          "data": {
            "text/plain": [
              "    date  count\n",
              "0      1   7609\n",
              "1      2   4858\n",
              "2      3  10238\n",
              "3      4   9411\n",
              "4      5   9640\n",
              "..   ...    ...\n",
              "26    27   6846\n",
              "27    28   6090\n",
              "28    29   4825\n",
              "29    30   5265\n",
              "30    31   5913\n",
              "\n",
              "[31 rows x 2 columns]"
            ],
            "text/html": [
              "\n",
              "  <div id=\"df-671dd1f7-b16e-40a9-923d-b0ecf5682137\">\n",
              "    <div class=\"colab-df-container\">\n",
              "      <div>\n",
              "<style scoped>\n",
              "    .dataframe tbody tr th:only-of-type {\n",
              "        vertical-align: middle;\n",
              "    }\n",
              "\n",
              "    .dataframe tbody tr th {\n",
              "        vertical-align: top;\n",
              "    }\n",
              "\n",
              "    .dataframe thead th {\n",
              "        text-align: right;\n",
              "    }\n",
              "</style>\n",
              "<table border=\"1\" class=\"dataframe\">\n",
              "  <thead>\n",
              "    <tr style=\"text-align: right;\">\n",
              "      <th></th>\n",
              "      <th>date</th>\n",
              "      <th>count</th>\n",
              "    </tr>\n",
              "  </thead>\n",
              "  <tbody>\n",
              "    <tr>\n",
              "      <th>0</th>\n",
              "      <td>1</td>\n",
              "      <td>7609</td>\n",
              "    </tr>\n",
              "    <tr>\n",
              "      <th>1</th>\n",
              "      <td>2</td>\n",
              "      <td>4858</td>\n",
              "    </tr>\n",
              "    <tr>\n",
              "      <th>2</th>\n",
              "      <td>3</td>\n",
              "      <td>10238</td>\n",
              "    </tr>\n",
              "    <tr>\n",
              "      <th>3</th>\n",
              "      <td>4</td>\n",
              "      <td>9411</td>\n",
              "    </tr>\n",
              "    <tr>\n",
              "      <th>4</th>\n",
              "      <td>5</td>\n",
              "      <td>9640</td>\n",
              "    </tr>\n",
              "    <tr>\n",
              "      <th>...</th>\n",
              "      <td>...</td>\n",
              "      <td>...</td>\n",
              "    </tr>\n",
              "    <tr>\n",
              "      <th>26</th>\n",
              "      <td>27</td>\n",
              "      <td>6846</td>\n",
              "    </tr>\n",
              "    <tr>\n",
              "      <th>27</th>\n",
              "      <td>28</td>\n",
              "      <td>6090</td>\n",
              "    </tr>\n",
              "    <tr>\n",
              "      <th>28</th>\n",
              "      <td>29</td>\n",
              "      <td>4825</td>\n",
              "    </tr>\n",
              "    <tr>\n",
              "      <th>29</th>\n",
              "      <td>30</td>\n",
              "      <td>5265</td>\n",
              "    </tr>\n",
              "    <tr>\n",
              "      <th>30</th>\n",
              "      <td>31</td>\n",
              "      <td>5913</td>\n",
              "    </tr>\n",
              "  </tbody>\n",
              "</table>\n",
              "<p>31 rows × 2 columns</p>\n",
              "</div>\n",
              "      <button class=\"colab-df-convert\" onclick=\"convertToInteractive('df-671dd1f7-b16e-40a9-923d-b0ecf5682137')\"\n",
              "              title=\"Convert this dataframe to an interactive table.\"\n",
              "              style=\"display:none;\">\n",
              "        \n",
              "  <svg xmlns=\"http://www.w3.org/2000/svg\" height=\"24px\"viewBox=\"0 0 24 24\"\n",
              "       width=\"24px\">\n",
              "    <path d=\"M0 0h24v24H0V0z\" fill=\"none\"/>\n",
              "    <path d=\"M18.56 5.44l.94 2.06.94-2.06 2.06-.94-2.06-.94-.94-2.06-.94 2.06-2.06.94zm-11 1L8.5 8.5l.94-2.06 2.06-.94-2.06-.94L8.5 2.5l-.94 2.06-2.06.94zm10 10l.94 2.06.94-2.06 2.06-.94-2.06-.94-.94-2.06-.94 2.06-2.06.94z\"/><path d=\"M17.41 7.96l-1.37-1.37c-.4-.4-.92-.59-1.43-.59-.52 0-1.04.2-1.43.59L10.3 9.45l-7.72 7.72c-.78.78-.78 2.05 0 2.83L4 21.41c.39.39.9.59 1.41.59.51 0 1.02-.2 1.41-.59l7.78-7.78 2.81-2.81c.8-.78.8-2.07 0-2.86zM5.41 20L4 18.59l7.72-7.72 1.47 1.35L5.41 20z\"/>\n",
              "  </svg>\n",
              "      </button>\n",
              "      \n",
              "  <style>\n",
              "    .colab-df-container {\n",
              "      display:flex;\n",
              "      flex-wrap:wrap;\n",
              "      gap: 12px;\n",
              "    }\n",
              "\n",
              "    .colab-df-convert {\n",
              "      background-color: #E8F0FE;\n",
              "      border: none;\n",
              "      border-radius: 50%;\n",
              "      cursor: pointer;\n",
              "      display: none;\n",
              "      fill: #1967D2;\n",
              "      height: 32px;\n",
              "      padding: 0 0 0 0;\n",
              "      width: 32px;\n",
              "    }\n",
              "\n",
              "    .colab-df-convert:hover {\n",
              "      background-color: #E2EBFA;\n",
              "      box-shadow: 0px 1px 2px rgba(60, 64, 67, 0.3), 0px 1px 3px 1px rgba(60, 64, 67, 0.15);\n",
              "      fill: #174EA6;\n",
              "    }\n",
              "\n",
              "    [theme=dark] .colab-df-convert {\n",
              "      background-color: #3B4455;\n",
              "      fill: #D2E3FC;\n",
              "    }\n",
              "\n",
              "    [theme=dark] .colab-df-convert:hover {\n",
              "      background-color: #434B5C;\n",
              "      box-shadow: 0px 1px 3px 1px rgba(0, 0, 0, 0.15);\n",
              "      filter: drop-shadow(0px 1px 2px rgba(0, 0, 0, 0.3));\n",
              "      fill: #FFFFFF;\n",
              "    }\n",
              "  </style>\n",
              "\n",
              "      <script>\n",
              "        const buttonEl =\n",
              "          document.querySelector('#df-671dd1f7-b16e-40a9-923d-b0ecf5682137 button.colab-df-convert');\n",
              "        buttonEl.style.display =\n",
              "          google.colab.kernel.accessAllowed ? 'block' : 'none';\n",
              "\n",
              "        async function convertToInteractive(key) {\n",
              "          const element = document.querySelector('#df-671dd1f7-b16e-40a9-923d-b0ecf5682137');\n",
              "          const dataTable =\n",
              "            await google.colab.kernel.invokeFunction('convertToInteractive',\n",
              "                                                     [key], {});\n",
              "          if (!dataTable) return;\n",
              "\n",
              "          const docLinkHtml = 'Like what you see? Visit the ' +\n",
              "            '<a target=\"_blank\" href=https://colab.research.google.com/notebooks/data_table.ipynb>data table notebook</a>'\n",
              "            + ' to learn more about interactive tables.';\n",
              "          element.innerHTML = '';\n",
              "          dataTable['output_type'] = 'display_data';\n",
              "          await google.colab.output.renderOutput(dataTable, element);\n",
              "          const docLink = document.createElement('div');\n",
              "          docLink.innerHTML = docLinkHtml;\n",
              "          element.appendChild(docLink);\n",
              "        }\n",
              "      </script>\n",
              "    </div>\n",
              "  </div>\n",
              "  "
            ]
          },
          "metadata": {},
          "execution_count": 139
        }
      ],
      "source": [
        "def_mr = pd.options.display.max_rows\n",
        "pd.options.display.max_rows = 10\n",
        "daily_hosts_df = (host_day_distinct_df\n",
        "                     .groupBy('date')\n",
        "                     .count()\n",
        "                     .sort(\"date\"))\n",
        "\n",
        "daily_hosts_df = daily_hosts_df.toPandas()\n",
        "daily_hosts_df"
      ]
    },
    {
      "cell_type": "code",
      "execution_count": null,
      "metadata": {
        "id": "AHhDIYZA7Fur",
        "outputId": "e5753364-e24e-4a26-9a79-14a0afe5f9df",
        "colab": {
          "base_uri": "https://localhost:8080/",
          "height": 506
        }
      },
      "outputs": [
        {
          "output_type": "display_data",
          "data": {
            "text/plain": [
              "<Figure size 750x500 with 1 Axes>"
            ],
            "image/png": "[encoded data removed]"
          },
          "metadata": {}
        }
      ],
      "source": [
        "c = sns.catplot(x='date', y='count', \n",
        "                data=daily_hosts_df, \n",
        "                kind='point', height=5, \n",
        "                aspect=1.5)"
      ]
    },
    {
      "cell_type": "markdown",
      "metadata": {
        "id": "vm_SWq0p7Fus"
      },
      "source": [
        "## Average Number of Daily Requests per Host\n",
        "- DataFrame sorted by increasing day of the month which includes the day of the month \n",
        "- the associated number of average requests made for that day per Host. "
      ]
    },
    {
      "cell_type": "code",
      "execution_count": null,
      "metadata": {
        "id": "GztY4yTp7Fus",
        "outputId": "e3e22df2-9b0f-4f0f-c0e5-660eb525a6e6",
        "colab": {
          "base_uri": "https://localhost:8080/",
          "height": 423
        }
      },
      "outputs": [
        {
          "output_type": "execute_result",
          "data": {
            "text/plain": [
              "    date  total_reqs  total_hosts   avg_reqs\n",
              "0      1       98710         7609  12.972795\n",
              "1      2       60265         4858  12.405311\n",
              "2      3      130972        10238  12.792733\n",
              "3      4      130009         9411  13.814579\n",
              "4      5      126468         9640  13.119087\n",
              "..   ...         ...          ...        ...\n",
              "26    27       94503         6846  13.804119\n",
              "27    28       82617         6090  13.566010\n",
              "28    29       67988         4825  14.090777\n",
              "29    30       80641         5265  15.316429\n",
              "30    31       90125         5913  15.241840\n",
              "\n",
              "[31 rows x 4 columns]"
            ],
            "text/html": [
              "\n",
              "  <div id=\"df-8563acad-77f3-48ba-8c71-29768e5148da\">\n",
              "    <div class=\"colab-df-container\">\n",
              "      <div>\n",
              "<style scoped>\n",
              "    .dataframe tbody tr th:only-of-type {\n",
              "        vertical-align: middle;\n",
              "    }\n",
              "\n",
              "    .dataframe tbody tr th {\n",
              "        vertical-align: top;\n",
              "    }\n",
              "\n",
              "    .dataframe thead th {\n",
              "        text-align: right;\n",
              "    }\n",
              "</style>\n",
              "<table border=\"1\" class=\"dataframe\">\n",
              "  <thead>\n",
              "    <tr style=\"text-align: right;\">\n",
              "      <th></th>\n",
              "      <th>date</th>\n",
              "      <th>total_reqs</th>\n",
              "      <th>total_hosts</th>\n",
              "      <th>avg_reqs</th>\n",
              "    </tr>\n",
              "  </thead>\n",
              "  <tbody>\n",
              "    <tr>\n",
              "      <th>0</th>\n",
              "      <td>1</td>\n",
              "      <td>98710</td>\n",
              "      <td>7609</td>\n",
              "      <td>12.972795</td>\n",
              "    </tr>\n",
              "    <tr>\n",
              "      <th>1</th>\n",
              "      <td>2</td>\n",
              "      <td>60265</td>\n",
              "      <td>4858</td>\n",
              "      <td>12.405311</td>\n",
              "    </tr>\n",
              "    <tr>\n",
              "      <th>2</th>\n",
              "      <td>3</td>\n",
              "      <td>130972</td>\n",
              "      <td>10238</td>\n",
              "      <td>12.792733</td>\n",
              "    </tr>\n",
              "    <tr>\n",
              "      <th>3</th>\n",
              "      <td>4</td>\n",
              "      <td>130009</td>\n",
              "      <td>9411</td>\n",
              "      <td>13.814579</td>\n",
              "    </tr>\n",
              "    <tr>\n",
              "      <th>4</th>\n",
              "      <td>5</td>\n",
              "      <td>126468</td>\n",
              "      <td>9640</td>\n",
              "      <td>13.119087</td>\n",
              "    </tr>\n",
              "    <tr>\n",
              "      <th>...</th>\n",
              "      <td>...</td>\n",
              "      <td>...</td>\n",
              "      <td>...</td>\n",
              "      <td>...</td>\n",
              "    </tr>\n",
              "    <tr>\n",
              "      <th>26</th>\n",
              "      <td>27</td>\n",
              "      <td>94503</td>\n",
              "      <td>6846</td>\n",
              "      <td>13.804119</td>\n",
              "    </tr>\n",
              "    <tr>\n",
              "      <th>27</th>\n",
              "      <td>28</td>\n",
              "      <td>82617</td>\n",
              "      <td>6090</td>\n",
              "      <td>13.566010</td>\n",
              "    </tr>\n",
              "    <tr>\n",
              "      <th>28</th>\n",
              "      <td>29</td>\n",
              "      <td>67988</td>\n",
              "      <td>4825</td>\n",
              "      <td>14.090777</td>\n",
              "    </tr>\n",
              "    <tr>\n",
              "      <th>29</th>\n",
              "      <td>30</td>\n",
              "      <td>80641</td>\n",
              "      <td>5265</td>\n",
              "      <td>15.316429</td>\n",
              "    </tr>\n",
              "    <tr>\n",
              "      <th>30</th>\n",
              "      <td>31</td>\n",
              "      <td>90125</td>\n",
              "      <td>5913</td>\n",
              "      <td>15.241840</td>\n",
              "    </tr>\n",
              "  </tbody>\n",
              "</table>\n",
              "<p>31 rows × 4 columns</p>\n",
              "</div>\n",
              "      <button class=\"colab-df-convert\" onclick=\"convertToInteractive('df-8563acad-77f3-48ba-8c71-29768e5148da')\"\n",
              "              title=\"Convert this dataframe to an interactive table.\"\n",
              "              style=\"display:none;\">\n",
              "        \n",
              "  <svg xmlns=\"http://www.w3.org/2000/svg\" height=\"24px\"viewBox=\"0 0 24 24\"\n",
              "       width=\"24px\">\n",
              "    <path d=\"M0 0h24v24H0V0z\" fill=\"none\"/>\n",
              "    <path d=\"M18.56 5.44l.94 2.06.94-2.06 2.06-.94-2.06-.94-.94-2.06-.94 2.06-2.06.94zm-11 1L8.5 8.5l.94-2.06 2.06-.94-2.06-.94L8.5 2.5l-.94 2.06-2.06.94zm10 10l.94 2.06.94-2.06 2.06-.94-2.06-.94-.94-2.06-.94 2.06-2.06.94z\"/><path d=\"M17.41 7.96l-1.37-1.37c-.4-.4-.92-.59-1.43-.59-.52 0-1.04.2-1.43.59L10.3 9.45l-7.72 7.72c-.78.78-.78 2.05 0 2.83L4 21.41c.39.39.9.59 1.41.59.51 0 1.02-.2 1.41-.59l7.78-7.78 2.81-2.81c.8-.78.8-2.07 0-2.86zM5.41 20L4 18.59l7.72-7.72 1.47 1.35L5.41 20z\"/>\n",
              "  </svg>\n",
              "      </button>\n",
              "      \n",
              "  <style>\n",
              "    .colab-df-container {\n",
              "      display:flex;\n",
              "      flex-wrap:wrap;\n",
              "      gap: 12px;\n",
              "    }\n",
              "\n",
              "    .colab-df-convert {\n",
              "      background-color: #E8F0FE;\n",
              "      border: none;\n",
              "      border-radius: 50%;\n",
              "      cursor: pointer;\n",
              "      display: none;\n",
              "      fill: #1967D2;\n",
              "      height: 32px;\n",
              "      padding: 0 0 0 0;\n",
              "      width: 32px;\n",
              "    }\n",
              "\n",
              "    .colab-df-convert:hover {\n",
              "      background-color: #E2EBFA;\n",
              "      box-shadow: 0px 1px 2px rgba(60, 64, 67, 0.3), 0px 1px 3px 1px rgba(60, 64, 67, 0.15);\n",
              "      fill: #174EA6;\n",
              "    }\n",
              "\n",
              "    [theme=dark] .colab-df-convert {\n",
              "      background-color: #3B4455;\n",
              "      fill: #D2E3FC;\n",
              "    }\n",
              "\n",
              "    [theme=dark] .colab-df-convert:hover {\n",
              "      background-color: #434B5C;\n",
              "      box-shadow: 0px 1px 3px 1px rgba(0, 0, 0, 0.15);\n",
              "      filter: drop-shadow(0px 1px 2px rgba(0, 0, 0, 0.3));\n",
              "      fill: #FFFFFF;\n",
              "    }\n",
              "  </style>\n",
              "\n",
              "      <script>\n",
              "        const buttonEl =\n",
              "          document.querySelector('#df-8563acad-77f3-48ba-8c71-29768e5148da button.colab-df-convert');\n",
              "        buttonEl.style.display =\n",
              "          google.colab.kernel.accessAllowed ? 'block' : 'none';\n",
              "\n",
              "        async function convertToInteractive(key) {\n",
              "          const element = document.querySelector('#df-8563acad-77f3-48ba-8c71-29768e5148da');\n",
              "          const dataTable =\n",
              "            await google.colab.kernel.invokeFunction('convertToInteractive',\n",
              "                                                     [key], {});\n",
              "          if (!dataTable) return;\n",
              "\n",
              "          const docLinkHtml = 'Like what you see? Visit the ' +\n",
              "            '<a target=\"_blank\" href=https://colab.research.google.com/notebooks/data_table.ipynb>data table notebook</a>'\n",
              "            + ' to learn more about interactive tables.';\n",
              "          element.innerHTML = '';\n",
              "          dataTable['output_type'] = 'display_data';\n",
              "          await google.colab.output.renderOutput(dataTable, element);\n",
              "          const docLink = document.createElement('div');\n",
              "          docLink.innerHTML = docLinkHtml;\n",
              "          element.appendChild(docLink);\n",
              "        }\n",
              "      </script>\n",
              "    </div>\n",
              "  </div>\n",
              "  "
            ]
          },
          "metadata": {},
          "execution_count": 142
        }
      ],
      "source": [
        "daily_hosts_df = (host_day_distinct_df\n",
        "                     .groupBy('date')\n",
        "                     .count()\n",
        "                     .select(col('date'), \n",
        "                                      col(\"count\").alias(\"total_hosts\")))\n",
        "\n",
        "total_daily_reqests_df = (logs_df\n",
        "                              .select(\"date\")\n",
        "                              .groupBy('date')\n",
        "                              .count()\n",
        "                              .select(col(\"date\"), \n",
        "                                      col(\"count\").alias(\"total_reqs\")))\n",
        "\n",
        "avg_daily_reqests_per_host_df = total_daily_reqests_df.join(daily_hosts_df, 'date')\n",
        "avg_daily_reqests_per_host_df = (avg_daily_reqests_per_host_df\n",
        "                                    .withColumn('avg_reqs', col('total_reqs') / col('total_hosts'))\n",
        "                                    .sort(\"date\"))\n",
        "avg_daily_reqests_per_host_df = avg_daily_reqests_per_host_df.toPandas()\n",
        "avg_daily_reqests_per_host_df"
      ]
    },
    {
      "cell_type": "code",
      "execution_count": null,
      "metadata": {
        "id": "y-hYiYrX7Fus",
        "outputId": "14b77f69-8e05-441e-da60-d0f1200e3073",
        "colab": {
          "base_uri": "https://localhost:8080/",
          "height": 506
        }
      },
      "outputs": [
        {
          "output_type": "display_data",
          "data": {
            "text/plain": [
              "<Figure size 750x500 with 1 Axes>"
            ],
            "image/png": "[encoded data removed]"
          },
          "metadata": {}
        }
      ],
      "source": [
        "c = sns.catplot(x='date', y='avg_reqs', \n",
        "                data=avg_daily_reqests_per_host_df, \n",
        "                kind='point', height=5, aspect=1.5)"
      ]
    },
    {
      "cell_type": "markdown",
      "metadata": {
        "id": "pGNQtzXc7Fus"
      },
      "source": [
        "## Counting 404 Response Codes\n"
      ]
    },
    {
      "cell_type": "code",
      "execution_count": null,
      "metadata": {
        "id": "S6-7HWnH7Fus",
        "outputId": "799861ed-c577-47ae-843a-f7241ed142b1",
        "colab": {
          "base_uri": "https://localhost:8080/"
        }
      },
      "outputs": [
        {
          "output_type": "stream",
          "name": "stdout",
          "text": [
            "Total 404 responses: 20899\n"
          ]
        }
      ],
      "source": [
        "not_found_df = logs_df.filter(logs_df[\"status\"] == 404).cache()\n",
        "print(('Total 404 responses: {}').format(not_found_df.count()))"
      ]
    },
    {
      "cell_type": "markdown",
      "metadata": {
        "id": "eYhszwaX7Fus"
      },
      "source": [
        "## Listing the Top Twenty 404 Response Code Endpoints\n"
      ]
    },
    {
      "cell_type": "code",
      "execution_count": null,
      "metadata": {
        "id": "iXouaoiO7Fut",
        "outputId": "a17dc01c-2c6b-4fb9-bc75-a73642ff2f47",
        "colab": {
          "base_uri": "https://localhost:8080/"
        }
      },
      "outputs": [
        {
          "output_type": "stream",
          "name": "stdout",
          "text": [
            "+-----------------------------------------------------------------+-----+\n",
            "|endpoint                                                         |count|\n",
            "+-----------------------------------------------------------------+-----+\n",
            "|/pub/winvn/readme.txt                                            |2004 |\n",
            "|/pub/winvn/release.txt                                           |1732 |\n",
            "|/shuttle/missions/STS-69/mission-STS-69.html                     |683  |\n",
            "|/shuttle/missions/sts-68/ksc-upclose.gif                         |428  |\n",
            "|/history/apollo/a-001/a-001-patch-small.gif                      |384  |\n",
            "|/history/apollo/sa-1/sa-1-patch-small.gif                        |383  |\n",
            "|/://spacelink.msfc.nasa.gov                                      |381  |\n",
            "|/images/crawlerway-logo.gif                                      |374  |\n",
            "|/elv/DELTA/uncons.htm                                            |372  |\n",
            "|/history/apollo/pad-abort-test-1/pad-abort-test-1-patch-small.gif|359  |\n",
            "|/images/nasa-logo.gif                                            |319  |\n",
            "|/shuttle/resources/orbiters/atlantis.gif                         |314  |\n",
            "|/history/apollo/apollo-13.html                                   |304  |\n",
            "|/shuttle/resources/orbiters/discovery.gif                        |263  |\n",
            "|/shuttle/missions/sts-71/images/KSC-95EC-0916.txt                |190  |\n",
            "|/shuttle/resources/orbiters/challenger.gif                       |170  |\n",
            "|/shuttle/missions/technology/sts-newsref/stsref-toc.html         |158  |\n",
            "|/history/apollo/images/little-joe.jpg                            |150  |\n",
            "|/images/lf-logo.gif                                              |143  |\n",
            "|/history/apollo/publications/sp-350/sp-350.txt~                  |140  |\n",
            "+-----------------------------------------------------------------+-----+\n",
            "\n"
          ]
        }
      ],
      "source": [
        "endpoints_404_count_df = (not_found_df\n",
        "                          .groupBy(\"endpoint\")\n",
        "                          .count()\n",
        "                          .sort(\"count\", ascending=False)\n",
        "                          .limit(20))\n",
        "\n",
        "endpoints_404_count_df.show(truncate=False)"
      ]
    },
    {
      "cell_type": "markdown",
      "metadata": {
        "id": "TjpSeH1g7Fut"
      },
      "source": [
        "## Listing the Top Twenty 404 Response Code Hosts\n"
      ]
    },
    {
      "cell_type": "code",
      "execution_count": null,
      "metadata": {
        "id": "D0j1G4_t7Fut",
        "outputId": "f9485de7-83f6-41b3-a83c-d80fe37f77f5",
        "colab": {
          "base_uri": "https://localhost:8080/"
        }
      },
      "outputs": [
        {
          "output_type": "stream",
          "name": "stdout",
          "text": [
            "+---------------------------+-----+\n",
            "|host                       |count|\n",
            "+---------------------------+-----+\n",
            "|hoohoo.ncsa.uiuc.edu       |251  |\n",
            "|piweba3y.prodigy.com       |157  |\n",
            "|jbiagioni.npt.nuwc.navy.mil|132  |\n",
            "|piweba1y.prodigy.com       |114  |\n",
            "|                           |112  |\n",
            "|www-d4.proxy.aol.com       |91   |\n",
            "|piweba4y.prodigy.com       |86   |\n",
            "|scooter.pa-x.dec.com       |69   |\n",
            "|www-d1.proxy.aol.com       |64   |\n",
            "|phaelon.ksc.nasa.gov       |64   |\n",
            "|www-b4.proxy.aol.com       |62   |\n",
            "|dialip-217.den.mmc.com     |62   |\n",
            "|www-b3.proxy.aol.com       |61   |\n",
            "|www-a2.proxy.aol.com       |60   |\n",
            "|piweba2y.prodigy.com       |59   |\n",
            "|www-d2.proxy.aol.com       |59   |\n",
            "|alyssa.prodigy.com         |56   |\n",
            "|monarch.eng.buffalo.edu    |56   |\n",
            "|www-b2.proxy.aol.com       |53   |\n",
            "|www-c4.proxy.aol.com       |53   |\n",
            "+---------------------------+-----+\n",
            "\n"
          ]
        }
      ],
      "source": [
        "hosts_404_count_df = (not_found_df\n",
        "                          .groupBy(\"host\")\n",
        "                          .count()\n",
        "                          .sort(\"count\", ascending=False)\n",
        "                          .limit(20))\n",
        "\n",
        "hosts_404_count_df.show(truncate=False)"
      ]
    },
    {
      "cell_type": "markdown",
      "metadata": {
        "id": "EvKf7C737Fut"
      },
      "source": [
        "## Visualizing 404 Errors per Day\n"
      ]
    },
    {
      "cell_type": "code",
      "execution_count": null,
      "metadata": {
        "id": "DTQblQmD7Fut",
        "outputId": "3b515af4-0b17-44d9-fc8a-d3de6bff8150",
        "colab": {
          "base_uri": "https://localhost:8080/",
          "height": 423
        }
      },
      "outputs": [
        {
          "output_type": "execute_result",
          "data": {
            "text/plain": [
              "    date  count\n",
              "0      1    559\n",
              "1      2    291\n",
              "2      3    778\n",
              "3      4    705\n",
              "4      5    733\n",
              "..   ...    ...\n",
              "26    27    706\n",
              "27    28    504\n",
              "28    29    420\n",
              "29    30    571\n",
              "30    31    526\n",
              "\n",
              "[31 rows x 2 columns]"
            ],
            "text/html": [
              "\n",
              "  <div id=\"df-72f59239-95a5-4164-82bc-53ad2fd9933f\">\n",
              "    <div class=\"colab-df-container\">\n",
              "      <div>\n",
              "<style scoped>\n",
              "    .dataframe tbody tr th:only-of-type {\n",
              "        vertical-align: middle;\n",
              "    }\n",
              "\n",
              "    .dataframe tbody tr th {\n",
              "        vertical-align: top;\n",
              "    }\n",
              "\n",
              "    .dataframe thead th {\n",
              "        text-align: right;\n",
              "    }\n",
              "</style>\n",
              "<table border=\"1\" class=\"dataframe\">\n",
              "  <thead>\n",
              "    <tr style=\"text-align: right;\">\n",
              "      <th></th>\n",
              "      <th>date</th>\n",
              "      <th>count</th>\n",
              "    </tr>\n",
              "  </thead>\n",
              "  <tbody>\n",
              "    <tr>\n",
              "      <th>0</th>\n",
              "      <td>1</td>\n",
              "      <td>559</td>\n",
              "    </tr>\n",
              "    <tr>\n",
              "      <th>1</th>\n",
              "      <td>2</td>\n",
              "      <td>291</td>\n",
              "    </tr>\n",
              "    <tr>\n",
              "      <th>2</th>\n",
              "      <td>3</td>\n",
              "      <td>778</td>\n",
              "    </tr>\n",
              "    <tr>\n",
              "      <th>3</th>\n",
              "      <td>4</td>\n",
              "      <td>705</td>\n",
              "    </tr>\n",
              "    <tr>\n",
              "      <th>4</th>\n",
              "      <td>5</td>\n",
              "      <td>733</td>\n",
              "    </tr>\n",
              "    <tr>\n",
              "      <th>...</th>\n",
              "      <td>...</td>\n",
              "      <td>...</td>\n",
              "    </tr>\n",
              "    <tr>\n",
              "      <th>26</th>\n",
              "      <td>27</td>\n",
              "      <td>706</td>\n",
              "    </tr>\n",
              "    <tr>\n",
              "      <th>27</th>\n",
              "      <td>28</td>\n",
              "      <td>504</td>\n",
              "    </tr>\n",
              "    <tr>\n",
              "      <th>28</th>\n",
              "      <td>29</td>\n",
              "      <td>420</td>\n",
              "    </tr>\n",
              "    <tr>\n",
              "      <th>29</th>\n",
              "      <td>30</td>\n",
              "      <td>571</td>\n",
              "    </tr>\n",
              "    <tr>\n",
              "      <th>30</th>\n",
              "      <td>31</td>\n",
              "      <td>526</td>\n",
              "    </tr>\n",
              "  </tbody>\n",
              "</table>\n",
              "<p>31 rows × 2 columns</p>\n",
              "</div>\n",
              "      <button class=\"colab-df-convert\" onclick=\"convertToInteractive('df-72f59239-95a5-4164-82bc-53ad2fd9933f')\"\n",
              "              title=\"Convert this dataframe to an interactive table.\"\n",
              "              style=\"display:none;\">\n",
              "        \n",
              "  <svg xmlns=\"http://www.w3.org/2000/svg\" height=\"24px\"viewBox=\"0 0 24 24\"\n",
              "       width=\"24px\">\n",
              "    <path d=\"M0 0h24v24H0V0z\" fill=\"none\"/>\n",
              "    <path d=\"M18.56 5.44l.94 2.06.94-2.06 2.06-.94-2.06-.94-.94-2.06-.94 2.06-2.06.94zm-11 1L8.5 8.5l.94-2.06 2.06-.94-2.06-.94L8.5 2.5l-.94 2.06-2.06.94zm10 10l.94 2.06.94-2.06 2.06-.94-2.06-.94-.94-2.06-.94 2.06-2.06.94z\"/><path d=\"M17.41 7.96l-1.37-1.37c-.4-.4-.92-.59-1.43-.59-.52 0-1.04.2-1.43.59L10.3 9.45l-7.72 7.72c-.78.78-.78 2.05 0 2.83L4 21.41c.39.39.9.59 1.41.59.51 0 1.02-.2 1.41-.59l7.78-7.78 2.81-2.81c.8-.78.8-2.07 0-2.86zM5.41 20L4 18.59l7.72-7.72 1.47 1.35L5.41 20z\"/>\n",
              "  </svg>\n",
              "      </button>\n",
              "      \n",
              "  <style>\n",
              "    .colab-df-container {\n",
              "      display:flex;\n",
              "      flex-wrap:wrap;\n",
              "      gap: 12px;\n",
              "    }\n",
              "\n",
              "    .colab-df-convert {\n",
              "      background-color: #E8F0FE;\n",
              "      border: none;\n",
              "      border-radius: 50%;\n",
              "      cursor: pointer;\n",
              "      display: none;\n",
              "      fill: #1967D2;\n",
              "      height: 32px;\n",
              "      padding: 0 0 0 0;\n",
              "      width: 32px;\n",
              "    }\n",
              "\n",
              "    .colab-df-convert:hover {\n",
              "      background-color: #E2EBFA;\n",
              "      box-shadow: 0px 1px 2px rgba(60, 64, 67, 0.3), 0px 1px 3px 1px rgba(60, 64, 67, 0.15);\n",
              "      fill: #174EA6;\n",
              "    }\n",
              "\n",
              "    [theme=dark] .colab-df-convert {\n",
              "      background-color: #3B4455;\n",
              "      fill: #D2E3FC;\n",
              "    }\n",
              "\n",
              "    [theme=dark] .colab-df-convert:hover {\n",
              "      background-color: #434B5C;\n",
              "      box-shadow: 0px 1px 3px 1px rgba(0, 0, 0, 0.15);\n",
              "      filter: drop-shadow(0px 1px 2px rgba(0, 0, 0, 0.3));\n",
              "      fill: #FFFFFF;\n",
              "    }\n",
              "  </style>\n",
              "\n",
              "      <script>\n",
              "        const buttonEl =\n",
              "          document.querySelector('#df-72f59239-95a5-4164-82bc-53ad2fd9933f button.colab-df-convert');\n",
              "        buttonEl.style.display =\n",
              "          google.colab.kernel.accessAllowed ? 'block' : 'none';\n",
              "\n",
              "        async function convertToInteractive(key) {\n",
              "          const element = document.querySelector('#df-72f59239-95a5-4164-82bc-53ad2fd9933f');\n",
              "          const dataTable =\n",
              "            await google.colab.kernel.invokeFunction('convertToInteractive',\n",
              "                                                     [key], {});\n",
              "          if (!dataTable) return;\n",
              "\n",
              "          const docLinkHtml = 'Like what you see? Visit the ' +\n",
              "            '<a target=\"_blank\" href=https://colab.research.google.com/notebooks/data_table.ipynb>data table notebook</a>'\n",
              "            + ' to learn more about interactive tables.';\n",
              "          element.innerHTML = '';\n",
              "          dataTable['output_type'] = 'display_data';\n",
              "          await google.colab.output.renderOutput(dataTable, element);\n",
              "          const docLink = document.createElement('div');\n",
              "          docLink.innerHTML = docLinkHtml;\n",
              "          element.appendChild(docLink);\n",
              "        }\n",
              "      </script>\n",
              "    </div>\n",
              "  </div>\n",
              "  "
            ]
          },
          "metadata": {},
          "execution_count": 147
        }
      ],
      "source": [
        "errors_by_date_sorted_df = (not_found_df\n",
        "                                .groupBy(\"date\")\n",
        "                                .count()\n",
        "                                .sort(\"date\"))\n",
        "\n",
        "errors_by_date_sorted_pd_df = errors_by_date_sorted_df.toPandas()\n",
        "errors_by_date_sorted_pd_df"
      ]
    },
    {
      "cell_type": "code",
      "execution_count": null,
      "metadata": {
        "id": "rn8eDCGf7Fut",
        "outputId": "0d77d840-eadd-4afd-ef93-dc0191684f86",
        "colab": {
          "base_uri": "https://localhost:8080/",
          "height": 506
        }
      },
      "outputs": [
        {
          "output_type": "display_data",
          "data": {
            "text/plain": [
              "<Figure size 750x500 with 1 Axes>"
            ],
            "image/png": "[encoded data removed]"
          },
          "metadata": {}
        }
      ],
      "source": [
        "c = sns.catplot(x='date', y='count', \n",
        "                data=errors_by_date_sorted_pd_df, \n",
        "                kind='point', height=5, aspect=1.5)"
      ]
    },
    {
      "cell_type": "markdown",
      "metadata": {
        "id": "jIu8INPh7Fut"
      },
      "source": [
        "## Top Three Days for 404 Errors\n"
      ]
    },
    {
      "cell_type": "code",
      "execution_count": null,
      "metadata": {
        "id": "V22ae-pV7Fuu",
        "outputId": "b8d1ebf5-9e27-4104-909a-292ee68b2dae",
        "colab": {
          "base_uri": "https://localhost:8080/"
        }
      },
      "outputs": [
        {
          "output_type": "stream",
          "name": "stdout",
          "text": [
            "+----+-----+\n",
            "|date|count|\n",
            "+----+-----+\n",
            "|   7| 1107|\n",
            "|   6| 1013|\n",
            "|  25|  876|\n",
            "+----+-----+\n",
            "only showing top 3 rows\n",
            "\n"
          ]
        }
      ],
      "source": [
        "(errors_by_date_sorted_df\n",
        "    .sort(\"count\", ascending=False)\n",
        "    .show(3))"
      ]
    },
    {
      "cell_type": "markdown",
      "metadata": {
        "id": "u3PjjquR7Fuu"
      },
      "source": [
        "## Visualizing Hourly 404 Errors"
      ]
    },
    {
      "cell_type": "code",
      "execution_count": null,
      "metadata": {
        "collapsed": true,
        "id": "brNyzCSg7Fuu"
      },
      "outputs": [],
      "source": [
        "hourly_avg_errors_sorted_df = (not_found_df\n",
        "                                   .groupBy('hour')\n",
        "                                   .count()\n",
        "                                   .sort('hour'))\n",
        "hourly_avg_errors_sorted_pd_df = hourly_avg_errors_sorted_df.toPandas()"
      ]
    },
    {
      "cell_type": "code",
      "execution_count": null,
      "metadata": {
        "id": "n3r7wrk37Fuu",
        "outputId": "978f7624-52df-40f2-c7f0-26b1ad4d7845",
        "colab": {
          "base_uri": "https://localhost:8080/",
          "height": 506
        }
      },
      "outputs": [
        {
          "output_type": "display_data",
          "data": {
            "text/plain": [
              "<Figure size 750x500 with 1 Axes>"
            ],
            "image/png": "[encoded data removed]"
          },
          "metadata": {}
        }
      ],
      "source": [
        "c = sns.catplot(x='hour', y='count', \n",
        "                data=hourly_avg_errors_sorted_pd_df, \n",
        "                kind='bar', height=5, aspect=1.5)"
      ]
    },
    {
      "cell_type": "markdown",
      "metadata": {
        "id": "soeMndoj7Fuu"
      },
      "source": [
        "### Reset the max rows displayed in pandas"
      ]
    },
    {
      "cell_type": "code",
      "execution_count": null,
      "metadata": {
        "collapsed": true,
        "id": "QWfTL_bX7Fuv"
      },
      "outputs": [],
      "source": [
        "pd.set_option('display.max_rows', def_mr)\n",
        "\n"
      ]
    },
    {
      "cell_type": "markdown",
      "metadata": {
        "id": "_FIpFnmY7Fuu"
      },
      "source": [
        "## Top 10 years in which there are least 404 status codes"
      ]
    },
    {
      "cell_type": "code",
      "execution_count": null,
      "metadata": {
        "id": "8V6danMH7Fuu",
        "outputId": "f4fd760b-a666-4617-b7a5-fc67aa21fe27",
        "colab": {
          "base_uri": "https://localhost:8080/"
        }
      },
      "outputs": [
        {
          "output_type": "stream",
          "name": "stdout",
          "text": [
            "+----+-----+\n",
            "|year|count|\n",
            "+----+-----+\n",
            "|1995|20899|\n",
            "+----+-----+\n",
            "\n"
          ]
        }
      ],
      "source": [
        "from pyspark.sql.functions import col\n",
        "\n",
        "# Group by year and count the occurrences\n",
        "year_counts_df = not_found_df.groupBy('year').count()\n",
        "\n",
        "# Sort the DataFrame in ascending order\n",
        "year_counts_df = year_counts_df.sort(col('count').asc())\n",
        "\n",
        "# Show the top 10 records\n",
        "year_counts_df.show(10)\n"
      ]
    },
    {
      "cell_type": "markdown",
      "source": [
        "## Days of the Week with the Least 404 Status Codes"
      ],
      "metadata": {
        "id": "YD-X3rMu1YJj"
      }
    },
    {
      "cell_type": "code",
      "source": [
        "from pyspark.sql.functions import col\n",
        "\n",
        "week_counts_df = not_found_df.groupBy('day_of_week').count().orderBy(col('count').asc())\n",
        "week_counts_df.show()"
      ],
      "metadata": {
        "id": "J_XjWm8d0Slg",
        "outputId": "5c4dd0b6-6673-4980-b74f-8390eaea8780",
        "colab": {
          "base_uri": "https://localhost:8080/"
        }
      },
      "execution_count": null,
      "outputs": [
        {
          "output_type": "stream",
          "name": "stdout",
          "text": [
            "+-----------+-----+\n",
            "|day_of_week|count|\n",
            "+-----------+-----+\n",
            "|   Saturday| 2069|\n",
            "|     Sunday| 2400|\n",
            "|     Friday| 2691|\n",
            "|     Monday| 3145|\n",
            "|  Wednesday| 3397|\n",
            "|    Tuesday| 3425|\n",
            "|   Thursday| 3772|\n",
            "+-----------+-----+\n",
            "\n"
          ]
        }
      ]
    },
    {
      "cell_type": "code",
      "source": [
        "import seaborn as sns\n",
        "import matplotlib.pyplot as plt\n",
        "import pandas as pd\n",
        "\n",
        "# Convert the Spark DataFrame to a pandas DataFrame\n",
        "week_counts_pd = week_counts_df.toPandas()\n",
        "\n",
        "# Define a color palette\n",
        "colors = sns.color_palette('viridis', len(week_counts_pd))\n",
        "\n",
        "# Plot the data using sns.catplot with customized colors\n",
        "plot = sns.catplot(x='day_of_week', y='count', kind='bar', data=week_counts_pd, palette=colors)\n",
        "\n",
        "# Set labels and title\n",
        "plot.set(xlabel='Day of the Week', ylabel='Count')\n",
        "plot.fig.suptitle('Days of the Week with the Least 404 Status Codes')\n",
        "\n",
        "# Rotate the x-axis labels diagonally\n",
        "plt.xticks(rotation=45, ha='right')\n",
        "\n",
        "# Show the plot\n",
        "plt.show()"
      ],
      "metadata": {
        "id": "oz2hVOTj1ruf",
        "outputId": "8e66c1f5-94df-4c99-b099-8d43bb6ecb4a",
        "colab": {
          "base_uri": "https://localhost:8080/",
          "height": 564
        }
      },
      "execution_count": null,
      "outputs": [
        {
          "output_type": "display_data",
          "data": {
            "text/plain": [
              "<Figure size 500x500 with 1 Axes>"
            ],
            "image/png": "[encoded data removed]"
          },
          "metadata": {}
        }
      ]
    },
    {
      "cell_type": "markdown",
      "metadata": {
        "id": "Sat6YBXl7Fuv"
      },
      "source": [
        "## Endpoint that received the highest number of invocations on a specific day of the week"
      ]
    },
    {
      "cell_type": "markdown",
      "source": [
        "Calculating the count of invocations for each unique combination of day of the week and endpoint"
      ],
      "metadata": {
        "id": "eIpmRysO3E5e"
      }
    },
    {
      "cell_type": "code",
      "execution_count": null,
      "metadata": {
        "id": "aik1QifG7Fuv",
        "outputId": "29abd26f-5d1d-4888-c6b9-b80a244fd246",
        "colab": {
          "base_uri": "https://localhost:8080/"
        }
      },
      "outputs": [
        {
          "output_type": "stream",
          "name": "stdout",
          "text": [
            "+-----------+--------------------+-----------+\n",
            "|day_of_week|            endpoint|invocations|\n",
            "+-----------+--------------------+-----------+\n",
            "|   Saturday|/images/vab-small...|        333|\n",
            "|   Saturday|/cgi-bin/imagemap...|          6|\n",
            "|   Saturday|/cgi-bin/imagemap...|          4|\n",
            "|   Saturday|/shuttle/technolo...|        611|\n",
            "|   Saturday|/cgi-bin/imagemap...|          1|\n",
            "|   Saturday|/cgi-bin/imagemap...|          1|\n",
            "|   Saturday|/history/apollo/a...|         35|\n",
            "|   Saturday|/software/winvn/u...|          2|\n",
            "|   Saturday|     /icons/back.xbm|          5|\n",
            "|   Saturday|/history/apollo/a...|         56|\n",
            "+-----------+--------------------+-----------+\n",
            "only showing top 10 rows\n",
            "\n"
          ]
        }
      ],
      "source": [
        "from pyspark.sql.functions import date_format, count, max\n",
        "# Group the data by day of the week and endpoint, and count the number of invocations\n",
        "grouped_df = logs_df.groupBy('day_of_week', 'endpoint').agg(count('*').alias('invocations'))\n",
        "grouped_df.show(10, truncate=True)\n"
      ]
    },
    {
      "cell_type": "markdown",
      "source": [
        "Select the highest count for each unique day of week"
      ],
      "metadata": {
        "id": "lv4xiGYz3UVO"
      }
    },
    {
      "cell_type": "code",
      "execution_count": null,
      "metadata": {
        "id": "lTZJZInU7Fuv",
        "outputId": "028aac36-53e5-4ddb-ce9e-50103534bf34",
        "colab": {
          "base_uri": "https://localhost:8080/"
        }
      },
      "outputs": [
        {
          "output_type": "stream",
          "name": "stdout",
          "text": [
            "+-----------+--------------------+-----------+\n",
            "|day_of_week|            endpoint|invocations|\n",
            "+-----------+--------------------+-----------+\n",
            "|     Friday|/images/NASA-logo...|      29139|\n",
            "|     Monday|/images/NASA-logo...|      30380|\n",
            "|   Saturday|/images/NASA-logo...|      16168|\n",
            "|     Sunday|/images/KSC-logos...|      15218|\n",
            "|   Thursday|/images/NASA-logo...|      46920|\n",
            "|    Tuesday|/images/NASA-logo...|      33685|\n",
            "|  Wednesday|/images/NASA-logo...|      37598|\n",
            "+-----------+--------------------+-----------+\n",
            "\n"
          ]
        }
      ],
      "source": [
        "# Avoids the join operation. \n",
        "# Utilize window functions to rank the rows and directly filter the rows with the highest invocations.\n",
        "# This can be advantageous when dealing with large datasets since it avoids the overhead of the join operation.\n",
        "\n",
        "from pyspark.sql.functions import row_number\n",
        "from pyspark.sql.window import Window\n",
        "\n",
        "# Add a row number column based on the invocations in descending order for each day_of_week\n",
        "windowSpec = Window.partitionBy('day_of_week').orderBy(grouped_df['invocations'].desc())\n",
        "ranked_df = grouped_df.withColumn('rank', row_number().over(windowSpec))\n",
        "\n",
        "# Filter the ranked DataFrame to retain only the rows with rank 1 (highest invocations)\n",
        "max_invocations_df = ranked_df.filter(ranked_df['rank'] == 1)\n",
        "\n",
        "# Summarize the results and display the day_of_week, endpoint, and invocations with max invocations\n",
        "max_invocations_df.select('day_of_week', 'endpoint', 'invocations').show()"
      ]
    },
    {
      "cell_type": "code",
      "source": [
        "import matplotlib.pyplot as plt\n",
        "import seaborn as sns\n",
        "\n",
        "# Extract the data from the DataFrame\n",
        "days_of_week = max_invocations_df.select('day_of_week').rdd.flatMap(lambda x: x).collect()\n",
        "endpoints = max_invocations_df.select('endpoint').rdd.flatMap(lambda x: x).collect()\n",
        "invocations = max_invocations_df.select('invocations').rdd.flatMap(lambda x: x).collect()\n",
        "\n",
        "# Create the bar plot with colorful bars\n",
        "fig, ax = plt.subplots()\n",
        "bars = ax.bar(days_of_week, invocations, color=sns.color_palette('viridis', len(days_of_week)))\n",
        "plt.xlabel('Day of the Week')\n",
        "plt.ylabel('Invocations')\n",
        "plt.title('Endpoint with Highest Invocations on Each Day of the Week')\n",
        "\n",
        "# Annotate the bars with the corresponding endpoints\n",
        "for i, bar in enumerate(bars):\n",
        "    ax.text(bar.get_x() + bar.get_width() / 2, 2,  # Set y-coordinate to 2\n",
        "            endpoints[i], ha='center', va='bottom', rotation=90)\n",
        "\n",
        "# Rotate the x-labels diagonally\n",
        "plt.xticks(rotation=45, ha='right')\n",
        "\n",
        "# Show the plot\n",
        "plt.show()"
      ],
      "metadata": {
        "id": "kBSC1iLU3z8K",
        "outputId": "c7270148-2822-4215-cfdc-30608850635e",
        "colab": {
          "base_uri": "https://localhost:8080/",
          "height": 525
        }
      },
      "execution_count": null,
      "outputs": [
        {
          "output_type": "display_data",
          "data": {
            "text/plain": [
              "<Figure size 640x480 with 1 Axes>"
            ],
            "image/png": "[encoded data removed]"
          },
          "metadata": {}
        }
      ]
    },
    {
      "cell_type": "code",
      "execution_count": null,
      "metadata": {
        "id": "_IySfwiR7Fuv"
      },
      "outputs": [],
      "source": [
        "\n",
        "# from pyspark.sql.functions import col, max\n",
        "\n",
        "# # Find the maximum invocations for each day_of_week\n",
        "# max_invocations_df = grouped_df.groupBy('day_of_week').agg(max('invocations').alias('max_invocations'))\n",
        "\n",
        "# # Join the original DataFrame with the maximum invocations to get the corresponding endpoint\n",
        "# result_df = grouped_df.join(max_invocations_df, 'day_of_week', 'inner') \\\n",
        "#     .filter(col('invocations') == col('max_invocations')) \\\n",
        "#     .select('day_of_week', 'endpoint', 'max_invocations')\n",
        "\n",
        "# # Summarize the results and display the day_of_week, endpoint, and invocations with max invocations\n",
        "# result_df.show()\n"
      ]
    }
  ],
  "metadata": {
    "kernelspec": {
      "display_name": "Python 3",
      "language": "python",
      "name": "python3"
    },
    "language_info": {
      "codemirror_mode": {
        "name": "ipython",
        "version": 3
      },
      "file_extension": ".py",
      "mimetype": "text/x-python",
      "name": "python",
      "nbconvert_exporter": "python",
      "pygments_lexer": "ipython3",
      "version": "3.11.3"
    },
    "colab": {
      "provenance": [],
      "toc_visible": true,
      "include_colab_link": true
    }
  },
  "nbformat": 4,
  "nbformat_minor": 0
}