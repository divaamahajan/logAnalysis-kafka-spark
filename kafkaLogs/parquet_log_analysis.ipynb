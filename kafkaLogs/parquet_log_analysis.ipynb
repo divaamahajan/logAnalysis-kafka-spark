{
  "cells": [
    {
      "cell_type": "markdown",
      "metadata": {
        "id": "view-in-github",
        "colab_type": "text"
      },
      "source": [
        "<a href=\"https://colab.research.google.com/github/divaamahajan/logAnalysis-kafka-spark/blob/main/kafkaLogs/parquet_log_analysis.ipynb\" target=\"_parent\"><img src=\"https://colab.research.google.com/assets/colab-badge.svg\" alt=\"Open In Colab\"/></a>"
      ]
    },
    {
      "cell_type": "markdown",
      "metadata": {
        "id": "Bo-DNZvk7FuO"
      },
      "source": [
        "# Scalable Web Server Log Analytics with Apache Spark\n"
      ]
    },
    {
      "cell_type": "markdown",
      "metadata": {
        "id": "KGdeyPtp7FuS"
      },
      "source": [
        "# Setting up Dependencies"
      ]
    },
    {
      "cell_type": "code",
      "execution_count": 2,
      "metadata": {
        "id": "4oE0N_nl7FuS",
        "outputId": "5d5ae871-060d-444b-dc3e-7d092987bed4",
        "colab": {
          "base_uri": "https://localhost:8080/"
        }
      },
      "outputs": [
        {
          "output_type": "stream",
          "name": "stdout",
          "text": [
            "Looking in indexes: https://pypi.org/simple, https://us-python.pkg.dev/colab-wheels/public/simple/\n",
            "Collecting spark\n",
            "  Downloading spark-0.2.1.tar.gz (41 kB)\n",
            "\u001b[2K     \u001b[90m━━━━━━━━━━━━━━━━━━━━━━━━━━━━━━━━━━━━━━━━\u001b[0m \u001b[32m41.0/41.0 kB\u001b[0m \u001b[31m4.3 MB/s\u001b[0m eta \u001b[36m0:00:00\u001b[0m\n",
            "\u001b[?25h  Preparing metadata (setup.py) ... \u001b[?25l\u001b[?25hdone\n",
            "Building wheels for collected packages: spark\n",
            "  Building wheel for spark (setup.py) ... \u001b[?25l\u001b[?25hdone\n",
            "  Created wheel for spark: filename=spark-0.2.1-py3-none-any.whl size=58747 sha256=80d36759f86ea31bd1064d2771284640be6cc7444437d954f3df98e64323e024\n",
            "  Stored in directory: /root/.cache/pip/wheels/63/88/77/b4131110ea4094540f7b47c6d62a649807d7e94800da5eab0b\n",
            "Successfully built spark\n",
            "Installing collected packages: spark\n",
            "Successfully installed spark-0.2.1\n",
            "Looking in indexes: https://pypi.org/simple, https://us-python.pkg.dev/colab-wheels/public/simple/\n",
            "Collecting pyspark\n",
            "  Downloading pyspark-3.4.0.tar.gz (310.8 MB)\n",
            "\u001b[2K     \u001b[90m━━━━━━━━━━━━━━━━━━━━━━━━━━━━━━━━━━━━━━━\u001b[0m \u001b[32m310.8/310.8 MB\u001b[0m \u001b[31m1.2 MB/s\u001b[0m eta \u001b[36m0:00:00\u001b[0m\n",
            "\u001b[?25h  Preparing metadata (setup.py) ... \u001b[?25l\u001b[?25hdone\n",
            "Requirement already satisfied: py4j==0.10.9.7 in /usr/local/lib/python3.10/dist-packages (from pyspark) (0.10.9.7)\n",
            "Building wheels for collected packages: pyspark\n",
            "  Building wheel for pyspark (setup.py) ... \u001b[?25l\u001b[?25hdone\n",
            "  Created wheel for pyspark: filename=pyspark-3.4.0-py2.py3-none-any.whl size=311317130 sha256=006a0cd144aa817d829ee33c5af4465425c4a50f4a1f3e8aa81793ecf417119c\n",
            "  Stored in directory: /root/.cache/pip/wheels/7b/1b/4b/3363a1d04368e7ff0d408e57ff57966fcdf00583774e761327\n",
            "Successfully built pyspark\n",
            "Installing collected packages: pyspark\n",
            "Successfully installed pyspark-3.4.0\n",
            "Looking in indexes: https://pypi.org/simple, https://us-python.pkg.dev/colab-wheels/public/simple/\n",
            "Requirement already satisfied: seaborn in /usr/local/lib/python3.10/dist-packages (0.12.2)\n",
            "Requirement already satisfied: numpy!=1.24.0,>=1.17 in /usr/local/lib/python3.10/dist-packages (from seaborn) (1.22.4)\n",
            "Requirement already satisfied: pandas>=0.25 in /usr/local/lib/python3.10/dist-packages (from seaborn) (1.5.3)\n",
            "Requirement already satisfied: matplotlib!=3.6.1,>=3.1 in /usr/local/lib/python3.10/dist-packages (from seaborn) (3.7.1)\n",
            "Requirement already satisfied: contourpy>=1.0.1 in /usr/local/lib/python3.10/dist-packages (from matplotlib!=3.6.1,>=3.1->seaborn) (1.0.7)\n",
            "Requirement already satisfied: cycler>=0.10 in /usr/local/lib/python3.10/dist-packages (from matplotlib!=3.6.1,>=3.1->seaborn) (0.11.0)\n",
            "Requirement already satisfied: fonttools>=4.22.0 in /usr/local/lib/python3.10/dist-packages (from matplotlib!=3.6.1,>=3.1->seaborn) (4.39.3)\n",
            "Requirement already satisfied: kiwisolver>=1.0.1 in /usr/local/lib/python3.10/dist-packages (from matplotlib!=3.6.1,>=3.1->seaborn) (1.4.4)\n",
            "Requirement already satisfied: packaging>=20.0 in /usr/local/lib/python3.10/dist-packages (from matplotlib!=3.6.1,>=3.1->seaborn) (23.1)\n",
            "Requirement already satisfied: pillow>=6.2.0 in /usr/local/lib/python3.10/dist-packages (from matplotlib!=3.6.1,>=3.1->seaborn) (8.4.0)\n",
            "Requirement already satisfied: pyparsing>=2.3.1 in /usr/local/lib/python3.10/dist-packages (from matplotlib!=3.6.1,>=3.1->seaborn) (3.0.9)\n",
            "Requirement already satisfied: python-dateutil>=2.7 in /usr/local/lib/python3.10/dist-packages (from matplotlib!=3.6.1,>=3.1->seaborn) (2.8.2)\n",
            "Requirement already satisfied: pytz>=2020.1 in /usr/local/lib/python3.10/dist-packages (from pandas>=0.25->seaborn) (2022.7.1)\n",
            "Requirement already satisfied: six>=1.5 in /usr/local/lib/python3.10/dist-packages (from python-dateutil>=2.7->matplotlib!=3.6.1,>=3.1->seaborn) (1.16.0)\n"
          ]
        }
      ],
      "source": [
        "!pip install spark\n",
        "!pip install pyspark\n",
        "!pip install -U seaborn"
      ]
    },
    {
      "cell_type": "code",
      "execution_count": null,
      "metadata": {
        "collapsed": true,
        "id": "tpgkWWxL7FuU"
      },
      "outputs": [],
      "source": [
        "from pyspark.context import SparkContext\n",
        "from pyspark.sql.context import SQLContext\n",
        "from pyspark.sql.session import SparkSession\n",
        "\n",
        "# Get the existing SparkSession\n",
        "spark = SparkSession.builder.getOrCreate()\n",
        "\n",
        "# Create SQLContext\n",
        "sqlContext = SQLContext(spark)\n"
      ]
    },
    {
      "cell_type": "code",
      "source": [
        "spark"
      ],
      "metadata": {
        "id": "IY6vPZdnrhZk",
        "outputId": "36420de4-5f90-4187-8e91-fdcf9f1522d6",
        "colab": {
          "base_uri": "https://localhost:8080/",
          "height": 219
        }
      },
      "execution_count": 4,
      "outputs": [
        {
          "output_type": "execute_result",
          "data": {
            "text/plain": [
              "<pyspark.sql.session.SparkSession at 0x7f837e79b9d0>"
            ],
            "text/html": [
              "\n",
              "            <div>\n",
              "                <p><b>SparkSession - in-memory</b></p>\n",
              "                \n",
              "        <div>\n",
              "            <p><b>SparkContext</b></p>\n",
              "\n",
              "            <p><a href=\"http://4a45ffba0674:4040\">Spark UI</a></p>\n",
              "\n",
              "            <dl>\n",
              "              <dt>Version</dt>\n",
              "                <dd><code>v3.4.0</code></dd>\n",
              "              <dt>Master</dt>\n",
              "                <dd><code>local[*]</code></dd>\n",
              "              <dt>AppName</dt>\n",
              "                <dd><code>pyspark-shell</code></dd>\n",
              "            </dl>\n",
              "        </div>\n",
              "        \n",
              "            </div>\n",
              "        "
            ]
          },
          "metadata": {},
          "execution_count": 4
        }
      ]
    },
    {
      "cell_type": "code",
      "source": [
        "sqlContext"
      ],
      "metadata": {
        "id": "nnNLRADJrlYx",
        "outputId": "56a1bf1f-9b19-4112-e4e1-ea4a0ed7cd6e",
        "colab": {
          "base_uri": "https://localhost:8080/"
        }
      },
      "execution_count": 5,
      "outputs": [
        {
          "output_type": "execute_result",
          "data": {
            "text/plain": [
              "<pyspark.sql.context.SQLContext at 0x7f839a563550>"
            ]
          },
          "metadata": {},
          "execution_count": 5
        }
      ]
    },
    {
      "cell_type": "code",
      "execution_count": 6,
      "metadata": {
        "id": "08dooI3n7FuV"
      },
      "outputs": [],
      "source": [
        "import re\n",
        "import pandas as pd"
      ]
    },
    {
      "cell_type": "markdown",
      "metadata": {
        "id": "s7XZXHat7FuV"
      },
      "source": [
        "## Basic Regular Expressions"
      ]
    },
    {
      "cell_type": "code",
      "execution_count": 7,
      "metadata": {
        "id": "SupiOwiz7FuV",
        "outputId": "69cb03a8-99fb-4b46-d93b-df6603fe01f4",
        "colab": {
          "base_uri": "https://localhost:8080/"
        }
      },
      "outputs": [
        {
          "output_type": "stream",
          "name": "stdout",
          "text": [
            "<re.Match object; span=(0, 25), match=\"I'm searching for a spark\"> 0 25\n",
            "<re.Match object; span=(25, 36), match=' in PySpark'> 25 36\n"
          ]
        }
      ],
      "source": [
        "m = re.finditer(r'.*?(spark).*?', \"I'm searching for a spark in PySpark\", re.I)\n",
        "for match in m:\n",
        "    print(match, match.start(), match.end())"
      ]
    },
    {
      "cell_type": "markdown",
      "metadata": {
        "id": "8SIU91l17FuW"
      },
      "source": [
        "# Loading and Viewing the parquet files\n"
      ]
    },
    {
      "cell_type": "code",
      "source": [
        "import glob\n",
        "import zipfile\n",
        "\n",
        "# Find the path of the zip file\n",
        "zip_file_path = glob.glob('*.zip')[0]\n",
        "\n",
        "# Extract the zip file\n",
        "with zipfile.ZipFile(zip_file_path, 'r') as zip_ref:\n",
        "    zip_ref.extractall()\n"
      ],
      "metadata": {
        "id": "muvq7nJKIVSV"
      },
      "execution_count": 34,
      "outputs": []
    },
    {
      "cell_type": "code",
      "execution_count": 35,
      "metadata": {
        "id": "8PUj06pc7FuW",
        "outputId": "64ef50cb-c975-4995-823c-e35f7aa2f477",
        "colab": {
          "base_uri": "https://localhost:8080/"
        }
      },
      "outputs": [
        {
          "output_type": "execute_result",
          "data": {
            "text/plain": [
              "['parquet/part-00000-88388fb2-d737-474b-abed-dee2a47e0856-c000.snappy.parquet',\n",
              " 'parquet/part-00000-ef9610f0-d588-4f59-9331-bd52e4f17869-c000.snappy.parquet',\n",
              " 'parquet/part-00000-d3acb701-a68a-4c88-82dc-9d7dd25d76f2-c000.snappy.parquet',\n",
              " 'parquet/part-00000-9415283f-c125-4c12-8be2-bae552aa8192-c000.snappy.parquet',\n",
              " 'parquet/part-00000-6f96cad8-1d37-46b4-b67e-76d0c9ea81a7-c000.snappy.parquet',\n",
              " 'parquet/part-00000-0c822a6e-970f-4e1a-9a1d-cd598193bce5-c000.snappy.parquet',\n",
              " 'parquet/part-00000-d794c4f4-4ec8-435d-81d9-c29062bc1a5b-c000.snappy.parquet',\n",
              " 'parquet/part-00000-d9a79b41-c904-4722-a1b1-2b5f0b55eb68-c000.snappy.parquet']"
            ]
          },
          "metadata": {},
          "execution_count": 35
        }
      ],
      "source": [
        "parquet_files = glob.glob('parquet/*.parquet')\n",
        "parquet_files"
      ]
    },
    {
      "cell_type": "markdown",
      "metadata": {
        "id": "vHMyTqyn7FuX"
      },
      "source": [
        "### Metadata of dataframe"
      ]
    },
    {
      "cell_type": "code",
      "source": [
        "# Read the Parquet files into a DataFrame\n",
        "logs_df = spark.read.parquet(*parquet_files)\n",
        "\n",
        "# Show the first 10 rows of the DataFrame\n",
        "logs_df.show(10, truncate=False)\n"
      ],
      "metadata": {
        "colab": {
          "base_uri": "https://localhost:8080/"
        },
        "id": "u7sp3dcYH1uX",
        "outputId": "9bcb4457-8d9d-4c67-e9e1-0162f9a5ca6b"
      },
      "execution_count": 63,
      "outputs": [
        {
          "output_type": "stream",
          "name": "stdout",
          "text": [
            "+---------------+----+-----+---+----+------+------+---------------------------------------------------------------------------------+------------+-------------+-----+\n",
            "|ip_address     |year|month|day|hour|minute|method|endpoint                                                                         |http_version|response_code|bytes|\n",
            "+---------------+----+-----+---+----+------+------+---------------------------------------------------------------------------------+------------+-------------+-----+\n",
            "|75.77.74.150   |2118|Dec  |26 |    |      |GET   |/Archives/edgar/data/0001518715/000151871522000011/0001518715-22-000011-index.htm|1.0         |200          |5302 |\n",
            "|176.120.174.1  |2118|Dec  |26 |    |      |POST  |/Archives/edgar/data/0001411207/000156459021052445/0001564590-21-052445-index.htm|1.0         |500          |34727|\n",
            "|162.200.34.120 |2118|Dec  |26 |    |      |POST  |/Archives/edgar/data/0000101382/000156459022006546/umbf-10k_20211231.htm         |1.0         |403          |25428|\n",
            "|133.224.84.239 |2118|Dec  |26 |    |      |GET   |/Archives/edgar/data/0001179929/000117992922000054/a2022definitiveproxy.htm      |1.0         |304          |27248|\n",
            "|211.239.196.64 |2118|Dec  |26 |    |      |GET   |/Archives/edgar/data/0000081391/000093247112005362/0000932471-12-005362.txt      |1.0         |200          |32034|\n",
            "|152.154.66.105 |2118|Dec  |26 |    |      |GET   |/Archives/edgar/data/0001760283/000121390021017155/s131124_10k.htm               |1.0         |200          |43782|\n",
            "|41.76.166.189  |2118|Dec  |26 |    |      |PUT   |/Archives/edgar/data/0000004281/000119312517062657/R98.htm                       |1.0         |304          |53533|\n",
            "|134.27.187.18  |2118|Dec  |26 |    |      |POST  |/Archives/edgar/data/0001801390/000121390021017183/s131106_10k.htm               |1.0         |404          |15445|\n",
            "|152.77.55.45   |2118|Dec  |26 |    |      |PUT   |/Archives/edgar/data/20520/0000020520-12-000047.txt                              |1.0         |200          |44416|\n",
            "|115.252.123.132|2118|Dec  |26 |    |      |POST  |/Archives/edgar/data/0001179929/000117992923000043/moh-20230320_g26.jpg          |1.0         |500          |11453|\n",
            "+---------------+----+-----+---+----+------+------+---------------------------------------------------------------------------------+------------+-------------+-----+\n",
            "only showing top 10 rows\n",
            "\n"
          ]
        }
      ]
    },
    {
      "cell_type": "code",
      "execution_count": 64,
      "metadata": {
        "id": "Cg5PRli17FuX",
        "outputId": "edb34e9f-599c-4026-9cf4-52dcb02fca0d",
        "colab": {
          "base_uri": "https://localhost:8080/"
        }
      },
      "outputs": [
        {
          "output_type": "stream",
          "name": "stdout",
          "text": [
            "root\n",
            " |-- ip_address: string (nullable = true)\n",
            " |-- year: string (nullable = true)\n",
            " |-- month: string (nullable = true)\n",
            " |-- day: string (nullable = true)\n",
            " |-- hour: string (nullable = true)\n",
            " |-- minute: string (nullable = true)\n",
            " |-- method: string (nullable = true)\n",
            " |-- endpoint: string (nullable = true)\n",
            " |-- http_version: string (nullable = true)\n",
            " |-- response_code: string (nullable = true)\n",
            " |-- bytes: string (nullable = true)\n",
            "\n"
          ]
        }
      ],
      "source": [
        "logs_df.printSchema()"
      ]
    },
    {
      "cell_type": "code",
      "execution_count": 65,
      "metadata": {
        "id": "Cq7b6Hcy7FuX",
        "outputId": "6fad1e4c-974c-4d8e-fd04-0c4fe361378a",
        "colab": {
          "base_uri": "https://localhost:8080/"
        }
      },
      "outputs": [
        {
          "output_type": "execute_result",
          "data": {
            "text/plain": [
              "pyspark.sql.dataframe.DataFrame"
            ]
          },
          "metadata": {},
          "execution_count": 65
        }
      ],
      "source": [
        "type(logs_df)"
      ]
    },
    {
      "cell_type": "markdown",
      "metadata": {
        "id": "MGCftH7T7FuX"
      },
      "source": [
        "Convert a dataframe to an RDD if needed"
      ]
    },
    {
      "cell_type": "code",
      "execution_count": 66,
      "metadata": {
        "id": "lJbCca9g7FuX",
        "outputId": "a24f3ce5-b245-4221-e97e-0d5196fd66ac",
        "colab": {
          "base_uri": "https://localhost:8080/"
        }
      },
      "outputs": [
        {
          "output_type": "execute_result",
          "data": {
            "text/plain": [
              "pyspark.rdd.RDD"
            ]
          },
          "metadata": {},
          "execution_count": 66
        }
      ],
      "source": [
        "logs_df_rdd = logs_df.rdd\n",
        "type(logs_df_rdd)"
      ]
    },
    {
      "cell_type": "markdown",
      "metadata": {
        "id": "d_TZEzAA7FuX"
      },
      "source": [
        "### Viewing sample data in our dataframe"
      ]
    },
    {
      "cell_type": "code",
      "execution_count": 40,
      "metadata": {
        "id": "clKqKj387FuY",
        "outputId": "ca1f94ef-7363-47c9-e6cd-2d127de92fd5",
        "colab": {
          "base_uri": "https://localhost:8080/"
        }
      },
      "outputs": [
        {
          "output_type": "stream",
          "name": "stdout",
          "text": [
            "+---------------+----+-----+---+----+------+------+---------------------------------------------------------------------------------+------------+-------------+-----+\n",
            "|ip_address     |year|month|day|hour|minute|method|endpoint                                                                         |http_version|response_code|bytes|\n",
            "+---------------+----+-----+---+----+------+------+---------------------------------------------------------------------------------+------------+-------------+-----+\n",
            "|75.77.74.150   |2118|Dec  |26 |    |      |GET   |/Archives/edgar/data/0001518715/000151871522000011/0001518715-22-000011-index.htm|1.0         |200          |5302 |\n",
            "|176.120.174.1  |2118|Dec  |26 |    |      |POST  |/Archives/edgar/data/0001411207/000156459021052445/0001564590-21-052445-index.htm|1.0         |500          |34727|\n",
            "|162.200.34.120 |2118|Dec  |26 |    |      |POST  |/Archives/edgar/data/0000101382/000156459022006546/umbf-10k_20211231.htm         |1.0         |403          |25428|\n",
            "|133.224.84.239 |2118|Dec  |26 |    |      |GET   |/Archives/edgar/data/0001179929/000117992922000054/a2022definitiveproxy.htm      |1.0         |304          |27248|\n",
            "|211.239.196.64 |2118|Dec  |26 |    |      |GET   |/Archives/edgar/data/0000081391/000093247112005362/0000932471-12-005362.txt      |1.0         |200          |32034|\n",
            "|152.154.66.105 |2118|Dec  |26 |    |      |GET   |/Archives/edgar/data/0001760283/000121390021017155/s131124_10k.htm               |1.0         |200          |43782|\n",
            "|41.76.166.189  |2118|Dec  |26 |    |      |PUT   |/Archives/edgar/data/0000004281/000119312517062657/R98.htm                       |1.0         |304          |53533|\n",
            "|134.27.187.18  |2118|Dec  |26 |    |      |POST  |/Archives/edgar/data/0001801390/000121390021017183/s131106_10k.htm               |1.0         |404          |15445|\n",
            "|152.77.55.45   |2118|Dec  |26 |    |      |PUT   |/Archives/edgar/data/20520/0000020520-12-000047.txt                              |1.0         |200          |44416|\n",
            "|115.252.123.132|2118|Dec  |26 |    |      |POST  |/Archives/edgar/data/0001179929/000117992923000043/moh-20230320_g26.jpg          |1.0         |500          |11453|\n",
            "+---------------+----+-----+---+----+------+------+---------------------------------------------------------------------------------+------------+-------------+-----+\n",
            "only showing top 10 rows\n",
            "\n"
          ]
        }
      ],
      "source": [
        "logs_df.show(10, truncate=False)"
      ]
    },
    {
      "cell_type": "code",
      "execution_count": 41,
      "metadata": {
        "id": "p6xRQBld7FuY",
        "outputId": "c7773e8f-91bf-4786-a7b3-a612ec79f02f",
        "colab": {
          "base_uri": "https://localhost:8080/"
        }
      },
      "outputs": [
        {
          "output_type": "execute_result",
          "data": {
            "text/plain": [
              "[Row(ip_address='75.77.74.150', year='2118', month='Dec', day='26', hour='', minute='', method='GET', endpoint='/Archives/edgar/data/0001518715/000151871522000011/0001518715-22-000011-index.htm', http_version='1.0', response_code='200', bytes='5302'),\n",
              " Row(ip_address='176.120.174.1', year='2118', month='Dec', day='26', hour='', minute='', method='POST', endpoint='/Archives/edgar/data/0001411207/000156459021052445/0001564590-21-052445-index.htm', http_version='1.0', response_code='500', bytes='34727'),\n",
              " Row(ip_address='162.200.34.120', year='2118', month='Dec', day='26', hour='', minute='', method='POST', endpoint='/Archives/edgar/data/0000101382/000156459022006546/umbf-10k_20211231.htm', http_version='1.0', response_code='403', bytes='25428'),\n",
              " Row(ip_address='133.224.84.239', year='2118', month='Dec', day='26', hour='', minute='', method='GET', endpoint='/Archives/edgar/data/0001179929/000117992922000054/a2022definitiveproxy.htm', http_version='1.0', response_code='304', bytes='27248'),\n",
              " Row(ip_address='211.239.196.64', year='2118', month='Dec', day='26', hour='', minute='', method='GET', endpoint='/Archives/edgar/data/0000081391/000093247112005362/0000932471-12-005362.txt', http_version='1.0', response_code='200', bytes='32034'),\n",
              " Row(ip_address='152.154.66.105', year='2118', month='Dec', day='26', hour='', minute='', method='GET', endpoint='/Archives/edgar/data/0001760283/000121390021017155/s131124_10k.htm', http_version='1.0', response_code='200', bytes='43782'),\n",
              " Row(ip_address='41.76.166.189', year='2118', month='Dec', day='26', hour='', minute='', method='PUT', endpoint='/Archives/edgar/data/0000004281/000119312517062657/R98.htm', http_version='1.0', response_code='304', bytes='53533'),\n",
              " Row(ip_address='134.27.187.18', year='2118', month='Dec', day='26', hour='', minute='', method='POST', endpoint='/Archives/edgar/data/0001801390/000121390021017183/s131106_10k.htm', http_version='1.0', response_code='404', bytes='15445'),\n",
              " Row(ip_address='152.77.55.45', year='2118', month='Dec', day='26', hour='', minute='', method='PUT', endpoint='/Archives/edgar/data/20520/0000020520-12-000047.txt', http_version='1.0', response_code='200', bytes='44416'),\n",
              " Row(ip_address='115.252.123.132', year='2118', month='Dec', day='26', hour='', minute='', method='POST', endpoint='/Archives/edgar/data/0001179929/000117992923000043/moh-20230320_g26.jpg', http_version='1.0', response_code='500', bytes='11453')]"
            ]
          },
          "metadata": {},
          "execution_count": 41
        }
      ],
      "source": [
        "logs_df_rdd.take(10)"
      ]
    },
    {
      "cell_type": "markdown",
      "metadata": {
        "id": "EDtl45uO7FuY"
      },
      "source": [
        "# Data Wrangling\n",
        "Clean and parse dataset to extract structured attributes with meaningful information from each log message.\n"
      ]
    },
    {
      "cell_type": "code",
      "execution_count": 42,
      "metadata": {
        "id": "kkwfF2_47FuZ",
        "outputId": "cf1743e6-334d-4e52-930a-238fb2bfa4f2",
        "colab": {
          "base_uri": "https://localhost:8080/"
        }
      },
      "outputs": [
        {
          "output_type": "stream",
          "name": "stdout",
          "text": [
            "(120001, 11)\n"
          ]
        }
      ],
      "source": [
        "print((logs_df.count(), len(logs_df.columns)))"
      ]
    },
    {
      "cell_type": "markdown",
      "metadata": {
        "id": "cRxehNNK7Fuj"
      },
      "source": [
        "## Adding days of the week"
      ]
    },
    {
      "cell_type": "code",
      "source": [
        "from pyspark.sql.functions import col, concat, date_format, lit, to_date, when\n",
        "\n",
        "# Convert month column to numeric format\n",
        "month_mapping = {\n",
        "  'Jan': 1, 'Feb': 2, 'Mar':3, 'Apr':4, 'May':5, 'Jun':6, 'Jul':7,\n",
        "  'Aug':8,  'Sep': 9, 'Oct':10, 'Nov': 11, 'Dec': 12\n",
        "}\n",
        "\n",
        "logs_df = logs_df.withColumn('month_num', lit(None).cast('string'))\n",
        "\n",
        "for month, month_num in month_mapping.items():\n",
        "    logs_df = logs_df.withColumn('month_num', \n",
        "                                 when(col('month') == month, month_num).otherwise(col('month_num')))\n",
        "\n",
        "# Add the day_of_week column\n",
        "logs_df = logs_df.withColumn('date_str', concat(col('year'), lit('-'), col('month_num'), lit('-'), col('day')))\n",
        "logs_df = logs_df.withColumn('date', to_date(logs_df['date_str'], 'yyyy-MM-dd'))\n",
        "logs_df = logs_df.withColumn('day_of_week', date_format(logs_df['date'], 'EEEE'))\n",
        "\n",
        "# Drop the date_str column\n",
        "logs_df = logs_df.drop('date_str')\n",
        "\n",
        "# Show the updated DataFrame\n",
        "logs_df.show()\n"
      ],
      "metadata": {
        "colab": {
          "base_uri": "https://localhost:8080/"
        },
        "id": "LX1ckWMNNIiw",
        "outputId": "35343a49-205d-4eff-ee94-c8716e933b36"
      },
      "execution_count": 71,
      "outputs": [
        {
          "output_type": "stream",
          "name": "stdout",
          "text": [
            "+---------------+----+-----+---+----+------+------+--------------------+------------+-------------+-----+---------+-----------+----------+\n",
            "|     ip_address|year|month|day|hour|minute|method|            endpoint|http_version|response_code|bytes|month_num|day_of_week|      date|\n",
            "+---------------+----+-----+---+----+------+------+--------------------+------------+-------------+-----+---------+-----------+----------+\n",
            "|   75.77.74.150|2118|  Dec| 26|    |      |   GET|/Archives/edgar/d...|         1.0|          200| 5302|       12|     Monday|2118-12-26|\n",
            "|  176.120.174.1|2118|  Dec| 26|    |      |  POST|/Archives/edgar/d...|         1.0|          500|34727|       12|     Monday|2118-12-26|\n",
            "| 162.200.34.120|2118|  Dec| 26|    |      |  POST|/Archives/edgar/d...|         1.0|          403|25428|       12|     Monday|2118-12-26|\n",
            "| 133.224.84.239|2118|  Dec| 26|    |      |   GET|/Archives/edgar/d...|         1.0|          304|27248|       12|     Monday|2118-12-26|\n",
            "| 211.239.196.64|2118|  Dec| 26|    |      |   GET|/Archives/edgar/d...|         1.0|          200|32034|       12|     Monday|2118-12-26|\n",
            "| 152.154.66.105|2118|  Dec| 26|    |      |   GET|/Archives/edgar/d...|         1.0|          200|43782|       12|     Monday|2118-12-26|\n",
            "|  41.76.166.189|2118|  Dec| 26|    |      |   PUT|/Archives/edgar/d...|         1.0|          304|53533|       12|     Monday|2118-12-26|\n",
            "|  134.27.187.18|2118|  Dec| 26|    |      |  POST|/Archives/edgar/d...|         1.0|          404|15445|       12|     Monday|2118-12-26|\n",
            "|   152.77.55.45|2118|  Dec| 26|    |      |   PUT|/Archives/edgar/d...|         1.0|          200|44416|       12|     Monday|2118-12-26|\n",
            "|115.252.123.132|2118|  Dec| 26|    |      |  POST|/Archives/edgar/d...|         1.0|          500|11453|       12|     Monday|2118-12-26|\n",
            "|  155.58.151.29|2118|  Dec| 26|    |      |   GET|/Archives/edgar/d...|         1.0|          502| 7442|       12|     Monday|2118-12-26|\n",
            "|   13.79.113.61|2118|  Dec| 26|    |      |  POST|/Archives/edgar/d...|         1.0|          404|10734|       12|     Monday|2118-12-26|\n",
            "|  88.193.180.43|2118|  Dec| 26|    |      |  POST|/Archives/edgar/d...|         1.0|          304|52678|       12|     Monday|2118-12-26|\n",
            "| 179.250.21.134|2118|  Dec| 26|    |      |DELETE|/Archives/edgar/d...|         1.0|          500| 5462|       12|     Monday|2118-12-26|\n",
            "| 189.142.75.183|2118|  Dec| 26|    |      |   PUT|/Archives/edgar/d...|         1.0|          500|37548|       12|     Monday|2118-12-26|\n",
            "|  17.173.32.136|2118|  Dec| 26|    |      |   GET|/Archives/edgar/d...|         1.0|          404|53177|       12|     Monday|2118-12-26|\n",
            "|  40.243.18.254|2118|  Dec| 26|    |      |   PUT|/Archives/edgar/d...|         1.0|          500|23317|       12|     Monday|2118-12-26|\n",
            "|  28.163.76.134|2118|  Dec| 26|    |      |  POST|/Archives/edgar/d...|         1.0|          304|16386|       12|     Monday|2118-12-26|\n",
            "|    68.8.175.30|2118|  Dec| 26|    |      |   PUT|/Archives/edgar/d...|         1.0|          403|38299|       12|     Monday|2118-12-26|\n",
            "|   27.79.71.172|2118|  Dec| 26|    |      |DELETE|/Archives/edgar/d...|         1.0|          403|15051|       12|     Monday|2118-12-26|\n",
            "+---------------+----+-----+---+----+------+------+--------------------+------------+-------------+-----+---------+-----------+----------+\n",
            "only showing top 20 rows\n",
            "\n"
          ]
        }
      ]
    },
    {
      "cell_type": "markdown",
      "metadata": {
        "id": "zHmZm0St7Fub"
      },
      "source": [
        "## Finding Missing Values"
      ]
    },
    {
      "cell_type": "markdown",
      "metadata": {
        "id": "-Wx2_jJF7Fuh"
      },
      "source": [
        "__Note:__ :  _big dataset_ is residing on disk which can potentially be present in multiple nodes in a spark cluster."
      ]
    },
    {
      "cell_type": "code",
      "execution_count": 75,
      "metadata": {
        "id": "1ec2MHM_7Fuh",
        "outputId": "be9f29da-8826-47c8-9383-2e6cfa67edc1",
        "colab": {
          "base_uri": "https://localhost:8080/"
        }
      },
      "outputs": [
        {
          "output_type": "execute_result",
          "data": {
            "text/plain": [
              "['ip_address',\n",
              " 'year',\n",
              " 'month',\n",
              " 'day',\n",
              " 'hour',\n",
              " 'minute',\n",
              " 'method',\n",
              " 'endpoint',\n",
              " 'http_version',\n",
              " 'response_code',\n",
              " 'bytes',\n",
              " 'month_num',\n",
              " 'day_of_week',\n",
              " 'date']"
            ]
          },
          "metadata": {},
          "execution_count": 75
        }
      ],
      "source": [
        "logs_df.columns"
      ]
    },
    {
      "cell_type": "code",
      "execution_count": 76,
      "metadata": {
        "id": "pW3lPpEY7Fuh",
        "outputId": "652c5e4a-e784-4174-bb49-f5e46f7415c1",
        "colab": {
          "base_uri": "https://localhost:8080/"
        }
      },
      "outputs": [
        {
          "output_type": "stream",
          "name": "stdout",
          "text": [
            "+----------+----+-----+---+----+------+------+--------+------------+-------------+-----+---------+-----------+----+\n",
            "|ip_address|year|month|day|hour|minute|method|endpoint|http_version|response_code|bytes|month_num|day_of_week|date|\n",
            "+----------+----+-----+---+----+------+------+--------+------------+-------------+-----+---------+-----------+----+\n",
            "|         0|   0|    0|  0|   0|     0|     0|       0|           0|            0|    0|        1|          1|   1|\n",
            "+----------+----+-----+---+----+------+------+--------+------------+-------------+-----+---------+-----------+----+\n",
            "\n"
          ]
        }
      ],
      "source": [
        "from pyspark.sql.functions import col\n",
        "from pyspark.sql.functions import sum as spark_sum\n",
        "\n",
        "def count_null(col_name):\n",
        "    return spark_sum(col(col_name).isNull().cast('integer')).alias(col_name)\n",
        "\n",
        "# Build up a list of column expressions, one per column.\n",
        "exprs = [count_null(col_name) for col_name in logs_df.columns]\n",
        "\n",
        "# Run the aggregation. The *exprs converts the list of expressions into\n",
        "# variable function arguments.\n",
        "logs_df.agg(*exprs).show()"
      ]
    },
    {
      "cell_type": "code",
      "source": [
        "null_month_num_rows = logs_df.filter(logs_df['month_num'].isNull())\n",
        "null_month_num_rows.show()"
      ],
      "metadata": {
        "colab": {
          "base_uri": "https://localhost:8080/"
        },
        "id": "4FjaHh94SxMO",
        "outputId": "0f5a1c8b-6828-4fac-ff47-6f76107dc7b6"
      },
      "execution_count": 77,
      "outputs": [
        {
          "output_type": "stream",
          "name": "stdout",
          "text": [
            "+----------+----+-----+---+----+------+------+--------+------------+-------------+-----+---------+-----------+----+\n",
            "|ip_address|year|month|day|hour|minute|method|endpoint|http_version|response_code|bytes|month_num|day_of_week|date|\n",
            "+----------+----+-----+---+----+------+------+--------+------------+-------------+-----+---------+-----------+----+\n",
            "|          |    |     |   |    |      |      |        |            |             |     |     null|       null|null|\n",
            "+----------+----+-----+---+----+------+------+--------+------------+-------------+-----+---------+-----------+----+\n",
            "\n"
          ]
        }
      ]
    },
    {
      "cell_type": "code",
      "source": [
        "logs_df = logs_df.dropna(subset=['month_num'])\n"
      ],
      "metadata": {
        "id": "4GO7Ps6kS_PF"
      },
      "execution_count": 78,
      "outputs": []
    },
    {
      "cell_type": "code",
      "source": [
        "logs_df.select('year').distinct().rdd.flatMap(lambda x: x).collect()\n"
      ],
      "metadata": {
        "id": "-iKk7V3W_8kG",
        "outputId": "360e787d-1d80-40e7-8cc4-155dc52cea83",
        "colab": {
          "base_uri": "https://localhost:8080/"
        }
      },
      "execution_count": 79,
      "outputs": [
        {
          "output_type": "execute_result",
          "data": {
            "text/plain": [
              "['2118']"
            ]
          },
          "metadata": {},
          "execution_count": 79
        }
      ]
    },
    {
      "cell_type": "code",
      "execution_count": 80,
      "metadata": {
        "id": "yATKk04Q7Fuk",
        "outputId": "dad27e40-4bfb-4d4c-8443-f159037a2746",
        "colab": {
          "base_uri": "https://localhost:8080/"
        }
      },
      "outputs": [
        {
          "output_type": "stream",
          "name": "stdout",
          "text": [
            "root\n",
            " |-- ip_address: string (nullable = true)\n",
            " |-- year: string (nullable = true)\n",
            " |-- month: string (nullable = true)\n",
            " |-- day: string (nullable = true)\n",
            " |-- hour: string (nullable = true)\n",
            " |-- minute: string (nullable = true)\n",
            " |-- method: string (nullable = true)\n",
            " |-- endpoint: string (nullable = true)\n",
            " |-- http_version: string (nullable = true)\n",
            " |-- response_code: string (nullable = true)\n",
            " |-- bytes: string (nullable = true)\n",
            " |-- month_num: string (nullable = true)\n",
            " |-- day_of_week: string (nullable = true)\n",
            " |-- date: date (nullable = true)\n",
            "\n"
          ]
        }
      ],
      "source": [
        "logs_df.printSchema()"
      ]
    },
    {
      "cell_type": "code",
      "execution_count": 81,
      "metadata": {
        "id": "0IVxOaL57Fuk",
        "outputId": "7cf82ff0-0ab7-4947-f4ef-e6d42c2a552d",
        "colab": {
          "base_uri": "https://localhost:8080/",
          "height": 443
        }
      },
      "outputs": [
        {
          "output_type": "execute_result",
          "data": {
            "text/plain": [
              "       ip_address  year month day hour minute method  \\\n",
              "0    75.77.74.150  2118   Dec  26                GET   \n",
              "1   176.120.174.1  2118   Dec  26               POST   \n",
              "2  162.200.34.120  2118   Dec  26               POST   \n",
              "3  133.224.84.239  2118   Dec  26                GET   \n",
              "4  211.239.196.64  2118   Dec  26                GET   \n",
              "\n",
              "                                            endpoint http_version  \\\n",
              "0  /Archives/edgar/data/0001518715/00015187152200...          1.0   \n",
              "1  /Archives/edgar/data/0001411207/00015645902105...          1.0   \n",
              "2  /Archives/edgar/data/0000101382/00015645902200...          1.0   \n",
              "3  /Archives/edgar/data/0001179929/00011799292200...          1.0   \n",
              "4  /Archives/edgar/data/0000081391/00009324711200...          1.0   \n",
              "\n",
              "  response_code  bytes month_num day_of_week        date  \n",
              "0           200   5302        12      Monday  2118-12-26  \n",
              "1           500  34727        12      Monday  2118-12-26  \n",
              "2           403  25428        12      Monday  2118-12-26  \n",
              "3           304  27248        12      Monday  2118-12-26  \n",
              "4           200  32034        12      Monday  2118-12-26  "
            ],
            "text/html": [
              "\n",
              "  <div id=\"df-923fa3a7-407d-444c-ad57-aed801cd5f70\">\n",
              "    <div class=\"colab-df-container\">\n",
              "      <div>\n",
              "<style scoped>\n",
              "    .dataframe tbody tr th:only-of-type {\n",
              "        vertical-align: middle;\n",
              "    }\n",
              "\n",
              "    .dataframe tbody tr th {\n",
              "        vertical-align: top;\n",
              "    }\n",
              "\n",
              "    .dataframe thead th {\n",
              "        text-align: right;\n",
              "    }\n",
              "</style>\n",
              "<table border=\"1\" class=\"dataframe\">\n",
              "  <thead>\n",
              "    <tr style=\"text-align: right;\">\n",
              "      <th></th>\n",
              "      <th>ip_address</th>\n",
              "      <th>year</th>\n",
              "      <th>month</th>\n",
              "      <th>day</th>\n",
              "      <th>hour</th>\n",
              "      <th>minute</th>\n",
              "      <th>method</th>\n",
              "      <th>endpoint</th>\n",
              "      <th>http_version</th>\n",
              "      <th>response_code</th>\n",
              "      <th>bytes</th>\n",
              "      <th>month_num</th>\n",
              "      <th>day_of_week</th>\n",
              "      <th>date</th>\n",
              "    </tr>\n",
              "  </thead>\n",
              "  <tbody>\n",
              "    <tr>\n",
              "      <th>0</th>\n",
              "      <td>75.77.74.150</td>\n",
              "      <td>2118</td>\n",
              "      <td>Dec</td>\n",
              "      <td>26</td>\n",
              "      <td></td>\n",
              "      <td></td>\n",
              "      <td>GET</td>\n",
              "      <td>/Archives/edgar/data/0001518715/00015187152200...</td>\n",
              "      <td>1.0</td>\n",
              "      <td>200</td>\n",
              "      <td>5302</td>\n",
              "      <td>12</td>\n",
              "      <td>Monday</td>\n",
              "      <td>2118-12-26</td>\n",
              "    </tr>\n",
              "    <tr>\n",
              "      <th>1</th>\n",
              "      <td>176.120.174.1</td>\n",
              "      <td>2118</td>\n",
              "      <td>Dec</td>\n",
              "      <td>26</td>\n",
              "      <td></td>\n",
              "      <td></td>\n",
              "      <td>POST</td>\n",
              "      <td>/Archives/edgar/data/0001411207/00015645902105...</td>\n",
              "      <td>1.0</td>\n",
              "      <td>500</td>\n",
              "      <td>34727</td>\n",
              "      <td>12</td>\n",
              "      <td>Monday</td>\n",
              "      <td>2118-12-26</td>\n",
              "    </tr>\n",
              "    <tr>\n",
              "      <th>2</th>\n",
              "      <td>162.200.34.120</td>\n",
              "      <td>2118</td>\n",
              "      <td>Dec</td>\n",
              "      <td>26</td>\n",
              "      <td></td>\n",
              "      <td></td>\n",
              "      <td>POST</td>\n",
              "      <td>/Archives/edgar/data/0000101382/00015645902200...</td>\n",
              "      <td>1.0</td>\n",
              "      <td>403</td>\n",
              "      <td>25428</td>\n",
              "      <td>12</td>\n",
              "      <td>Monday</td>\n",
              "      <td>2118-12-26</td>\n",
              "    </tr>\n",
              "    <tr>\n",
              "      <th>3</th>\n",
              "      <td>133.224.84.239</td>\n",
              "      <td>2118</td>\n",
              "      <td>Dec</td>\n",
              "      <td>26</td>\n",
              "      <td></td>\n",
              "      <td></td>\n",
              "      <td>GET</td>\n",
              "      <td>/Archives/edgar/data/0001179929/00011799292200...</td>\n",
              "      <td>1.0</td>\n",
              "      <td>304</td>\n",
              "      <td>27248</td>\n",
              "      <td>12</td>\n",
              "      <td>Monday</td>\n",
              "      <td>2118-12-26</td>\n",
              "    </tr>\n",
              "    <tr>\n",
              "      <th>4</th>\n",
              "      <td>211.239.196.64</td>\n",
              "      <td>2118</td>\n",
              "      <td>Dec</td>\n",
              "      <td>26</td>\n",
              "      <td></td>\n",
              "      <td></td>\n",
              "      <td>GET</td>\n",
              "      <td>/Archives/edgar/data/0000081391/00009324711200...</td>\n",
              "      <td>1.0</td>\n",
              "      <td>200</td>\n",
              "      <td>32034</td>\n",
              "      <td>12</td>\n",
              "      <td>Monday</td>\n",
              "      <td>2118-12-26</td>\n",
              "    </tr>\n",
              "  </tbody>\n",
              "</table>\n",
              "</div>\n",
              "      <button class=\"colab-df-convert\" onclick=\"convertToInteractive('df-923fa3a7-407d-444c-ad57-aed801cd5f70')\"\n",
              "              title=\"Convert this dataframe to an interactive table.\"\n",
              "              style=\"display:none;\">\n",
              "        \n",
              "  <svg xmlns=\"http://www.w3.org/2000/svg\" height=\"24px\"viewBox=\"0 0 24 24\"\n",
              "       width=\"24px\">\n",
              "    <path d=\"M0 0h24v24H0V0z\" fill=\"none\"/>\n",
              "    <path d=\"M18.56 5.44l.94 2.06.94-2.06 2.06-.94-2.06-.94-.94-2.06-.94 2.06-2.06.94zm-11 1L8.5 8.5l.94-2.06 2.06-.94-2.06-.94L8.5 2.5l-.94 2.06-2.06.94zm10 10l.94 2.06.94-2.06 2.06-.94-2.06-.94-.94-2.06-.94 2.06-2.06.94z\"/><path d=\"M17.41 7.96l-1.37-1.37c-.4-.4-.92-.59-1.43-.59-.52 0-1.04.2-1.43.59L10.3 9.45l-7.72 7.72c-.78.78-.78 2.05 0 2.83L4 21.41c.39.39.9.59 1.41.59.51 0 1.02-.2 1.41-.59l7.78-7.78 2.81-2.81c.8-.78.8-2.07 0-2.86zM5.41 20L4 18.59l7.72-7.72 1.47 1.35L5.41 20z\"/>\n",
              "  </svg>\n",
              "      </button>\n",
              "      \n",
              "  <style>\n",
              "    .colab-df-container {\n",
              "      display:flex;\n",
              "      flex-wrap:wrap;\n",
              "      gap: 12px;\n",
              "    }\n",
              "\n",
              "    .colab-df-convert {\n",
              "      background-color: #E8F0FE;\n",
              "      border: none;\n",
              "      border-radius: 50%;\n",
              "      cursor: pointer;\n",
              "      display: none;\n",
              "      fill: #1967D2;\n",
              "      height: 32px;\n",
              "      padding: 0 0 0 0;\n",
              "      width: 32px;\n",
              "    }\n",
              "\n",
              "    .colab-df-convert:hover {\n",
              "      background-color: #E2EBFA;\n",
              "      box-shadow: 0px 1px 2px rgba(60, 64, 67, 0.3), 0px 1px 3px 1px rgba(60, 64, 67, 0.15);\n",
              "      fill: #174EA6;\n",
              "    }\n",
              "\n",
              "    [theme=dark] .colab-df-convert {\n",
              "      background-color: #3B4455;\n",
              "      fill: #D2E3FC;\n",
              "    }\n",
              "\n",
              "    [theme=dark] .colab-df-convert:hover {\n",
              "      background-color: #434B5C;\n",
              "      box-shadow: 0px 1px 3px 1px rgba(0, 0, 0, 0.15);\n",
              "      filter: drop-shadow(0px 1px 2px rgba(0, 0, 0, 0.3));\n",
              "      fill: #FFFFFF;\n",
              "    }\n",
              "  </style>\n",
              "\n",
              "      <script>\n",
              "        const buttonEl =\n",
              "          document.querySelector('#df-923fa3a7-407d-444c-ad57-aed801cd5f70 button.colab-df-convert');\n",
              "        buttonEl.style.display =\n",
              "          google.colab.kernel.accessAllowed ? 'block' : 'none';\n",
              "\n",
              "        async function convertToInteractive(key) {\n",
              "          const element = document.querySelector('#df-923fa3a7-407d-444c-ad57-aed801cd5f70');\n",
              "          const dataTable =\n",
              "            await google.colab.kernel.invokeFunction('convertToInteractive',\n",
              "                                                     [key], {});\n",
              "          if (!dataTable) return;\n",
              "\n",
              "          const docLinkHtml = 'Like what you see? Visit the ' +\n",
              "            '<a target=\"_blank\" href=https://colab.research.google.com/notebooks/data_table.ipynb>data table notebook</a>'\n",
              "            + ' to learn more about interactive tables.';\n",
              "          element.innerHTML = '';\n",
              "          dataTable['output_type'] = 'display_data';\n",
              "          await google.colab.output.renderOutput(dataTable, element);\n",
              "          const docLink = document.createElement('div');\n",
              "          docLink.innerHTML = docLinkHtml;\n",
              "          element.appendChild(docLink);\n",
              "        }\n",
              "      </script>\n",
              "    </div>\n",
              "  </div>\n",
              "  "
            ]
          },
          "metadata": {},
          "execution_count": 81
        }
      ],
      "source": [
        "logs_df.limit(5).toPandas()"
      ]
    },
    {
      "cell_type": "markdown",
      "metadata": {
        "id": "oQ3yPMxC7Fuk"
      },
      "source": [
        "Let's now cache `logs_df` since we will be using it extensively for our data analysis section in the next part!"
      ]
    },
    {
      "cell_type": "code",
      "execution_count": 82,
      "metadata": {
        "id": "2567BLKP7Ful",
        "outputId": "e07cbec6-88f5-44dc-e9b6-fca319b10f44",
        "colab": {
          "base_uri": "https://localhost:8080/"
        }
      },
      "outputs": [
        {
          "output_type": "execute_result",
          "data": {
            "text/plain": [
              "DataFrame[ip_address: string, year: string, month: string, day: string, hour: string, minute: string, method: string, endpoint: string, http_version: string, response_code: string, bytes: string, month_num: string, day_of_week: string, date: date]"
            ]
          },
          "metadata": {},
          "execution_count": 82
        }
      ],
      "source": [
        "logs_df.cache()"
      ]
    },
    {
      "cell_type": "markdown",
      "metadata": {
        "id": "X0ccVKO_7Ful"
      },
      "source": [
        "# Data Analysis on Web Logs (EDA)\n",
        "\n",
        "Exploratory data analysis (EDA)\n"
      ]
    },
    {
      "cell_type": "markdown",
      "metadata": {
        "id": "AAOdAhdV7Ful"
      },
      "source": [
        "## Byte Size Statistics"
      ]
    },
    {
      "cell_type": "code",
      "execution_count": 84,
      "metadata": {
        "id": "BhmzL0HV7Ful",
        "outputId": "c9fbde92-8565-4995-d19b-877547e141f5",
        "colab": {
          "base_uri": "https://localhost:8080/",
          "height": 206
        }
      },
      "outputs": [
        {
          "output_type": "execute_result",
          "data": {
            "text/plain": [
              "  summary               bytes\n",
              "0   count              120000\n",
              "1    mean        29975.596575\n",
              "2  stddev  17334.347684501685\n",
              "3     min                   1\n",
              "4     max                9998"
            ],
            "text/html": [
              "\n",
              "  <div id=\"df-5128e971-6e2e-4bcf-b7c0-d92a7faa8f82\">\n",
              "    <div class=\"colab-df-container\">\n",
              "      <div>\n",
              "<style scoped>\n",
              "    .dataframe tbody tr th:only-of-type {\n",
              "        vertical-align: middle;\n",
              "    }\n",
              "\n",
              "    .dataframe tbody tr th {\n",
              "        vertical-align: top;\n",
              "    }\n",
              "\n",
              "    .dataframe thead th {\n",
              "        text-align: right;\n",
              "    }\n",
              "</style>\n",
              "<table border=\"1\" class=\"dataframe\">\n",
              "  <thead>\n",
              "    <tr style=\"text-align: right;\">\n",
              "      <th></th>\n",
              "      <th>summary</th>\n",
              "      <th>bytes</th>\n",
              "    </tr>\n",
              "  </thead>\n",
              "  <tbody>\n",
              "    <tr>\n",
              "      <th>0</th>\n",
              "      <td>count</td>\n",
              "      <td>120000</td>\n",
              "    </tr>\n",
              "    <tr>\n",
              "      <th>1</th>\n",
              "      <td>mean</td>\n",
              "      <td>29975.596575</td>\n",
              "    </tr>\n",
              "    <tr>\n",
              "      <th>2</th>\n",
              "      <td>stddev</td>\n",
              "      <td>17334.347684501685</td>\n",
              "    </tr>\n",
              "    <tr>\n",
              "      <th>3</th>\n",
              "      <td>min</td>\n",
              "      <td>1</td>\n",
              "    </tr>\n",
              "    <tr>\n",
              "      <th>4</th>\n",
              "      <td>max</td>\n",
              "      <td>9998</td>\n",
              "    </tr>\n",
              "  </tbody>\n",
              "</table>\n",
              "</div>\n",
              "      <button class=\"colab-df-convert\" onclick=\"convertToInteractive('df-5128e971-6e2e-4bcf-b7c0-d92a7faa8f82')\"\n",
              "              title=\"Convert this dataframe to an interactive table.\"\n",
              "              style=\"display:none;\">\n",
              "        \n",
              "  <svg xmlns=\"http://www.w3.org/2000/svg\" height=\"24px\"viewBox=\"0 0 24 24\"\n",
              "       width=\"24px\">\n",
              "    <path d=\"M0 0h24v24H0V0z\" fill=\"none\"/>\n",
              "    <path d=\"M18.56 5.44l.94 2.06.94-2.06 2.06-.94-2.06-.94-.94-2.06-.94 2.06-2.06.94zm-11 1L8.5 8.5l.94-2.06 2.06-.94-2.06-.94L8.5 2.5l-.94 2.06-2.06.94zm10 10l.94 2.06.94-2.06 2.06-.94-2.06-.94-.94-2.06-.94 2.06-2.06.94z\"/><path d=\"M17.41 7.96l-1.37-1.37c-.4-.4-.92-.59-1.43-.59-.52 0-1.04.2-1.43.59L10.3 9.45l-7.72 7.72c-.78.78-.78 2.05 0 2.83L4 21.41c.39.39.9.59 1.41.59.51 0 1.02-.2 1.41-.59l7.78-7.78 2.81-2.81c.8-.78.8-2.07 0-2.86zM5.41 20L4 18.59l7.72-7.72 1.47 1.35L5.41 20z\"/>\n",
              "  </svg>\n",
              "      </button>\n",
              "      \n",
              "  <style>\n",
              "    .colab-df-container {\n",
              "      display:flex;\n",
              "      flex-wrap:wrap;\n",
              "      gap: 12px;\n",
              "    }\n",
              "\n",
              "    .colab-df-convert {\n",
              "      background-color: #E8F0FE;\n",
              "      border: none;\n",
              "      border-radius: 50%;\n",
              "      cursor: pointer;\n",
              "      display: none;\n",
              "      fill: #1967D2;\n",
              "      height: 32px;\n",
              "      padding: 0 0 0 0;\n",
              "      width: 32px;\n",
              "    }\n",
              "\n",
              "    .colab-df-convert:hover {\n",
              "      background-color: #E2EBFA;\n",
              "      box-shadow: 0px 1px 2px rgba(60, 64, 67, 0.3), 0px 1px 3px 1px rgba(60, 64, 67, 0.15);\n",
              "      fill: #174EA6;\n",
              "    }\n",
              "\n",
              "    [theme=dark] .colab-df-convert {\n",
              "      background-color: #3B4455;\n",
              "      fill: #D2E3FC;\n",
              "    }\n",
              "\n",
              "    [theme=dark] .colab-df-convert:hover {\n",
              "      background-color: #434B5C;\n",
              "      box-shadow: 0px 1px 3px 1px rgba(0, 0, 0, 0.15);\n",
              "      filter: drop-shadow(0px 1px 2px rgba(0, 0, 0, 0.3));\n",
              "      fill: #FFFFFF;\n",
              "    }\n",
              "  </style>\n",
              "\n",
              "      <script>\n",
              "        const buttonEl =\n",
              "          document.querySelector('#df-5128e971-6e2e-4bcf-b7c0-d92a7faa8f82 button.colab-df-convert');\n",
              "        buttonEl.style.display =\n",
              "          google.colab.kernel.accessAllowed ? 'block' : 'none';\n",
              "\n",
              "        async function convertToInteractive(key) {\n",
              "          const element = document.querySelector('#df-5128e971-6e2e-4bcf-b7c0-d92a7faa8f82');\n",
              "          const dataTable =\n",
              "            await google.colab.kernel.invokeFunction('convertToInteractive',\n",
              "                                                     [key], {});\n",
              "          if (!dataTable) return;\n",
              "\n",
              "          const docLinkHtml = 'Like what you see? Visit the ' +\n",
              "            '<a target=\"_blank\" href=https://colab.research.google.com/notebooks/data_table.ipynb>data table notebook</a>'\n",
              "            + ' to learn more about interactive tables.';\n",
              "          element.innerHTML = '';\n",
              "          dataTable['output_type'] = 'display_data';\n",
              "          await google.colab.output.renderOutput(dataTable, element);\n",
              "          const docLink = document.createElement('div');\n",
              "          docLink.innerHTML = docLinkHtml;\n",
              "          element.appendChild(docLink);\n",
              "        }\n",
              "      </script>\n",
              "    </div>\n",
              "  </div>\n",
              "  "
            ]
          },
          "metadata": {},
          "execution_count": 84
        }
      ],
      "source": [
        "byte_size_summary_df = logs_df.describe(['bytes'])\n",
        "byte_size_summary_df.toPandas()"
      ]
    },
    {
      "cell_type": "code",
      "execution_count": 86,
      "metadata": {
        "id": "knbGRSu17Fum",
        "outputId": "ac51ea12-7971-4fa7-9215-b559ebe8222d",
        "colab": {
          "base_uri": "https://localhost:8080/",
          "height": 81
        }
      },
      "outputs": [
        {
          "output_type": "execute_result",
          "data": {
            "text/plain": [
              "  min_byte_size max_byte_size  mean_byte_size  std_byte_size  count_byte_size\n",
              "0             1          9998    29975.596575   17334.347685           120000"
            ],
            "text/html": [
              "\n",
              "  <div id=\"df-378cdeff-36f7-41de-a7e9-7228f37536d3\">\n",
              "    <div class=\"colab-df-container\">\n",
              "      <div>\n",
              "<style scoped>\n",
              "    .dataframe tbody tr th:only-of-type {\n",
              "        vertical-align: middle;\n",
              "    }\n",
              "\n",
              "    .dataframe tbody tr th {\n",
              "        vertical-align: top;\n",
              "    }\n",
              "\n",
              "    .dataframe thead th {\n",
              "        text-align: right;\n",
              "    }\n",
              "</style>\n",
              "<table border=\"1\" class=\"dataframe\">\n",
              "  <thead>\n",
              "    <tr style=\"text-align: right;\">\n",
              "      <th></th>\n",
              "      <th>min_byte_size</th>\n",
              "      <th>max_byte_size</th>\n",
              "      <th>mean_byte_size</th>\n",
              "      <th>std_byte_size</th>\n",
              "      <th>count_byte_size</th>\n",
              "    </tr>\n",
              "  </thead>\n",
              "  <tbody>\n",
              "    <tr>\n",
              "      <th>0</th>\n",
              "      <td>1</td>\n",
              "      <td>9998</td>\n",
              "      <td>29975.596575</td>\n",
              "      <td>17334.347685</td>\n",
              "      <td>120000</td>\n",
              "    </tr>\n",
              "  </tbody>\n",
              "</table>\n",
              "</div>\n",
              "      <button class=\"colab-df-convert\" onclick=\"convertToInteractive('df-378cdeff-36f7-41de-a7e9-7228f37536d3')\"\n",
              "              title=\"Convert this dataframe to an interactive table.\"\n",
              "              style=\"display:none;\">\n",
              "        \n",
              "  <svg xmlns=\"http://www.w3.org/2000/svg\" height=\"24px\"viewBox=\"0 0 24 24\"\n",
              "       width=\"24px\">\n",
              "    <path d=\"M0 0h24v24H0V0z\" fill=\"none\"/>\n",
              "    <path d=\"M18.56 5.44l.94 2.06.94-2.06 2.06-.94-2.06-.94-.94-2.06-.94 2.06-2.06.94zm-11 1L8.5 8.5l.94-2.06 2.06-.94-2.06-.94L8.5 2.5l-.94 2.06-2.06.94zm10 10l.94 2.06.94-2.06 2.06-.94-2.06-.94-.94-2.06-.94 2.06-2.06.94z\"/><path d=\"M17.41 7.96l-1.37-1.37c-.4-.4-.92-.59-1.43-.59-.52 0-1.04.2-1.43.59L10.3 9.45l-7.72 7.72c-.78.78-.78 2.05 0 2.83L4 21.41c.39.39.9.59 1.41.59.51 0 1.02-.2 1.41-.59l7.78-7.78 2.81-2.81c.8-.78.8-2.07 0-2.86zM5.41 20L4 18.59l7.72-7.72 1.47 1.35L5.41 20z\"/>\n",
              "  </svg>\n",
              "      </button>\n",
              "      \n",
              "  <style>\n",
              "    .colab-df-container {\n",
              "      display:flex;\n",
              "      flex-wrap:wrap;\n",
              "      gap: 12px;\n",
              "    }\n",
              "\n",
              "    .colab-df-convert {\n",
              "      background-color: #E8F0FE;\n",
              "      border: none;\n",
              "      border-radius: 50%;\n",
              "      cursor: pointer;\n",
              "      display: none;\n",
              "      fill: #1967D2;\n",
              "      height: 32px;\n",
              "      padding: 0 0 0 0;\n",
              "      width: 32px;\n",
              "    }\n",
              "\n",
              "    .colab-df-convert:hover {\n",
              "      background-color: #E2EBFA;\n",
              "      box-shadow: 0px 1px 2px rgba(60, 64, 67, 0.3), 0px 1px 3px 1px rgba(60, 64, 67, 0.15);\n",
              "      fill: #174EA6;\n",
              "    }\n",
              "\n",
              "    [theme=dark] .colab-df-convert {\n",
              "      background-color: #3B4455;\n",
              "      fill: #D2E3FC;\n",
              "    }\n",
              "\n",
              "    [theme=dark] .colab-df-convert:hover {\n",
              "      background-color: #434B5C;\n",
              "      box-shadow: 0px 1px 3px 1px rgba(0, 0, 0, 0.15);\n",
              "      filter: drop-shadow(0px 1px 2px rgba(0, 0, 0, 0.3));\n",
              "      fill: #FFFFFF;\n",
              "    }\n",
              "  </style>\n",
              "\n",
              "      <script>\n",
              "        const buttonEl =\n",
              "          document.querySelector('#df-378cdeff-36f7-41de-a7e9-7228f37536d3 button.colab-df-convert');\n",
              "        buttonEl.style.display =\n",
              "          google.colab.kernel.accessAllowed ? 'block' : 'none';\n",
              "\n",
              "        async function convertToInteractive(key) {\n",
              "          const element = document.querySelector('#df-378cdeff-36f7-41de-a7e9-7228f37536d3');\n",
              "          const dataTable =\n",
              "            await google.colab.kernel.invokeFunction('convertToInteractive',\n",
              "                                                     [key], {});\n",
              "          if (!dataTable) return;\n",
              "\n",
              "          const docLinkHtml = 'Like what you see? Visit the ' +\n",
              "            '<a target=\"_blank\" href=https://colab.research.google.com/notebooks/data_table.ipynb>data table notebook</a>'\n",
              "            + ' to learn more about interactive tables.';\n",
              "          element.innerHTML = '';\n",
              "          dataTable['output_type'] = 'display_data';\n",
              "          await google.colab.output.renderOutput(dataTable, element);\n",
              "          const docLink = document.createElement('div');\n",
              "          docLink.innerHTML = docLinkHtml;\n",
              "          element.appendChild(docLink);\n",
              "        }\n",
              "      </script>\n",
              "    </div>\n",
              "  </div>\n",
              "  "
            ]
          },
          "metadata": {},
          "execution_count": 86
        }
      ],
      "source": [
        "from pyspark.sql import functions as F\n",
        "\n",
        "(logs_df.agg(F.min(logs_df['bytes']).alias('min_byte_size'),\n",
        "             F.max(logs_df['bytes']).alias('max_byte_size'),\n",
        "             F.mean(logs_df['bytes']).alias('mean_byte_size'),\n",
        "             F.stddev(logs_df['bytes']).alias('std_byte_size'),\n",
        "             F.count(logs_df['bytes']).alias('count_byte_size'))\n",
        "        .toPandas())"
      ]
    },
    {
      "cell_type": "markdown",
      "metadata": {
        "id": "gvjlxl9q7Fum"
      },
      "source": [
        "## HTTP Response Code Analysis\n"
      ]
    },
    {
      "cell_type": "code",
      "execution_count": 87,
      "metadata": {
        "collapsed": true,
        "id": "H73DxlX67Fum"
      },
      "outputs": [],
      "source": [
        "response_freq_df = (logs_df\n",
        "                     .groupBy('response_code')\n",
        "                     .count()\n",
        "                     .sort('response_code')\n",
        "                     .cache())"
      ]
    },
    {
      "cell_type": "code",
      "execution_count": 88,
      "metadata": {
        "id": "8yvYYVap7Fum",
        "outputId": "4d99a02f-03ff-47d9-cd43-24460697418c",
        "colab": {
          "base_uri": "https://localhost:8080/"
        }
      },
      "outputs": [
        {
          "output_type": "stream",
          "name": "stdout",
          "text": [
            "Total distinct HTTP Response Codes: 7\n"
          ]
        }
      ],
      "source": [
        "print('Total distinct HTTP Response Codes:', response_freq_df.count())"
      ]
    },
    {
      "cell_type": "code",
      "execution_count": 89,
      "metadata": {
        "id": "ACuDUwMt7Fun",
        "outputId": "3ceb1318-5175-470c-c0eb-c9a76118938e",
        "colab": {
          "base_uri": "https://localhost:8080/",
          "height": 269
        }
      },
      "outputs": [
        {
          "output_type": "execute_result",
          "data": {
            "text/plain": [
              "  response_code  count\n",
              "0           200  17284\n",
              "4           404  17173\n",
              "3           403  17135\n",
              "5           500  17133\n",
              "2           304  17131\n",
              "6           502  17079\n",
              "1           303  17065"
            ],
            "text/html": [
              "\n",
              "  <div id=\"df-98eae4ba-6e83-4bd5-bbae-5ce5dd944a14\">\n",
              "    <div class=\"colab-df-container\">\n",
              "      <div>\n",
              "<style scoped>\n",
              "    .dataframe tbody tr th:only-of-type {\n",
              "        vertical-align: middle;\n",
              "    }\n",
              "\n",
              "    .dataframe tbody tr th {\n",
              "        vertical-align: top;\n",
              "    }\n",
              "\n",
              "    .dataframe thead th {\n",
              "        text-align: right;\n",
              "    }\n",
              "</style>\n",
              "<table border=\"1\" class=\"dataframe\">\n",
              "  <thead>\n",
              "    <tr style=\"text-align: right;\">\n",
              "      <th></th>\n",
              "      <th>response_code</th>\n",
              "      <th>count</th>\n",
              "    </tr>\n",
              "  </thead>\n",
              "  <tbody>\n",
              "    <tr>\n",
              "      <th>0</th>\n",
              "      <td>200</td>\n",
              "      <td>17284</td>\n",
              "    </tr>\n",
              "    <tr>\n",
              "      <th>4</th>\n",
              "      <td>404</td>\n",
              "      <td>17173</td>\n",
              "    </tr>\n",
              "    <tr>\n",
              "      <th>3</th>\n",
              "      <td>403</td>\n",
              "      <td>17135</td>\n",
              "    </tr>\n",
              "    <tr>\n",
              "      <th>5</th>\n",
              "      <td>500</td>\n",
              "      <td>17133</td>\n",
              "    </tr>\n",
              "    <tr>\n",
              "      <th>2</th>\n",
              "      <td>304</td>\n",
              "      <td>17131</td>\n",
              "    </tr>\n",
              "    <tr>\n",
              "      <th>6</th>\n",
              "      <td>502</td>\n",
              "      <td>17079</td>\n",
              "    </tr>\n",
              "    <tr>\n",
              "      <th>1</th>\n",
              "      <td>303</td>\n",
              "      <td>17065</td>\n",
              "    </tr>\n",
              "  </tbody>\n",
              "</table>\n",
              "</div>\n",
              "      <button class=\"colab-df-convert\" onclick=\"convertToInteractive('df-98eae4ba-6e83-4bd5-bbae-5ce5dd944a14')\"\n",
              "              title=\"Convert this dataframe to an interactive table.\"\n",
              "              style=\"display:none;\">\n",
              "        \n",
              "  <svg xmlns=\"http://www.w3.org/2000/svg\" height=\"24px\"viewBox=\"0 0 24 24\"\n",
              "       width=\"24px\">\n",
              "    <path d=\"M0 0h24v24H0V0z\" fill=\"none\"/>\n",
              "    <path d=\"M18.56 5.44l.94 2.06.94-2.06 2.06-.94-2.06-.94-.94-2.06-.94 2.06-2.06.94zm-11 1L8.5 8.5l.94-2.06 2.06-.94-2.06-.94L8.5 2.5l-.94 2.06-2.06.94zm10 10l.94 2.06.94-2.06 2.06-.94-2.06-.94-.94-2.06-.94 2.06-2.06.94z\"/><path d=\"M17.41 7.96l-1.37-1.37c-.4-.4-.92-.59-1.43-.59-.52 0-1.04.2-1.43.59L10.3 9.45l-7.72 7.72c-.78.78-.78 2.05 0 2.83L4 21.41c.39.39.9.59 1.41.59.51 0 1.02-.2 1.41-.59l7.78-7.78 2.81-2.81c.8-.78.8-2.07 0-2.86zM5.41 20L4 18.59l7.72-7.72 1.47 1.35L5.41 20z\"/>\n",
              "  </svg>\n",
              "      </button>\n",
              "      \n",
              "  <style>\n",
              "    .colab-df-container {\n",
              "      display:flex;\n",
              "      flex-wrap:wrap;\n",
              "      gap: 12px;\n",
              "    }\n",
              "\n",
              "    .colab-df-convert {\n",
              "      background-color: #E8F0FE;\n",
              "      border: none;\n",
              "      border-radius: 50%;\n",
              "      cursor: pointer;\n",
              "      display: none;\n",
              "      fill: #1967D2;\n",
              "      height: 32px;\n",
              "      padding: 0 0 0 0;\n",
              "      width: 32px;\n",
              "    }\n",
              "\n",
              "    .colab-df-convert:hover {\n",
              "      background-color: #E2EBFA;\n",
              "      box-shadow: 0px 1px 2px rgba(60, 64, 67, 0.3), 0px 1px 3px 1px rgba(60, 64, 67, 0.15);\n",
              "      fill: #174EA6;\n",
              "    }\n",
              "\n",
              "    [theme=dark] .colab-df-convert {\n",
              "      background-color: #3B4455;\n",
              "      fill: #D2E3FC;\n",
              "    }\n",
              "\n",
              "    [theme=dark] .colab-df-convert:hover {\n",
              "      background-color: #434B5C;\n",
              "      box-shadow: 0px 1px 3px 1px rgba(0, 0, 0, 0.15);\n",
              "      filter: drop-shadow(0px 1px 2px rgba(0, 0, 0, 0.3));\n",
              "      fill: #FFFFFF;\n",
              "    }\n",
              "  </style>\n",
              "\n",
              "      <script>\n",
              "        const buttonEl =\n",
              "          document.querySelector('#df-98eae4ba-6e83-4bd5-bbae-5ce5dd944a14 button.colab-df-convert');\n",
              "        buttonEl.style.display =\n",
              "          google.colab.kernel.accessAllowed ? 'block' : 'none';\n",
              "\n",
              "        async function convertToInteractive(key) {\n",
              "          const element = document.querySelector('#df-98eae4ba-6e83-4bd5-bbae-5ce5dd944a14');\n",
              "          const dataTable =\n",
              "            await google.colab.kernel.invokeFunction('convertToInteractive',\n",
              "                                                     [key], {});\n",
              "          if (!dataTable) return;\n",
              "\n",
              "          const docLinkHtml = 'Like what you see? Visit the ' +\n",
              "            '<a target=\"_blank\" href=https://colab.research.google.com/notebooks/data_table.ipynb>data table notebook</a>'\n",
              "            + ' to learn more about interactive tables.';\n",
              "          element.innerHTML = '';\n",
              "          dataTable['output_type'] = 'display_data';\n",
              "          await google.colab.output.renderOutput(dataTable, element);\n",
              "          const docLink = document.createElement('div');\n",
              "          docLink.innerHTML = docLinkHtml;\n",
              "          element.appendChild(docLink);\n",
              "        }\n",
              "      </script>\n",
              "    </div>\n",
              "  </div>\n",
              "  "
            ]
          },
          "metadata": {},
          "execution_count": 89
        }
      ],
      "source": [
        "status_freq_pd_df = (response_freq_df\n",
        "                         .toPandas()\n",
        "                         .sort_values(by=['count'],\n",
        "                                      ascending=False))\n",
        "status_freq_pd_df"
      ]
    },
    {
      "cell_type": "code",
      "execution_count": 90,
      "metadata": {
        "id": "d9gkYGAe7Fun",
        "outputId": "080b1766-4acc-4f77-b875-64494f9e10ca",
        "colab": {
          "base_uri": "https://localhost:8080/",
          "height": 523
        }
      },
      "outputs": [
        {
          "output_type": "execute_result",
          "data": {
            "text/plain": [
              "<seaborn.axisgrid.FacetGrid at 0x7f835f28e0e0>"
            ]
          },
          "metadata": {},
          "execution_count": 90
        },
        {
          "output_type": "display_data",
          "data": {
            "text/plain": [
              "<Figure size 500x500 with 1 Axes>"
            ],
            "image/png": "[encoded data removed]"
          },
          "metadata": {}
        }
      ],
      "source": [
        "import matplotlib.pyplot as plt\n",
        "import seaborn as sns\n",
        "import numpy as np\n",
        "%matplotlib inline\n",
        "\n",
        "sns.catplot(x='response_code', y='count', data=status_freq_pd_df, \n",
        "            kind='bar', order=status_freq_pd_df['response_code'])"
      ]
    },
    {
      "cell_type": "markdown",
      "source": [
        "The resulting DataFrame log_freq_df will have an additional column named `log(count)`, which contains the logarithm of the values in the `count` column ie. the logarithm (base 'e') of the count value. The purpose of applying the logarithm function in this case might be to transform the count values into a different scale or to normalize them for analysis or visualization purposes.\n",
        "\n"
      ],
      "metadata": {
        "id": "TgmFuekpVYoI"
      }
    },
    {
      "cell_type": "code",
      "execution_count": 91,
      "metadata": {
        "id": "aM9kXM1K7Fuo",
        "outputId": "bdb823cb-772d-4227-f224-2950c255b15b",
        "colab": {
          "base_uri": "https://localhost:8080/"
        }
      },
      "outputs": [
        {
          "output_type": "stream",
          "name": "stdout",
          "text": [
            "+-------------+-----+-----------------+\n",
            "|response_code|count|       log(count)|\n",
            "+-------------+-----+-----------------+\n",
            "|          200|17284|9.757536497051824|\n",
            "|          303|17065|9.744784861340808|\n",
            "|          304|17131|9.748644966730458|\n",
            "|          403|17135| 9.74887843430871|\n",
            "|          404|17173|9.751093661983862|\n",
            "|          500|17133|9.748761707332973|\n",
            "|          502|17079|9.745604917619191|\n",
            "+-------------+-----+-----------------+\n",
            "\n"
          ]
        }
      ],
      "source": [
        "log_freq_df = response_freq_df.withColumn('log(count)', F.log(response_freq_df['count']))\n",
        "log_freq_df.show()"
      ]
    },
    {
      "cell_type": "code",
      "execution_count": 92,
      "metadata": {
        "id": "OoxH6qCD7Fuo",
        "outputId": "3e8fceae-002a-4cf9-cee6-76a487c81632",
        "colab": {
          "base_uri": "https://localhost:8080/",
          "height": 524
        }
      },
      "outputs": [
        {
          "output_type": "execute_result",
          "data": {
            "text/plain": [
              "<seaborn.axisgrid.FacetGrid at 0x7f835f00b760>"
            ]
          },
          "metadata": {},
          "execution_count": 92
        },
        {
          "output_type": "display_data",
          "data": {
            "text/plain": [
              "<Figure size 500x500 with 1 Axes>"
            ],
            "image/png": "[encoded data removed]"
          },
          "metadata": {}
        }
      ],
      "source": [
        "log_freq_pd_df = (log_freq_df\n",
        "                    .toPandas()\n",
        "                    .sort_values(by=['log(count)'],\n",
        "                                 ascending=False))\n",
        "sns.catplot(x='response_code', y='log(count)', data=log_freq_pd_df, \n",
        "            kind='bar', order=status_freq_pd_df['response_code'])"
      ]
    },
    {
      "cell_type": "markdown",
      "source": [
        "By examining the data, we can make the following observations:\n",
        "\n",
        "- The most frequent response code is '200' with a count of 17,284. Its corresponding logarithm is approximately 9.7575.\n",
        "- Other response codes like '303', '304', '403', '404', '500', and '502' also have high counts and their respective logarithm values."
      ],
      "metadata": {
        "id": "tKIua7TGWSdL"
      }
    },
    {
      "cell_type": "code",
      "source": [],
      "metadata": {
        "id": "8BXkrMsIaDUj"
      },
      "execution_count": null,
      "outputs": []
    },
    {
      "cell_type": "markdown",
      "source": [
        "## 200 Response Codes Analysis"
      ],
      "metadata": {
        "id": "atuNSSlVZje6"
      }
    },
    {
      "cell_type": "markdown",
      "metadata": {
        "id": "pGNQtzXc7Fus"
      },
      "source": [
        "### Counting 200 Response Codes\n"
      ]
    },
    {
      "cell_type": "code",
      "execution_count": 121,
      "metadata": {
        "id": "S6-7HWnH7Fus",
        "outputId": "a84961e3-3fc2-4690-e958-4cc1ff153c39",
        "colab": {
          "base_uri": "https://localhost:8080/"
        }
      },
      "outputs": [
        {
          "output_type": "stream",
          "name": "stdout",
          "text": [
            "Total 200 responses: 17284\n"
          ]
        }
      ],
      "source": [
        "ok_df = logs_df.filter(logs_df[\"response_code\"] == 200).cache()\n",
        "print(('Total 200 responses: {}').format(ok_df.count()))"
      ]
    },
    {
      "cell_type": "markdown",
      "metadata": {
        "id": "eYhszwaX7Fus"
      },
      "source": [
        "### Listing the Top Twenty 200 Response Code Endpoints\n"
      ]
    },
    {
      "cell_type": "code",
      "execution_count": 122,
      "metadata": {
        "id": "iXouaoiO7Fut",
        "outputId": "c5fd13b5-028b-4edb-a4cb-652279ae6ba0",
        "colab": {
          "base_uri": "https://localhost:8080/"
        }
      },
      "outputs": [
        {
          "output_type": "stream",
          "name": "stdout",
          "text": [
            "+---------------------------------------------------------------------------------------+-----+\n",
            "|endpoint                                                                               |count|\n",
            "+---------------------------------------------------------------------------------------+-----+\n",
            "|/Archives/edgar/data/0001168220/000116822009000023/form10k-a_123108.htm                |152  |\n",
            "|/Archives/edgar/data/0001091667/000109166722000024/chtr-20211231.htm                   |141  |\n",
            "|/Archives/edgar/data/27673/0001104659-12-037692.txt                                    |141  |\n",
            "|/Archives/edgar/data/0000004281/000119312517062657/R96.htm                             |139  |\n",
            "|/Archives/edgar/data/0000205007/000114554923015369/0001145549-23-015369.txt            |137  |\n",
            "|/Archives/edgar/data/1826671/000121390023023294/0001213900-23-023294.txt               |137  |\n",
            "|/Archives/edgar/data/0001760283/000121390021017155/s131124_10k.htm                     |136  |\n",
            "|/Archives/edgar/data/925548/000092153005000094/0000921530-05-000094.txt                |135  |\n",
            "|/Archives/edgar/data/0001260125/000114420419015071/0001144204-19-015071.txt            |134  |\n",
            "|/Archives/edgar/data/0000101382/000156459021009664/umbf-10k_20201231.htm               |133  |\n",
            "|/Archives/edgar/data/1517375/000151737523000005/xslF345X03/wf-form4_167364543258031.xml|133  |\n",
            "|/Archives/edgar/data/0001780984/000119312521096087/d120747d10k.htm                     |131  |\n",
            "|/Archives/edgar/data/0000205007/000114554923005577/0001145549-23-005577.txt            |131  |\n",
            "|/Archives/edgar/data/0001260125/000114420419015062/0001144204-19-015062.txt            |130  |\n",
            "|/Archives/edgar/data/0001867102/000110465922086725/                                    |130  |\n",
            "|/Archives/edgar/data/0001608293/000119312514225607/g732497g94j21.jpg                   |130  |\n",
            "|/Archives/edgar/data/21665/0000930413-12-003127.txt                                    |129  |\n",
            "|/Archives/edgar/data/0000004281/000119312517062657/R101.htm                            |129  |\n",
            "|/Archives/edgar/data/0001763499/000121390021017164/s131140_10k.htm                     |129  |\n",
            "|/Archives/edgar/data/0000752177/000093247112005362/0000932471-12-005362.txt            |128  |\n",
            "+---------------------------------------------------------------------------------------+-----+\n",
            "\n"
          ]
        }
      ],
      "source": [
        "endpoints_200_count_df = (ok_df\n",
        "                          .groupBy(\"endpoint\")\n",
        "                          .count()\n",
        "                          .sort(\"count\", ascending=False)\n",
        "                          .limit(20))\n",
        "\n",
        "endpoints_200_count_df.show(truncate=False)"
      ]
    },
    {
      "cell_type": "markdown",
      "metadata": {
        "id": "TjpSeH1g7Fut"
      },
      "source": [
        "### Listing the Top Twenty 200 Response Code ip_addresss\n"
      ]
    },
    {
      "cell_type": "code",
      "execution_count": 123,
      "metadata": {
        "id": "D0j1G4_t7Fut",
        "outputId": "e1fbdb4f-c4b4-46d4-bfdb-8f197ad24e9a",
        "colab": {
          "base_uri": "https://localhost:8080/"
        }
      },
      "outputs": [
        {
          "output_type": "stream",
          "name": "stdout",
          "text": [
            "+---------------+-----+\n",
            "|ip_address     |count|\n",
            "+---------------+-----+\n",
            "|200.235.72.159 |1    |\n",
            "|181.62.14.189  |1    |\n",
            "|37.3.220.78    |1    |\n",
            "|119.140.89.180 |1    |\n",
            "|84.106.114.163 |1    |\n",
            "|169.65.170.125 |1    |\n",
            "|116.15.217.208 |1    |\n",
            "|55.58.138.209  |1    |\n",
            "|37.197.57.106  |1    |\n",
            "|104.0.40.147   |1    |\n",
            "|66.245.41.183  |1    |\n",
            "|160.101.108.92 |1    |\n",
            "|33.127.106.105 |1    |\n",
            "|28.89.134.48   |1    |\n",
            "|131.231.171.173|1    |\n",
            "|192.217.108.83 |1    |\n",
            "|58.179.245.191 |1    |\n",
            "|165.110.95.126 |1    |\n",
            "|12.23.148.181  |1    |\n",
            "|58.205.152.141 |1    |\n",
            "+---------------+-----+\n",
            "\n"
          ]
        }
      ],
      "source": [
        "ip_addresss_200_count_df = (ok_df\n",
        "                          .groupBy(\"ip_address\")\n",
        "                          .count()\n",
        "                          .sort(\"count\", ascending=False)\n",
        "                          .limit(20))\n",
        "\n",
        "ip_addresss_200_count_df.show(truncate=False)"
      ]
    },
    {
      "cell_type": "markdown",
      "metadata": {
        "id": "EvKf7C737Fut"
      },
      "source": [
        "### 200 OK per Day\n"
      ]
    },
    {
      "cell_type": "code",
      "execution_count": 124,
      "metadata": {
        "id": "DTQblQmD7Fut",
        "outputId": "f1b94836-8856-4165-f4ee-9be91e21d1b2",
        "colab": {
          "base_uri": "https://localhost:8080/",
          "height": 81
        }
      },
      "outputs": [
        {
          "output_type": "execute_result",
          "data": {
            "text/plain": [
              "         date  count\n",
              "0  2118-12-26  17284"
            ],
            "text/html": [
              "\n",
              "  <div id=\"df-f6765e56-3947-4c30-8378-7a4abf842555\">\n",
              "    <div class=\"colab-df-container\">\n",
              "      <div>\n",
              "<style scoped>\n",
              "    .dataframe tbody tr th:only-of-type {\n",
              "        vertical-align: middle;\n",
              "    }\n",
              "\n",
              "    .dataframe tbody tr th {\n",
              "        vertical-align: top;\n",
              "    }\n",
              "\n",
              "    .dataframe thead th {\n",
              "        text-align: right;\n",
              "    }\n",
              "</style>\n",
              "<table border=\"1\" class=\"dataframe\">\n",
              "  <thead>\n",
              "    <tr style=\"text-align: right;\">\n",
              "      <th></th>\n",
              "      <th>date</th>\n",
              "      <th>count</th>\n",
              "    </tr>\n",
              "  </thead>\n",
              "  <tbody>\n",
              "    <tr>\n",
              "      <th>0</th>\n",
              "      <td>2118-12-26</td>\n",
              "      <td>17284</td>\n",
              "    </tr>\n",
              "  </tbody>\n",
              "</table>\n",
              "</div>\n",
              "      <button class=\"colab-df-convert\" onclick=\"convertToInteractive('df-f6765e56-3947-4c30-8378-7a4abf842555')\"\n",
              "              title=\"Convert this dataframe to an interactive table.\"\n",
              "              style=\"display:none;\">\n",
              "        \n",
              "  <svg xmlns=\"http://www.w3.org/2000/svg\" height=\"24px\"viewBox=\"0 0 24 24\"\n",
              "       width=\"24px\">\n",
              "    <path d=\"M0 0h24v24H0V0z\" fill=\"none\"/>\n",
              "    <path d=\"M18.56 5.44l.94 2.06.94-2.06 2.06-.94-2.06-.94-.94-2.06-.94 2.06-2.06.94zm-11 1L8.5 8.5l.94-2.06 2.06-.94-2.06-.94L8.5 2.5l-.94 2.06-2.06.94zm10 10l.94 2.06.94-2.06 2.06-.94-2.06-.94-.94-2.06-.94 2.06-2.06.94z\"/><path d=\"M17.41 7.96l-1.37-1.37c-.4-.4-.92-.59-1.43-.59-.52 0-1.04.2-1.43.59L10.3 9.45l-7.72 7.72c-.78.78-.78 2.05 0 2.83L4 21.41c.39.39.9.59 1.41.59.51 0 1.02-.2 1.41-.59l7.78-7.78 2.81-2.81c.8-.78.8-2.07 0-2.86zM5.41 20L4 18.59l7.72-7.72 1.47 1.35L5.41 20z\"/>\n",
              "  </svg>\n",
              "      </button>\n",
              "      \n",
              "  <style>\n",
              "    .colab-df-container {\n",
              "      display:flex;\n",
              "      flex-wrap:wrap;\n",
              "      gap: 12px;\n",
              "    }\n",
              "\n",
              "    .colab-df-convert {\n",
              "      background-color: #E8F0FE;\n",
              "      border: none;\n",
              "      border-radius: 50%;\n",
              "      cursor: pointer;\n",
              "      display: none;\n",
              "      fill: #1967D2;\n",
              "      height: 32px;\n",
              "      padding: 0 0 0 0;\n",
              "      width: 32px;\n",
              "    }\n",
              "\n",
              "    .colab-df-convert:hover {\n",
              "      background-color: #E2EBFA;\n",
              "      box-shadow: 0px 1px 2px rgba(60, 64, 67, 0.3), 0px 1px 3px 1px rgba(60, 64, 67, 0.15);\n",
              "      fill: #174EA6;\n",
              "    }\n",
              "\n",
              "    [theme=dark] .colab-df-convert {\n",
              "      background-color: #3B4455;\n",
              "      fill: #D2E3FC;\n",
              "    }\n",
              "\n",
              "    [theme=dark] .colab-df-convert:hover {\n",
              "      background-color: #434B5C;\n",
              "      box-shadow: 0px 1px 3px 1px rgba(0, 0, 0, 0.15);\n",
              "      filter: drop-shadow(0px 1px 2px rgba(0, 0, 0, 0.3));\n",
              "      fill: #FFFFFF;\n",
              "    }\n",
              "  </style>\n",
              "\n",
              "      <script>\n",
              "        const buttonEl =\n",
              "          document.querySelector('#df-f6765e56-3947-4c30-8378-7a4abf842555 button.colab-df-convert');\n",
              "        buttonEl.style.display =\n",
              "          google.colab.kernel.accessAllowed ? 'block' : 'none';\n",
              "\n",
              "        async function convertToInteractive(key) {\n",
              "          const element = document.querySelector('#df-f6765e56-3947-4c30-8378-7a4abf842555');\n",
              "          const dataTable =\n",
              "            await google.colab.kernel.invokeFunction('convertToInteractive',\n",
              "                                                     [key], {});\n",
              "          if (!dataTable) return;\n",
              "\n",
              "          const docLinkHtml = 'Like what you see? Visit the ' +\n",
              "            '<a target=\"_blank\" href=https://colab.research.google.com/notebooks/data_table.ipynb>data table notebook</a>'\n",
              "            + ' to learn more about interactive tables.';\n",
              "          element.innerHTML = '';\n",
              "          dataTable['output_type'] = 'display_data';\n",
              "          await google.colab.output.renderOutput(dataTable, element);\n",
              "          const docLink = document.createElement('div');\n",
              "          docLink.innerHTML = docLinkHtml;\n",
              "          element.appendChild(docLink);\n",
              "        }\n",
              "      </script>\n",
              "    </div>\n",
              "  </div>\n",
              "  "
            ]
          },
          "metadata": {},
          "execution_count": 124
        }
      ],
      "source": [
        "errors_by_date_sorted_df = (ok_df\n",
        "                                .groupBy(\"date\")\n",
        "                                .count()\n",
        "                                .sort(\"date\"))\n",
        "\n",
        "errors_by_date_sorted_pd_df = errors_by_date_sorted_df.toPandas()\n",
        "errors_by_date_sorted_pd_df"
      ]
    },
    {
      "cell_type": "markdown",
      "source": [
        "All 200 OK codes fall on 2118-Dec-26 "
      ],
      "metadata": {
        "id": "P8mfUl14X8Hj"
      }
    },
    {
      "cell_type": "markdown",
      "source": [
        "### Days of the Week with 200 Status Codes"
      ],
      "metadata": {
        "id": "YD-X3rMu1YJj"
      }
    },
    {
      "cell_type": "code",
      "source": [
        "from pyspark.sql.functions import col\n",
        "\n",
        "week_counts_df = ok_df.groupBy('day_of_week').count().orderBy(col('count').asc())\n",
        "week_counts_df.show()"
      ],
      "metadata": {
        "id": "J_XjWm8d0Slg",
        "outputId": "16777c3e-330f-474c-db10-844e905341b5",
        "colab": {
          "base_uri": "https://localhost:8080/"
        }
      },
      "execution_count": 125,
      "outputs": [
        {
          "output_type": "stream",
          "name": "stdout",
          "text": [
            "+-----------+-----+\n",
            "|day_of_week|count|\n",
            "+-----------+-----+\n",
            "|     Monday|17284|\n",
            "+-----------+-----+\n",
            "\n"
          ]
        }
      ]
    },
    {
      "cell_type": "markdown",
      "metadata": {
        "id": "u3PjjquR7Fuu"
      },
      "source": [
        "### Hourly 200 Errors"
      ]
    },
    {
      "cell_type": "code",
      "execution_count": 126,
      "metadata": {
        "collapsed": true,
        "id": "brNyzCSg7Fuu",
        "colab": {
          "base_uri": "https://localhost:8080/",
          "height": 81
        },
        "outputId": "62c3df3d-a783-482e-8837-6fabf5aba04e"
      },
      "outputs": [
        {
          "output_type": "execute_result",
          "data": {
            "text/plain": [
              "  hour  count\n",
              "0       17284"
            ],
            "text/html": [
              "\n",
              "  <div id=\"df-7d19d9b3-603e-4738-adb6-6af4b2b0a340\">\n",
              "    <div class=\"colab-df-container\">\n",
              "      <div>\n",
              "<style scoped>\n",
              "    .dataframe tbody tr th:only-of-type {\n",
              "        vertical-align: middle;\n",
              "    }\n",
              "\n",
              "    .dataframe tbody tr th {\n",
              "        vertical-align: top;\n",
              "    }\n",
              "\n",
              "    .dataframe thead th {\n",
              "        text-align: right;\n",
              "    }\n",
              "</style>\n",
              "<table border=\"1\" class=\"dataframe\">\n",
              "  <thead>\n",
              "    <tr style=\"text-align: right;\">\n",
              "      <th></th>\n",
              "      <th>hour</th>\n",
              "      <th>count</th>\n",
              "    </tr>\n",
              "  </thead>\n",
              "  <tbody>\n",
              "    <tr>\n",
              "      <th>0</th>\n",
              "      <td></td>\n",
              "      <td>17284</td>\n",
              "    </tr>\n",
              "  </tbody>\n",
              "</table>\n",
              "</div>\n",
              "      <button class=\"colab-df-convert\" onclick=\"convertToInteractive('df-7d19d9b3-603e-4738-adb6-6af4b2b0a340')\"\n",
              "              title=\"Convert this dataframe to an interactive table.\"\n",
              "              style=\"display:none;\">\n",
              "        \n",
              "  <svg xmlns=\"http://www.w3.org/2000/svg\" height=\"24px\"viewBox=\"0 0 24 24\"\n",
              "       width=\"24px\">\n",
              "    <path d=\"M0 0h24v24H0V0z\" fill=\"none\"/>\n",
              "    <path d=\"M18.56 5.44l.94 2.06.94-2.06 2.06-.94-2.06-.94-.94-2.06-.94 2.06-2.06.94zm-11 1L8.5 8.5l.94-2.06 2.06-.94-2.06-.94L8.5 2.5l-.94 2.06-2.06.94zm10 10l.94 2.06.94-2.06 2.06-.94-2.06-.94-.94-2.06-.94 2.06-2.06.94z\"/><path d=\"M17.41 7.96l-1.37-1.37c-.4-.4-.92-.59-1.43-.59-.52 0-1.04.2-1.43.59L10.3 9.45l-7.72 7.72c-.78.78-.78 2.05 0 2.83L4 21.41c.39.39.9.59 1.41.59.51 0 1.02-.2 1.41-.59l7.78-7.78 2.81-2.81c.8-.78.8-2.07 0-2.86zM5.41 20L4 18.59l7.72-7.72 1.47 1.35L5.41 20z\"/>\n",
              "  </svg>\n",
              "      </button>\n",
              "      \n",
              "  <style>\n",
              "    .colab-df-container {\n",
              "      display:flex;\n",
              "      flex-wrap:wrap;\n",
              "      gap: 12px;\n",
              "    }\n",
              "\n",
              "    .colab-df-convert {\n",
              "      background-color: #E8F0FE;\n",
              "      border: none;\n",
              "      border-radius: 50%;\n",
              "      cursor: pointer;\n",
              "      display: none;\n",
              "      fill: #1967D2;\n",
              "      height: 32px;\n",
              "      padding: 0 0 0 0;\n",
              "      width: 32px;\n",
              "    }\n",
              "\n",
              "    .colab-df-convert:hover {\n",
              "      background-color: #E2EBFA;\n",
              "      box-shadow: 0px 1px 2px rgba(60, 64, 67, 0.3), 0px 1px 3px 1px rgba(60, 64, 67, 0.15);\n",
              "      fill: #174EA6;\n",
              "    }\n",
              "\n",
              "    [theme=dark] .colab-df-convert {\n",
              "      background-color: #3B4455;\n",
              "      fill: #D2E3FC;\n",
              "    }\n",
              "\n",
              "    [theme=dark] .colab-df-convert:hover {\n",
              "      background-color: #434B5C;\n",
              "      box-shadow: 0px 1px 3px 1px rgba(0, 0, 0, 0.15);\n",
              "      filter: drop-shadow(0px 1px 2px rgba(0, 0, 0, 0.3));\n",
              "      fill: #FFFFFF;\n",
              "    }\n",
              "  </style>\n",
              "\n",
              "      <script>\n",
              "        const buttonEl =\n",
              "          document.querySelector('#df-7d19d9b3-603e-4738-adb6-6af4b2b0a340 button.colab-df-convert');\n",
              "        buttonEl.style.display =\n",
              "          google.colab.kernel.accessAllowed ? 'block' : 'none';\n",
              "\n",
              "        async function convertToInteractive(key) {\n",
              "          const element = document.querySelector('#df-7d19d9b3-603e-4738-adb6-6af4b2b0a340');\n",
              "          const dataTable =\n",
              "            await google.colab.kernel.invokeFunction('convertToInteractive',\n",
              "                                                     [key], {});\n",
              "          if (!dataTable) return;\n",
              "\n",
              "          const docLinkHtml = 'Like what you see? Visit the ' +\n",
              "            '<a target=\"_blank\" href=https://colab.research.google.com/notebooks/data_table.ipynb>data table notebook</a>'\n",
              "            + ' to learn more about interactive tables.';\n",
              "          element.innerHTML = '';\n",
              "          dataTable['output_type'] = 'display_data';\n",
              "          await google.colab.output.renderOutput(dataTable, element);\n",
              "          const docLink = document.createElement('div');\n",
              "          docLink.innerHTML = docLinkHtml;\n",
              "          element.appendChild(docLink);\n",
              "        }\n",
              "      </script>\n",
              "    </div>\n",
              "  </div>\n",
              "  "
            ]
          },
          "metadata": {},
          "execution_count": 126
        }
      ],
      "source": [
        "hourly_avg_errors_sorted_df = (ok_df\n",
        "                                   .groupBy('hour')\n",
        "                                   .count()\n",
        "                                   .sort('hour'))\n",
        "hourly_avg_errors_sorted_pd_df = hourly_avg_errors_sorted_df.toPandas()\n",
        "hourly_avg_errors_sorted_pd_df"
      ]
    },
    {
      "cell_type": "markdown",
      "source": [
        "All 200 OK fall at midnight"
      ],
      "metadata": {
        "id": "gBIZ2cHTYMdA"
      }
    },
    {
      "cell_type": "markdown",
      "source": [
        "## 404 Response Codes Analysis"
      ],
      "metadata": {
        "id": "2erDdVz6aKyT"
      }
    },
    {
      "cell_type": "markdown",
      "metadata": {
        "id": "eH3uQ6HYaKyZ"
      },
      "source": [
        "### Counting 404 Response Codes\n"
      ]
    },
    {
      "cell_type": "code",
      "execution_count": null,
      "metadata": {
        "outputId": "7dc97d3d-135f-4b8a-aef2-30f68f4959a6",
        "colab": {
          "base_uri": "https://localhost:8080/"
        },
        "id": "NKQYUrv6aKyZ"
      },
      "outputs": [
        {
          "output_type": "stream",
          "name": "stdout",
          "text": [
            "Total 404 responses: 17173\n"
          ]
        }
      ],
      "source": [
        "not_found_df = logs_df.filter(logs_df[\"response_code\"] == 404).cache()\n",
        "print(('Total 404 responses: {}').format(not_found_df.count()))"
      ]
    },
    {
      "cell_type": "markdown",
      "metadata": {
        "id": "NoOQUUzZaKya"
      },
      "source": [
        "### Listing the Top Twenty 404 Response Code Endpoints\n"
      ]
    },
    {
      "cell_type": "code",
      "execution_count": null,
      "metadata": {
        "outputId": "ed2c558c-625b-4dee-efec-e57d2ec0e206",
        "colab": {
          "base_uri": "https://localhost:8080/"
        },
        "id": "-vHG88hfaKya"
      },
      "outputs": [
        {
          "output_type": "stream",
          "name": "stdout",
          "text": [
            "+---------------------------------------------------------------------------------+-----+\n",
            "|endpoint                                                                         |count|\n",
            "+---------------------------------------------------------------------------------+-----+\n",
            "|/Archives/edgar/data/0001179929/000117992923000043/moh-20230320_g24.jpg          |141  |\n",
            "|/Archives/edgar/data/1390098/000121390023023295/0001213900-23-023295.txt         |139  |\n",
            "|/Archives/edgar/data/0001002638/000100263815000016/0001002638-15-000016-index.htm|139  |\n",
            "|/Archives/edgar/data/0001260125/000114420419015093/tv516458_10k.htm              |138  |\n",
            "|/Archives/edgar/data/0001724128/000121390021017151/s131120_10k.htm               |138  |\n",
            "|/Archives/edgar/data/0001798682/000121390021017167/s131143_10k.htm               |138  |\n",
            "|/Archives/edgar/data/27419/0001104659-12-037689.txt                              |138  |\n",
            "|/Archives/edgar/data/0000205007/000114554923005581/primary_doc.xml               |136  |\n",
            "|/Archives/edgar/data/0000318833/000035420421000574/SEC13G_Filing.htm             |135  |\n",
            "|/Archives/edgar/data/0000101382/000156459022006546/umbf-10k_20211231.htm         |135  |\n",
            "|/Archives/edgar/data/0001704304/000092963819000386/form10k.htm                   |134  |\n",
            "|/Archives/edgar/data/0001157987/000117494721000301/form10k-25693_czn1.htm        |134  |\n",
            "|/Archives/edgar/data/0001179929/000117992923000043/moh-20230320_g29.jpg          |134  |\n",
            "|/Archives/edgar/data/0000101382/000119312517053195/d317189d10k.htm               |134  |\n",
            "|/Archives/edgar/data/0001203957/000119312510223947/0001193125-10-223947-index.htm|132  |\n",
            "|/Archives/edgar/data/0000205007/000114554923005577/primary_doc.xml               |132  |\n",
            "|/Archives/edgar/data/0001608293/000119312514225607/g732497g94j21.jpg             |132  |\n",
            "|/Archives/edgar/data/0000081391/000093247112005362/0000932471-12-005362.txt      |130  |\n",
            "|/Archives/edgar/data/0001704304/000092963819000386/0000929638-19-000386.txt      |130  |\n",
            "|/Archives/edgar/data/0001439124/000129281422000788/                              |128  |\n",
            "+---------------------------------------------------------------------------------+-----+\n",
            "\n"
          ]
        }
      ],
      "source": [
        "endpoints_404_count_df = (not_found_df\n",
        "                          .groupBy(\"endpoint\")\n",
        "                          .count()\n",
        "                          .sort(\"count\", ascending=False)\n",
        "                          .limit(20))\n",
        "\n",
        "endpoints_404_count_df.show(truncate=False)"
      ]
    },
    {
      "cell_type": "markdown",
      "metadata": {
        "id": "-azox30PaKya"
      },
      "source": [
        "### Listing the Top Twenty 404 Response Code ip_addresss\n"
      ]
    },
    {
      "cell_type": "code",
      "execution_count": null,
      "metadata": {
        "outputId": "00c3a2ea-51c9-4ddb-f9e1-ad4e875797d0",
        "colab": {
          "base_uri": "https://localhost:8080/"
        },
        "id": "AO38XA0EaKya"
      },
      "outputs": [
        {
          "output_type": "stream",
          "name": "stdout",
          "text": [
            "+--------------+-----+\n",
            "|ip_address    |count|\n",
            "+--------------+-----+\n",
            "|211.192.19.243|1    |\n",
            "|203.239.62.214|1    |\n",
            "|57.99.6.85    |1    |\n",
            "|170.110.43.62 |1    |\n",
            "|113.168.71.233|1    |\n",
            "|17.124.63.123 |1    |\n",
            "|166.80.39.27  |1    |\n",
            "|92.213.198.148|1    |\n",
            "|221.135.7.230 |1    |\n",
            "|73.69.108.205 |1    |\n",
            "|198.64.95.135 |1    |\n",
            "|52.252.133.84 |1    |\n",
            "|130.87.117.238|1    |\n",
            "|84.87.158.202 |1    |\n",
            "|57.111.250.153|1    |\n",
            "|209.225.219.7 |1    |\n",
            "|95.78.148.135 |1    |\n",
            "|60.41.3.141   |1    |\n",
            "|60.240.27.28  |1    |\n",
            "|107.255.13.99 |1    |\n",
            "+--------------+-----+\n",
            "\n"
          ]
        }
      ],
      "source": [
        "ip_addresss_404_count_df = (not_found_df\n",
        "                          .groupBy(\"ip_address\")\n",
        "                          .count()\n",
        "                          .sort(\"count\", ascending=False)\n",
        "                          .limit(20))\n",
        "\n",
        "ip_addresss_404_count_df.show(truncate=False)"
      ]
    },
    {
      "cell_type": "markdown",
      "metadata": {
        "id": "fyuDi3C2aKya"
      },
      "source": [
        "### 404 Errors per Day\n"
      ]
    },
    {
      "cell_type": "code",
      "execution_count": null,
      "metadata": {
        "outputId": "2db9f767-2ae6-4c7c-d597-6500366c6aa4",
        "colab": {
          "base_uri": "https://localhost:8080/",
          "height": 81
        },
        "id": "tW9_IY2aaKya"
      },
      "outputs": [
        {
          "output_type": "execute_result",
          "data": {
            "text/plain": [
              "         date  count\n",
              "0  2118-12-26  17173"
            ],
            "text/html": [
              "\n",
              "  <div id=\"df-0cbe4fd7-e419-4bd5-b458-09b53485f4f4\">\n",
              "    <div class=\"colab-df-container\">\n",
              "      <div>\n",
              "<style scoped>\n",
              "    .dataframe tbody tr th:only-of-type {\n",
              "        vertical-align: middle;\n",
              "    }\n",
              "\n",
              "    .dataframe tbody tr th {\n",
              "        vertical-align: top;\n",
              "    }\n",
              "\n",
              "    .dataframe thead th {\n",
              "        text-align: right;\n",
              "    }\n",
              "</style>\n",
              "<table border=\"1\" class=\"dataframe\">\n",
              "  <thead>\n",
              "    <tr style=\"text-align: right;\">\n",
              "      <th></th>\n",
              "      <th>date</th>\n",
              "      <th>count</th>\n",
              "    </tr>\n",
              "  </thead>\n",
              "  <tbody>\n",
              "    <tr>\n",
              "      <th>0</th>\n",
              "      <td>2118-12-26</td>\n",
              "      <td>17173</td>\n",
              "    </tr>\n",
              "  </tbody>\n",
              "</table>\n",
              "</div>\n",
              "      <button class=\"colab-df-convert\" onclick=\"convertToInteractive('df-0cbe4fd7-e419-4bd5-b458-09b53485f4f4')\"\n",
              "              title=\"Convert this dataframe to an interactive table.\"\n",
              "              style=\"display:none;\">\n",
              "        \n",
              "  <svg xmlns=\"http://www.w3.org/2000/svg\" height=\"24px\"viewBox=\"0 0 24 24\"\n",
              "       width=\"24px\">\n",
              "    <path d=\"M0 0h24v24H0V0z\" fill=\"none\"/>\n",
              "    <path d=\"M18.56 5.44l.94 2.06.94-2.06 2.06-.94-2.06-.94-.94-2.06-.94 2.06-2.06.94zm-11 1L8.5 8.5l.94-2.06 2.06-.94-2.06-.94L8.5 2.5l-.94 2.06-2.06.94zm10 10l.94 2.06.94-2.06 2.06-.94-2.06-.94-.94-2.06-.94 2.06-2.06.94z\"/><path d=\"M17.41 7.96l-1.37-1.37c-.4-.4-.92-.59-1.43-.59-.52 0-1.04.2-1.43.59L10.3 9.45l-7.72 7.72c-.78.78-.78 2.05 0 2.83L4 21.41c.39.39.9.59 1.41.59.51 0 1.02-.2 1.41-.59l7.78-7.78 2.81-2.81c.8-.78.8-2.07 0-2.86zM5.41 20L4 18.59l7.72-7.72 1.47 1.35L5.41 20z\"/>\n",
              "  </svg>\n",
              "      </button>\n",
              "      \n",
              "  <style>\n",
              "    .colab-df-container {\n",
              "      display:flex;\n",
              "      flex-wrap:wrap;\n",
              "      gap: 12px;\n",
              "    }\n",
              "\n",
              "    .colab-df-convert {\n",
              "      background-color: #E8F0FE;\n",
              "      border: none;\n",
              "      border-radius: 50%;\n",
              "      cursor: pointer;\n",
              "      display: none;\n",
              "      fill: #1967D2;\n",
              "      height: 32px;\n",
              "      padding: 0 0 0 0;\n",
              "      width: 32px;\n",
              "    }\n",
              "\n",
              "    .colab-df-convert:hover {\n",
              "      background-color: #E2EBFA;\n",
              "      box-shadow: 0px 1px 2px rgba(60, 64, 67, 0.3), 0px 1px 3px 1px rgba(60, 64, 67, 0.15);\n",
              "      fill: #174EA6;\n",
              "    }\n",
              "\n",
              "    [theme=dark] .colab-df-convert {\n",
              "      background-color: #3B4455;\n",
              "      fill: #D2E3FC;\n",
              "    }\n",
              "\n",
              "    [theme=dark] .colab-df-convert:hover {\n",
              "      background-color: #434B5C;\n",
              "      box-shadow: 0px 1px 3px 1px rgba(0, 0, 0, 0.15);\n",
              "      filter: drop-shadow(0px 1px 2px rgba(0, 0, 0, 0.3));\n",
              "      fill: #FFFFFF;\n",
              "    }\n",
              "  </style>\n",
              "\n",
              "      <script>\n",
              "        const buttonEl =\n",
              "          document.querySelector('#df-0cbe4fd7-e419-4bd5-b458-09b53485f4f4 button.colab-df-convert');\n",
              "        buttonEl.style.display =\n",
              "          google.colab.kernel.accessAllowed ? 'block' : 'none';\n",
              "\n",
              "        async function convertToInteractive(key) {\n",
              "          const element = document.querySelector('#df-0cbe4fd7-e419-4bd5-b458-09b53485f4f4');\n",
              "          const dataTable =\n",
              "            await google.colab.kernel.invokeFunction('convertToInteractive',\n",
              "                                                     [key], {});\n",
              "          if (!dataTable) return;\n",
              "\n",
              "          const docLinkHtml = 'Like what you see? Visit the ' +\n",
              "            '<a target=\"_blank\" href=https://colab.research.google.com/notebooks/data_table.ipynb>data table notebook</a>'\n",
              "            + ' to learn more about interactive tables.';\n",
              "          element.innerHTML = '';\n",
              "          dataTable['output_type'] = 'display_data';\n",
              "          await google.colab.output.renderOutput(dataTable, element);\n",
              "          const docLink = document.createElement('div');\n",
              "          docLink.innerHTML = docLinkHtml;\n",
              "          element.appendChild(docLink);\n",
              "        }\n",
              "      </script>\n",
              "    </div>\n",
              "  </div>\n",
              "  "
            ]
          },
          "metadata": {},
          "execution_count": 111
        }
      ],
      "source": [
        "errors_by_date_sorted_df = (not_found_df\n",
        "                                .groupBy(\"date\")\n",
        "                                .count()\n",
        "                                .sort(\"date\"))\n",
        "\n",
        "errors_by_date_sorted_pd_df = errors_by_date_sorted_df.toPandas()\n",
        "errors_by_date_sorted_pd_df"
      ]
    },
    {
      "cell_type": "markdown",
      "source": [
        "All 404 errors fall on 2118-Dec-26 "
      ],
      "metadata": {
        "id": "MyVfw69WaKya"
      }
    },
    {
      "cell_type": "markdown",
      "source": [
        "### Days of the Week with 404 Status Codes"
      ],
      "metadata": {
        "id": "NoU_Ash1aKya"
      }
    },
    {
      "cell_type": "code",
      "source": [
        "from pyspark.sql.functions import col\n",
        "\n",
        "week_counts_df = not_found_df.groupBy('day_of_week').count().orderBy(col('count').asc())\n",
        "week_counts_df.show()"
      ],
      "metadata": {
        "outputId": "0d0607a3-326b-4c94-dc2b-718f26b52469",
        "colab": {
          "base_uri": "https://localhost:8080/"
        },
        "id": "QUJkPYTdaKyb"
      },
      "execution_count": null,
      "outputs": [
        {
          "output_type": "stream",
          "name": "stdout",
          "text": [
            "+-----------+-----+\n",
            "|day_of_week|count|\n",
            "+-----------+-----+\n",
            "|     Monday|17173|\n",
            "+-----------+-----+\n",
            "\n"
          ]
        }
      ]
    },
    {
      "cell_type": "markdown",
      "metadata": {
        "id": "8nYmt8GraKyb"
      },
      "source": [
        "### Hourly 404 Errors"
      ]
    },
    {
      "cell_type": "code",
      "execution_count": null,
      "metadata": {
        "collapsed": true,
        "colab": {
          "base_uri": "https://localhost:8080/",
          "height": 81
        },
        "outputId": "bd56311f-f0ad-4dab-d1c0-2acad943bfc7",
        "id": "YlAqymJFaKyb"
      },
      "outputs": [
        {
          "output_type": "execute_result",
          "data": {
            "text/plain": [
              "  hour  count\n",
              "0       17173"
            ],
            "text/html": [
              "\n",
              "  <div id=\"df-01bc5f0c-dc7f-4f15-b2be-fe15849e058a\">\n",
              "    <div class=\"colab-df-container\">\n",
              "      <div>\n",
              "<style scoped>\n",
              "    .dataframe tbody tr th:only-of-type {\n",
              "        vertical-align: middle;\n",
              "    }\n",
              "\n",
              "    .dataframe tbody tr th {\n",
              "        vertical-align: top;\n",
              "    }\n",
              "\n",
              "    .dataframe thead th {\n",
              "        text-align: right;\n",
              "    }\n",
              "</style>\n",
              "<table border=\"1\" class=\"dataframe\">\n",
              "  <thead>\n",
              "    <tr style=\"text-align: right;\">\n",
              "      <th></th>\n",
              "      <th>hour</th>\n",
              "      <th>count</th>\n",
              "    </tr>\n",
              "  </thead>\n",
              "  <tbody>\n",
              "    <tr>\n",
              "      <th>0</th>\n",
              "      <td></td>\n",
              "      <td>17173</td>\n",
              "    </tr>\n",
              "  </tbody>\n",
              "</table>\n",
              "</div>\n",
              "      <button class=\"colab-df-convert\" onclick=\"convertToInteractive('df-01bc5f0c-dc7f-4f15-b2be-fe15849e058a')\"\n",
              "              title=\"Convert this dataframe to an interactive table.\"\n",
              "              style=\"display:none;\">\n",
              "        \n",
              "  <svg xmlns=\"http://www.w3.org/2000/svg\" height=\"24px\"viewBox=\"0 0 24 24\"\n",
              "       width=\"24px\">\n",
              "    <path d=\"M0 0h24v24H0V0z\" fill=\"none\"/>\n",
              "    <path d=\"M18.56 5.44l.94 2.06.94-2.06 2.06-.94-2.06-.94-.94-2.06-.94 2.06-2.06.94zm-11 1L8.5 8.5l.94-2.06 2.06-.94-2.06-.94L8.5 2.5l-.94 2.06-2.06.94zm10 10l.94 2.06.94-2.06 2.06-.94-2.06-.94-.94-2.06-.94 2.06-2.06.94z\"/><path d=\"M17.41 7.96l-1.37-1.37c-.4-.4-.92-.59-1.43-.59-.52 0-1.04.2-1.43.59L10.3 9.45l-7.72 7.72c-.78.78-.78 2.05 0 2.83L4 21.41c.39.39.9.59 1.41.59.51 0 1.02-.2 1.41-.59l7.78-7.78 2.81-2.81c.8-.78.8-2.07 0-2.86zM5.41 20L4 18.59l7.72-7.72 1.47 1.35L5.41 20z\"/>\n",
              "  </svg>\n",
              "      </button>\n",
              "      \n",
              "  <style>\n",
              "    .colab-df-container {\n",
              "      display:flex;\n",
              "      flex-wrap:wrap;\n",
              "      gap: 12px;\n",
              "    }\n",
              "\n",
              "    .colab-df-convert {\n",
              "      background-color: #E8F0FE;\n",
              "      border: none;\n",
              "      border-radius: 50%;\n",
              "      cursor: pointer;\n",
              "      display: none;\n",
              "      fill: #1967D2;\n",
              "      height: 32px;\n",
              "      padding: 0 0 0 0;\n",
              "      width: 32px;\n",
              "    }\n",
              "\n",
              "    .colab-df-convert:hover {\n",
              "      background-color: #E2EBFA;\n",
              "      box-shadow: 0px 1px 2px rgba(60, 64, 67, 0.3), 0px 1px 3px 1px rgba(60, 64, 67, 0.15);\n",
              "      fill: #174EA6;\n",
              "    }\n",
              "\n",
              "    [theme=dark] .colab-df-convert {\n",
              "      background-color: #3B4455;\n",
              "      fill: #D2E3FC;\n",
              "    }\n",
              "\n",
              "    [theme=dark] .colab-df-convert:hover {\n",
              "      background-color: #434B5C;\n",
              "      box-shadow: 0px 1px 3px 1px rgba(0, 0, 0, 0.15);\n",
              "      filter: drop-shadow(0px 1px 2px rgba(0, 0, 0, 0.3));\n",
              "      fill: #FFFFFF;\n",
              "    }\n",
              "  </style>\n",
              "\n",
              "      <script>\n",
              "        const buttonEl =\n",
              "          document.querySelector('#df-01bc5f0c-dc7f-4f15-b2be-fe15849e058a button.colab-df-convert');\n",
              "        buttonEl.style.display =\n",
              "          google.colab.kernel.accessAllowed ? 'block' : 'none';\n",
              "\n",
              "        async function convertToInteractive(key) {\n",
              "          const element = document.querySelector('#df-01bc5f0c-dc7f-4f15-b2be-fe15849e058a');\n",
              "          const dataTable =\n",
              "            await google.colab.kernel.invokeFunction('convertToInteractive',\n",
              "                                                     [key], {});\n",
              "          if (!dataTable) return;\n",
              "\n",
              "          const docLinkHtml = 'Like what you see? Visit the ' +\n",
              "            '<a target=\"_blank\" href=https://colab.research.google.com/notebooks/data_table.ipynb>data table notebook</a>'\n",
              "            + ' to learn more about interactive tables.';\n",
              "          element.innerHTML = '';\n",
              "          dataTable['output_type'] = 'display_data';\n",
              "          await google.colab.output.renderOutput(dataTable, element);\n",
              "          const docLink = document.createElement('div');\n",
              "          docLink.innerHTML = docLinkHtml;\n",
              "          element.appendChild(docLink);\n",
              "        }\n",
              "      </script>\n",
              "    </div>\n",
              "  </div>\n",
              "  "
            ]
          },
          "metadata": {},
          "execution_count": 115
        }
      ],
      "source": [
        "hourly_avg_errors_sorted_df = (not_found_df\n",
        "                                   .groupBy('hour')\n",
        "                                   .count()\n",
        "                                   .sort('hour'))\n",
        "hourly_avg_errors_sorted_pd_df = hourly_avg_errors_sorted_df.toPandas()\n",
        "hourly_avg_errors_sorted_pd_df"
      ]
    },
    {
      "cell_type": "markdown",
      "source": [
        "All 404 errors fall at midnight"
      ],
      "metadata": {
        "id": "92LPs6cNaKyb"
      }
    },
    {
      "cell_type": "markdown",
      "source": [
        "## IP Address Analysis"
      ],
      "metadata": {
        "id": "5vBlg13oY7JB"
      }
    },
    {
      "cell_type": "markdown",
      "metadata": {
        "id": "CdzSTgKp7Fuo"
      },
      "source": [
        "### Analyzing Frequent IP Address\n",
        "Get the count of total accesses by each `ip_address` and then sort by the counts and display only the top ten most frequent ip_addresss."
      ]
    },
    {
      "cell_type": "code",
      "execution_count": 93,
      "metadata": {
        "id": "SitWzUM-7Fuo",
        "outputId": "e9f35a30-2502-4e28-fccd-efbb06f6405b",
        "colab": {
          "base_uri": "https://localhost:8080/"
        }
      },
      "outputs": [
        {
          "output_type": "stream",
          "name": "stdout",
          "text": [
            "+---------------+-----+\n",
            "|ip_address     |count|\n",
            "+---------------+-----+\n",
            "|136.107.117.116|2    |\n",
            "|55.135.36.93   |2    |\n",
            "|163.218.128.230|1    |\n",
            "|99.46.28.107   |1    |\n",
            "|164.21.58.62   |1    |\n",
            "|211.192.19.243 |1    |\n",
            "|21.51.229.253  |1    |\n",
            "|3.20.196.136   |1    |\n",
            "|55.134.128.41  |1    |\n",
            "|200.235.72.159 |1    |\n",
            "+---------------+-----+\n",
            "\n"
          ]
        }
      ],
      "source": [
        "ip_address_sum_df =(logs_df\n",
        "               .groupBy('ip_address')\n",
        "               .count()\n",
        "               .sort('count', ascending=False).limit(10))\n",
        "\n",
        "ip_address_sum_df.show(truncate=False)"
      ]
    },
    {
      "cell_type": "markdown",
      "metadata": {
        "id": "CKTLPFLq7Fuq"
      },
      "source": [
        "### Total number of Unique ip_addresss"
      ]
    },
    {
      "cell_type": "code",
      "execution_count": null,
      "metadata": {
        "id": "5C8jpQ2n7Fuq",
        "outputId": "4f81022f-6d17-4a3c-e26b-b3d121673417",
        "colab": {
          "base_uri": "https://localhost:8080/"
        }
      },
      "outputs": [
        {
          "output_type": "execute_result",
          "data": {
            "text/plain": [
              "119998"
            ]
          },
          "metadata": {},
          "execution_count": 99
        }
      ],
      "source": [
        "unique_ip_address_count = (logs_df\n",
        "                     .select('ip_address')\n",
        "                     .distinct()\n",
        "                     .count())\n",
        "unique_ip_address_count"
      ]
    },
    {
      "cell_type": "markdown",
      "metadata": {
        "id": "-r5qOVtO7Fuq"
      },
      "source": [
        "### Number of Unique Daily ip_addresss\n"
      ]
    },
    {
      "cell_type": "code",
      "execution_count": null,
      "metadata": {
        "id": "lTGEqqtg7Fur",
        "outputId": "0d61f2f1-26c7-4b0c-8503-4888cde3dde1",
        "colab": {
          "base_uri": "https://localhost:8080/"
        }
      },
      "outputs": [
        {
          "output_type": "stream",
          "name": "stdout",
          "text": [
            "+--------------+---+\n",
            "|ip_address    |day|\n",
            "+--------------+---+\n",
            "|155.58.151.29 |26 |\n",
            "|163.82.174.139|26 |\n",
            "|165.179.232.65|26 |\n",
            "|193.21.255.115|26 |\n",
            "|108.76.56.192 |26 |\n",
            "+--------------+---+\n",
            "only showing top 5 rows\n",
            "\n"
          ]
        }
      ],
      "source": [
        "ip_address_day_distinct_df = logs_df.select(logs_df.ip_address,'day').dropDuplicates()\n",
        "ip_address_day_distinct_df.show(5, truncate=False)"
      ]
    },
    {
      "cell_type": "markdown",
      "metadata": {
        "id": "websNIxw7Fur"
      },
      "source": [
        "**`daily_unique_ip_addresss_df`**\n",
        "\n",
        "A DataFrame with two columns:\n",
        "\n",
        "| column  | explanation                                        |\n",
        "| ------- | -------------------------------------------------- |\n",
        "| `day`   | the day of the month                               |\n",
        "| `count` | the number of unique requesting ip_addresss for that day |"
      ]
    },
    {
      "cell_type": "code",
      "source": [
        "dir(pd.options)"
      ],
      "metadata": {
        "id": "T-JEQ6dd9PaF",
        "outputId": "6b47e1ae-65e0-4d91-e1c5-cf5d83b2292e",
        "colab": {
          "base_uri": "https://localhost:8080/"
        }
      },
      "execution_count": null,
      "outputs": [
        {
          "output_type": "execute_result",
          "data": {
            "text/plain": [
              "['compute', 'display', 'io', 'mode', 'plotting', 'styler']"
            ]
          },
          "metadata": {},
          "execution_count": 101
        }
      ]
    },
    {
      "cell_type": "code",
      "execution_count": null,
      "metadata": {
        "id": "GXjvj7lu7Fur",
        "outputId": "d1303375-32f9-4d86-92ca-7d1cc29fb102",
        "colab": {
          "base_uri": "https://localhost:8080/",
          "height": 81
        }
      },
      "outputs": [
        {
          "output_type": "execute_result",
          "data": {
            "text/plain": [
              "  day   count\n",
              "0  26  119998"
            ],
            "text/html": [
              "\n",
              "  <div id=\"df-b461fefb-9f30-4acc-a1cf-8140b7939da0\">\n",
              "    <div class=\"colab-df-container\">\n",
              "      <div>\n",
              "<style scoped>\n",
              "    .dataframe tbody tr th:only-of-type {\n",
              "        vertical-align: middle;\n",
              "    }\n",
              "\n",
              "    .dataframe tbody tr th {\n",
              "        vertical-align: top;\n",
              "    }\n",
              "\n",
              "    .dataframe thead th {\n",
              "        text-align: right;\n",
              "    }\n",
              "</style>\n",
              "<table border=\"1\" class=\"dataframe\">\n",
              "  <thead>\n",
              "    <tr style=\"text-align: right;\">\n",
              "      <th></th>\n",
              "      <th>day</th>\n",
              "      <th>count</th>\n",
              "    </tr>\n",
              "  </thead>\n",
              "  <tbody>\n",
              "    <tr>\n",
              "      <th>0</th>\n",
              "      <td>26</td>\n",
              "      <td>119998</td>\n",
              "    </tr>\n",
              "  </tbody>\n",
              "</table>\n",
              "</div>\n",
              "      <button class=\"colab-df-convert\" onclick=\"convertToInteractive('df-b461fefb-9f30-4acc-a1cf-8140b7939da0')\"\n",
              "              title=\"Convert this dataframe to an interactive table.\"\n",
              "              style=\"display:none;\">\n",
              "        \n",
              "  <svg xmlns=\"http://www.w3.org/2000/svg\" height=\"24px\"viewBox=\"0 0 24 24\"\n",
              "       width=\"24px\">\n",
              "    <path d=\"M0 0h24v24H0V0z\" fill=\"none\"/>\n",
              "    <path d=\"M18.56 5.44l.94 2.06.94-2.06 2.06-.94-2.06-.94-.94-2.06-.94 2.06-2.06.94zm-11 1L8.5 8.5l.94-2.06 2.06-.94-2.06-.94L8.5 2.5l-.94 2.06-2.06.94zm10 10l.94 2.06.94-2.06 2.06-.94-2.06-.94-.94-2.06-.94 2.06-2.06.94z\"/><path d=\"M17.41 7.96l-1.37-1.37c-.4-.4-.92-.59-1.43-.59-.52 0-1.04.2-1.43.59L10.3 9.45l-7.72 7.72c-.78.78-.78 2.05 0 2.83L4 21.41c.39.39.9.59 1.41.59.51 0 1.02-.2 1.41-.59l7.78-7.78 2.81-2.81c.8-.78.8-2.07 0-2.86zM5.41 20L4 18.59l7.72-7.72 1.47 1.35L5.41 20z\"/>\n",
              "  </svg>\n",
              "      </button>\n",
              "      \n",
              "  <style>\n",
              "    .colab-df-container {\n",
              "      display:flex;\n",
              "      flex-wrap:wrap;\n",
              "      gap: 12px;\n",
              "    }\n",
              "\n",
              "    .colab-df-convert {\n",
              "      background-color: #E8F0FE;\n",
              "      border: none;\n",
              "      border-radius: 50%;\n",
              "      cursor: pointer;\n",
              "      display: none;\n",
              "      fill: #1967D2;\n",
              "      height: 32px;\n",
              "      padding: 0 0 0 0;\n",
              "      width: 32px;\n",
              "    }\n",
              "\n",
              "    .colab-df-convert:hover {\n",
              "      background-color: #E2EBFA;\n",
              "      box-shadow: 0px 1px 2px rgba(60, 64, 67, 0.3), 0px 1px 3px 1px rgba(60, 64, 67, 0.15);\n",
              "      fill: #174EA6;\n",
              "    }\n",
              "\n",
              "    [theme=dark] .colab-df-convert {\n",
              "      background-color: #3B4455;\n",
              "      fill: #D2E3FC;\n",
              "    }\n",
              "\n",
              "    [theme=dark] .colab-df-convert:hover {\n",
              "      background-color: #434B5C;\n",
              "      box-shadow: 0px 1px 3px 1px rgba(0, 0, 0, 0.15);\n",
              "      filter: drop-shadow(0px 1px 2px rgba(0, 0, 0, 0.3));\n",
              "      fill: #FFFFFF;\n",
              "    }\n",
              "  </style>\n",
              "\n",
              "      <script>\n",
              "        const buttonEl =\n",
              "          document.querySelector('#df-b461fefb-9f30-4acc-a1cf-8140b7939da0 button.colab-df-convert');\n",
              "        buttonEl.style.display =\n",
              "          google.colab.kernel.accessAllowed ? 'block' : 'none';\n",
              "\n",
              "        async function convertToInteractive(key) {\n",
              "          const element = document.querySelector('#df-b461fefb-9f30-4acc-a1cf-8140b7939da0');\n",
              "          const dataTable =\n",
              "            await google.colab.kernel.invokeFunction('convertToInteractive',\n",
              "                                                     [key], {});\n",
              "          if (!dataTable) return;\n",
              "\n",
              "          const docLinkHtml = 'Like what you see? Visit the ' +\n",
              "            '<a target=\"_blank\" href=https://colab.research.google.com/notebooks/data_table.ipynb>data table notebook</a>'\n",
              "            + ' to learn more about interactive tables.';\n",
              "          element.innerHTML = '';\n",
              "          dataTable['output_type'] = 'display_data';\n",
              "          await google.colab.output.renderOutput(dataTable, element);\n",
              "          const docLink = document.createElement('div');\n",
              "          docLink.innerHTML = docLinkHtml;\n",
              "          element.appendChild(docLink);\n",
              "        }\n",
              "      </script>\n",
              "    </div>\n",
              "  </div>\n",
              "  "
            ]
          },
          "metadata": {},
          "execution_count": 103
        }
      ],
      "source": [
        "def_mr = pd.options.display.max_rows\n",
        "pd.options.display.max_rows = 10\n",
        "daily_ip_addresss_df = (ip_address_day_distinct_df\n",
        "                     .groupBy('day')\n",
        "                     .count()\n",
        "                     .sort(\"day\"))\n",
        "\n",
        "daily_ip_addresss_df = daily_ip_addresss_df.toPandas()\n",
        "daily_ip_addresss_df"
      ]
    },
    {
      "cell_type": "markdown",
      "source": [
        "## EndPoints Analysis"
      ],
      "metadata": {
        "id": "e64PEmE4ZBYw"
      }
    },
    {
      "cell_type": "markdown",
      "metadata": {
        "id": "8MBlY5yW7Fup"
      },
      "source": [
        "### Display the Top 20 Frequent EndPoints\n",
        "The number of hits to endpoints (URIs) in the log. \n",
        "- Group by the `endpoint` column, aggregate by count, \n",
        "- sort in descending order like the previous part."
      ]
    },
    {
      "cell_type": "code",
      "execution_count": 95,
      "metadata": {
        "collapsed": true,
        "id": "fRPZ8JL47Fup"
      },
      "outputs": [],
      "source": [
        "paths_df = (logs_df\n",
        "            .groupBy('endpoint')\n",
        "            .count()\n",
        "            .sort('count', ascending=False).limit(20))"
      ]
    },
    {
      "cell_type": "code",
      "execution_count": 96,
      "metadata": {
        "id": "rZcTCBSt7Fup",
        "outputId": "7c767e93-21df-40d1-98a5-e6554edb3c14",
        "colab": {
          "base_uri": "https://localhost:8080/",
          "height": 676
        }
      },
      "outputs": [
        {
          "output_type": "execute_result",
          "data": {
            "text/plain": [
              "                                             endpoint  count\n",
              "0   /Archives/edgar/data/000132756719000032/000132...    863\n",
              "1   /Archives/edgar/data/0001704304/00009296381900...    861\n",
              "2   /Archives/edgar/data/0001203957/00011931251022...    853\n",
              "3   /Archives/edgar/data/1356093/00008843000800001...    853\n",
              "4   /Archives/edgar/data/0001260125/00011442041901...    852\n",
              "5   /Archives/edgar/data/0001179929/00011799292300...    851\n",
              "6   /Archives/edgar/data/1319616/00012091911901959...    850\n",
              "7   /Archives/edgar/data/0001608293/00011931251422...    850\n",
              "8   /Archives/edgar/data/0000318833/00003542042100...    847\n",
              "9   /Archives/edgar/data/1390098/00012139002302329...    846\n",
              "10  /Archives/edgar/data/0001260125/00011442041901...    842\n",
              "11  /Archives/edgar/data/0001767306/00009324711200...    842\n",
              "12  /Archives/edgar/data/0001591698/00010474691400...    840\n",
              "13  /Archives/edgar/data/0001168220/00011682200900...    839\n",
              "14  /Archives/edgar/data/925548/000092153005000094...    839\n",
              "15  /Archives/edgar/data/0000205007/00011455492301...    835\n",
              "16  /Archives/edgar/data/0001852440/00000000002200...    834\n",
              "17  /Archives/edgar/data/0001780984/00011931252109...    833\n",
              "18  /Archives/edgar/data/0001179929/00011799292300...    833\n",
              "19  /Archives/edgar/data/0001439124/00012928142200...    831"
            ],
            "text/html": [
              "\n",
              "  <div id=\"df-cdc83683-abe8-4829-8968-68a533163dc6\">\n",
              "    <div class=\"colab-df-container\">\n",
              "      <div>\n",
              "<style scoped>\n",
              "    .dataframe tbody tr th:only-of-type {\n",
              "        vertical-align: middle;\n",
              "    }\n",
              "\n",
              "    .dataframe tbody tr th {\n",
              "        vertical-align: top;\n",
              "    }\n",
              "\n",
              "    .dataframe thead th {\n",
              "        text-align: right;\n",
              "    }\n",
              "</style>\n",
              "<table border=\"1\" class=\"dataframe\">\n",
              "  <thead>\n",
              "    <tr style=\"text-align: right;\">\n",
              "      <th></th>\n",
              "      <th>endpoint</th>\n",
              "      <th>count</th>\n",
              "    </tr>\n",
              "  </thead>\n",
              "  <tbody>\n",
              "    <tr>\n",
              "      <th>0</th>\n",
              "      <td>/Archives/edgar/data/000132756719000032/000132...</td>\n",
              "      <td>863</td>\n",
              "    </tr>\n",
              "    <tr>\n",
              "      <th>1</th>\n",
              "      <td>/Archives/edgar/data/0001704304/00009296381900...</td>\n",
              "      <td>861</td>\n",
              "    </tr>\n",
              "    <tr>\n",
              "      <th>2</th>\n",
              "      <td>/Archives/edgar/data/0001203957/00011931251022...</td>\n",
              "      <td>853</td>\n",
              "    </tr>\n",
              "    <tr>\n",
              "      <th>3</th>\n",
              "      <td>/Archives/edgar/data/1356093/00008843000800001...</td>\n",
              "      <td>853</td>\n",
              "    </tr>\n",
              "    <tr>\n",
              "      <th>4</th>\n",
              "      <td>/Archives/edgar/data/0001260125/00011442041901...</td>\n",
              "      <td>852</td>\n",
              "    </tr>\n",
              "    <tr>\n",
              "      <th>5</th>\n",
              "      <td>/Archives/edgar/data/0001179929/00011799292300...</td>\n",
              "      <td>851</td>\n",
              "    </tr>\n",
              "    <tr>\n",
              "      <th>6</th>\n",
              "      <td>/Archives/edgar/data/1319616/00012091911901959...</td>\n",
              "      <td>850</td>\n",
              "    </tr>\n",
              "    <tr>\n",
              "      <th>7</th>\n",
              "      <td>/Archives/edgar/data/0001608293/00011931251422...</td>\n",
              "      <td>850</td>\n",
              "    </tr>\n",
              "    <tr>\n",
              "      <th>8</th>\n",
              "      <td>/Archives/edgar/data/0000318833/00003542042100...</td>\n",
              "      <td>847</td>\n",
              "    </tr>\n",
              "    <tr>\n",
              "      <th>9</th>\n",
              "      <td>/Archives/edgar/data/1390098/00012139002302329...</td>\n",
              "      <td>846</td>\n",
              "    </tr>\n",
              "    <tr>\n",
              "      <th>10</th>\n",
              "      <td>/Archives/edgar/data/0001260125/00011442041901...</td>\n",
              "      <td>842</td>\n",
              "    </tr>\n",
              "    <tr>\n",
              "      <th>11</th>\n",
              "      <td>/Archives/edgar/data/0001767306/00009324711200...</td>\n",
              "      <td>842</td>\n",
              "    </tr>\n",
              "    <tr>\n",
              "      <th>12</th>\n",
              "      <td>/Archives/edgar/data/0001591698/00010474691400...</td>\n",
              "      <td>840</td>\n",
              "    </tr>\n",
              "    <tr>\n",
              "      <th>13</th>\n",
              "      <td>/Archives/edgar/data/0001168220/00011682200900...</td>\n",
              "      <td>839</td>\n",
              "    </tr>\n",
              "    <tr>\n",
              "      <th>14</th>\n",
              "      <td>/Archives/edgar/data/925548/000092153005000094...</td>\n",
              "      <td>839</td>\n",
              "    </tr>\n",
              "    <tr>\n",
              "      <th>15</th>\n",
              "      <td>/Archives/edgar/data/0000205007/00011455492301...</td>\n",
              "      <td>835</td>\n",
              "    </tr>\n",
              "    <tr>\n",
              "      <th>16</th>\n",
              "      <td>/Archives/edgar/data/0001852440/00000000002200...</td>\n",
              "      <td>834</td>\n",
              "    </tr>\n",
              "    <tr>\n",
              "      <th>17</th>\n",
              "      <td>/Archives/edgar/data/0001780984/00011931252109...</td>\n",
              "      <td>833</td>\n",
              "    </tr>\n",
              "    <tr>\n",
              "      <th>18</th>\n",
              "      <td>/Archives/edgar/data/0001179929/00011799292300...</td>\n",
              "      <td>833</td>\n",
              "    </tr>\n",
              "    <tr>\n",
              "      <th>19</th>\n",
              "      <td>/Archives/edgar/data/0001439124/00012928142200...</td>\n",
              "      <td>831</td>\n",
              "    </tr>\n",
              "  </tbody>\n",
              "</table>\n",
              "</div>\n",
              "      <button class=\"colab-df-convert\" onclick=\"convertToInteractive('df-cdc83683-abe8-4829-8968-68a533163dc6')\"\n",
              "              title=\"Convert this dataframe to an interactive table.\"\n",
              "              style=\"display:none;\">\n",
              "        \n",
              "  <svg xmlns=\"http://www.w3.org/2000/svg\" height=\"24px\"viewBox=\"0 0 24 24\"\n",
              "       width=\"24px\">\n",
              "    <path d=\"M0 0h24v24H0V0z\" fill=\"none\"/>\n",
              "    <path d=\"M18.56 5.44l.94 2.06.94-2.06 2.06-.94-2.06-.94-.94-2.06-.94 2.06-2.06.94zm-11 1L8.5 8.5l.94-2.06 2.06-.94-2.06-.94L8.5 2.5l-.94 2.06-2.06.94zm10 10l.94 2.06.94-2.06 2.06-.94-2.06-.94-.94-2.06-.94 2.06-2.06.94z\"/><path d=\"M17.41 7.96l-1.37-1.37c-.4-.4-.92-.59-1.43-.59-.52 0-1.04.2-1.43.59L10.3 9.45l-7.72 7.72c-.78.78-.78 2.05 0 2.83L4 21.41c.39.39.9.59 1.41.59.51 0 1.02-.2 1.41-.59l7.78-7.78 2.81-2.81c.8-.78.8-2.07 0-2.86zM5.41 20L4 18.59l7.72-7.72 1.47 1.35L5.41 20z\"/>\n",
              "  </svg>\n",
              "      </button>\n",
              "      \n",
              "  <style>\n",
              "    .colab-df-container {\n",
              "      display:flex;\n",
              "      flex-wrap:wrap;\n",
              "      gap: 12px;\n",
              "    }\n",
              "\n",
              "    .colab-df-convert {\n",
              "      background-color: #E8F0FE;\n",
              "      border: none;\n",
              "      border-radius: 50%;\n",
              "      cursor: pointer;\n",
              "      display: none;\n",
              "      fill: #1967D2;\n",
              "      height: 32px;\n",
              "      padding: 0 0 0 0;\n",
              "      width: 32px;\n",
              "    }\n",
              "\n",
              "    .colab-df-convert:hover {\n",
              "      background-color: #E2EBFA;\n",
              "      box-shadow: 0px 1px 2px rgba(60, 64, 67, 0.3), 0px 1px 3px 1px rgba(60, 64, 67, 0.15);\n",
              "      fill: #174EA6;\n",
              "    }\n",
              "\n",
              "    [theme=dark] .colab-df-convert {\n",
              "      background-color: #3B4455;\n",
              "      fill: #D2E3FC;\n",
              "    }\n",
              "\n",
              "    [theme=dark] .colab-df-convert:hover {\n",
              "      background-color: #434B5C;\n",
              "      box-shadow: 0px 1px 3px 1px rgba(0, 0, 0, 0.15);\n",
              "      filter: drop-shadow(0px 1px 2px rgba(0, 0, 0, 0.3));\n",
              "      fill: #FFFFFF;\n",
              "    }\n",
              "  </style>\n",
              "\n",
              "      <script>\n",
              "        const buttonEl =\n",
              "          document.querySelector('#df-cdc83683-abe8-4829-8968-68a533163dc6 button.colab-df-convert');\n",
              "        buttonEl.style.display =\n",
              "          google.colab.kernel.accessAllowed ? 'block' : 'none';\n",
              "\n",
              "        async function convertToInteractive(key) {\n",
              "          const element = document.querySelector('#df-cdc83683-abe8-4829-8968-68a533163dc6');\n",
              "          const dataTable =\n",
              "            await google.colab.kernel.invokeFunction('convertToInteractive',\n",
              "                                                     [key], {});\n",
              "          if (!dataTable) return;\n",
              "\n",
              "          const docLinkHtml = 'Like what you see? Visit the ' +\n",
              "            '<a target=\"_blank\" href=https://colab.research.google.com/notebooks/data_table.ipynb>data table notebook</a>'\n",
              "            + ' to learn more about interactive tables.';\n",
              "          element.innerHTML = '';\n",
              "          dataTable['output_type'] = 'display_data';\n",
              "          await google.colab.output.renderOutput(dataTable, element);\n",
              "          const docLink = document.createElement('div');\n",
              "          docLink.innerHTML = docLinkHtml;\n",
              "          element.appendChild(docLink);\n",
              "        }\n",
              "      </script>\n",
              "    </div>\n",
              "  </div>\n",
              "  "
            ]
          },
          "metadata": {},
          "execution_count": 96
        }
      ],
      "source": [
        "paths_pd_df = paths_df.toPandas()\n",
        "paths_pd_df"
      ]
    },
    {
      "cell_type": "markdown",
      "metadata": {
        "id": "lyU5owA17Fuq"
      },
      "source": [
        "### Top 10 Error Endpoints\n",
        "Sorted list containing the endpoints and the number of times that they were accessed with a non-200 return code and show the top ten."
      ]
    },
    {
      "cell_type": "code",
      "execution_count": 97,
      "metadata": {
        "collapsed": true,
        "id": "HUMnGaYp7Fuq"
      },
      "outputs": [],
      "source": [
        "not200_df = (logs_df\n",
        "               .filter(logs_df['response_code'] != 200))\n",
        "\n",
        "error_endpoints_freq_df = (not200_df\n",
        "                               .groupBy('endpoint')\n",
        "                               .count()\n",
        "                               .sort('count', ascending=False)\n",
        "                               .limit(10)\n",
        "                          )"
      ]
    },
    {
      "cell_type": "code",
      "execution_count": 98,
      "metadata": {
        "id": "OaYpRw4i7Fuq",
        "outputId": "6506b334-920e-466a-d920-f2b04dcf5170",
        "colab": {
          "base_uri": "https://localhost:8080/"
        }
      },
      "outputs": [
        {
          "output_type": "stream",
          "name": "stdout",
          "text": [
            "+---------------------------------------------------------------------------------+-----+\n",
            "|endpoint                                                                         |count|\n",
            "+---------------------------------------------------------------------------------+-----+\n",
            "|/Archives/edgar/data/0001704304/000092963819000386/form10k.htm                   |746  |\n",
            "|/Archives/edgar/data/1356093/000088430008000018/0000884300-08-000018.txt         |743  |\n",
            "|/Archives/edgar/data/000132756719000032/0001327567-19-000032-index.html          |739  |\n",
            "|/Archives/edgar/data/0000318833/000035420421000574/SEC13G_Filing.htm             |736  |\n",
            "|/Archives/edgar/data/0001203957/000119312510223947/0001193125-10-223947-index.htm|734  |\n",
            "|/Archives/edgar/data/0001591698/000104746914000931/a2218171zs-1a.htm             |732  |\n",
            "|/Archives/edgar/data/0001179929/000117992923000043/moh-20230320_g29.jpg          |732  |\n",
            "|/Archives/edgar/data/1319616/000120919119019599/0001209191-19-019599-index.htm   |730  |\n",
            "|/Archives/edgar/data/0001439124/000129281422000790/                              |727  |\n",
            "|/Archives/edgar/data/0001767306/000093247112005362/0000932471-12-005362.txt      |727  |\n",
            "+---------------------------------------------------------------------------------+-----+\n",
            "\n"
          ]
        }
      ],
      "source": [
        "error_endpoints_freq_df.show(truncate=False)"
      ]
    },
    {
      "cell_type": "code",
      "source": [],
      "metadata": {
        "id": "FiGYE_llZ3Ru"
      },
      "execution_count": null,
      "outputs": []
    },
    {
      "cell_type": "markdown",
      "metadata": {
        "id": "Sat6YBXl7Fuv"
      },
      "source": [
        "### Endpoint that received the highest number of invocations on a specific day of the week"
      ]
    },
    {
      "cell_type": "markdown",
      "source": [
        "Calculating the count of invocations for each unique combination of day of the week and endpoint"
      ],
      "metadata": {
        "id": "eIpmRysO3E5e"
      }
    },
    {
      "cell_type": "code",
      "execution_count": null,
      "metadata": {
        "id": "aik1QifG7Fuv",
        "outputId": "5afaf9d5-82b7-4d96-9759-9ef582c44eff",
        "colab": {
          "base_uri": "https://localhost:8080/"
        }
      },
      "outputs": [
        {
          "output_type": "stream",
          "name": "stdout",
          "text": [
            "+-----------+--------------------+-----------+\n",
            "|day_of_week|            endpoint|invocations|\n",
            "+-----------+--------------------+-----------+\n",
            "|     Monday|/Archives/edgar/d...|        811|\n",
            "|     Monday|/Archives/edgar/d...|        800|\n",
            "|     Monday|/Archives/edgar/d...|        850|\n",
            "|     Monday|/Archives/edgar/d...|        805|\n",
            "|     Monday|/Archives/edgar/d...|        758|\n",
            "|     Monday|/Archives/edgar/d...|        806|\n",
            "|     Monday|/Archives/edgar/d...|        815|\n",
            "|     Monday|/Archives/edgar/d...|        787|\n",
            "|     Monday|/Archives/edgar/d...|        786|\n",
            "|     Monday|/Archives/edgar/d...|        782|\n",
            "+-----------+--------------------+-----------+\n",
            "only showing top 10 rows\n",
            "\n"
          ]
        }
      ],
      "source": [
        "from pyspark.sql.functions import date_format, count, max\n",
        "# Group the data by day of the week and endpoint, and count the number of invocations\n",
        "grouped_df = logs_df.groupBy('day_of_week', 'endpoint').agg(count('*').alias('invocations'))\n",
        "grouped_df.show(10, truncate=True)\n"
      ]
    },
    {
      "cell_type": "markdown",
      "source": [
        "Select the highest count for each unique day of week"
      ],
      "metadata": {
        "id": "lv4xiGYz3UVO"
      }
    },
    {
      "cell_type": "code",
      "execution_count": null,
      "metadata": {
        "id": "lTZJZInU7Fuv",
        "outputId": "b7e968e3-f2cf-4978-87f2-e4fa67a6ec2a",
        "colab": {
          "base_uri": "https://localhost:8080/"
        }
      },
      "outputs": [
        {
          "output_type": "stream",
          "name": "stdout",
          "text": [
            "+-----------+--------------------+-----------+\n",
            "|day_of_week|            endpoint|invocations|\n",
            "+-----------+--------------------+-----------+\n",
            "|     Monday|/Archives/edgar/d...|        863|\n",
            "+-----------+--------------------+-----------+\n",
            "\n"
          ]
        }
      ],
      "source": [
        "# Avoids the join operation. \n",
        "# Utilize window functions to rank the rows and directly filter the rows with the highest invocations.\n",
        "# This can be advantageous when dealing with large datasets since it avoids the overhead of the join operation.\n",
        "\n",
        "from pyspark.sql.functions import row_number\n",
        "from pyspark.sql.window import Window\n",
        "\n",
        "# Add a row number column based on the invocations in descending order for each day_of_week\n",
        "windowSpec = Window.partitionBy('day_of_week').orderBy(grouped_df['invocations'].desc())\n",
        "ranked_df = grouped_df.withColumn('rank', row_number().over(windowSpec))\n",
        "\n",
        "# Filter the ranked DataFrame to retain only the rows with rank 1 (highest invocations)\n",
        "max_invocations_df = ranked_df.filter(ranked_df['rank'] == 1)\n",
        "\n",
        "# Summarize the results and display the day_of_week, endpoint, and invocations with max invocations\n",
        "max_invocations_df.select('day_of_week', 'endpoint', 'invocations').show()"
      ]
    },
    {
      "cell_type": "markdown",
      "source": [
        "All invocations fall on a Monday"
      ],
      "metadata": {
        "id": "fbsMd1yFYuL2"
      }
    },
    {
      "cell_type": "code",
      "source": [],
      "metadata": {
        "id": "MC7UCsCwbN8V"
      },
      "execution_count": null,
      "outputs": []
    },
    {
      "cell_type": "markdown",
      "source": [
        "## Method Analysis"
      ],
      "metadata": {
        "id": "Uvq7p4Y3bid0"
      }
    },
    {
      "cell_type": "markdown",
      "metadata": {
        "id": "edfNSL1abid6"
      },
      "source": [
        "### Analyzing Frequent Methods"
      ]
    },
    {
      "cell_type": "code",
      "execution_count": 129,
      "metadata": {
        "outputId": "d3ac4dd4-0865-48e0-cbfd-e1f9b4db5c6a",
        "colab": {
          "base_uri": "https://localhost:8080/"
        },
        "id": "mGtGOLZybid6"
      },
      "outputs": [
        {
          "output_type": "stream",
          "name": "stdout",
          "text": [
            "+------+-----+\n",
            "|method|count|\n",
            "+------+-----+\n",
            "|DELETE|30074|\n",
            "|POST  |30067|\n",
            "|GET   |29957|\n",
            "|PUT   |29902|\n",
            "+------+-----+\n",
            "\n"
          ]
        }
      ],
      "source": [
        "methods_sum_df =(logs_df\n",
        "               .groupBy('method')\n",
        "               .count()\n",
        "               .sort('count', ascending=False))\n",
        "\n",
        "methods_sum_df.show(truncate=False)"
      ]
    },
    {
      "cell_type": "code",
      "source": [
        "import matplotlib.pyplot as plt\n",
        "import seaborn as sns\n",
        "\n",
        "# Extract the method names and counts from the DataFrame\n",
        "methods = methods_sum_df.select('method').rdd.flatMap(lambda x: x).collect()\n",
        "counts = methods_sum_df.select('count').rdd.flatMap(lambda x: x).collect()\n",
        "\n",
        "# Set the color palette\n",
        "colors = sns.color_palette('viridis', len(methods))\n",
        "\n",
        "# Create a figure and axis with the desired size\n",
        "fig, ax = plt.subplots(figsize=(4, 4))\n",
        "\n",
        "# Create a bar plot with colors\n",
        "ax.bar(methods, counts, color=colors)\n",
        "\n",
        "# Set the labels and title\n",
        "ax.set_xlabel('Method')\n",
        "ax.set_ylabel('Count')\n",
        "ax.set_title('Method Distribution')\n",
        "\n",
        "# Rotate the x-axis labels\n",
        "ax.set_xticklabels(methods, rotation=45)\n",
        "\n",
        "# Display the plot\n",
        "plt.show()\n"
      ],
      "metadata": {
        "colab": {
          "base_uri": "https://localhost:8080/",
          "height": 479
        },
        "id": "XRG7dk1PcEx_",
        "outputId": "f991433f-3356-441e-bb7c-e6a106adbaed"
      },
      "execution_count": 134,
      "outputs": [
        {
          "output_type": "stream",
          "name": "stderr",
          "text": [
            "<ipython-input-134-dbaf134bd0dc>:23: UserWarning: FixedFormatter should only be used together with FixedLocator\n",
            "  ax.set_xticklabels(methods, rotation=45)\n"
          ]
        },
        {
          "output_type": "display_data",
          "data": {
            "text/plain": [
              "<Figure size 400x400 with 1 Axes>"
            ],
            "image/png": "[encoded data removed]"
          },
          "metadata": {}
        }
      ]
    },
    {
      "cell_type": "markdown",
      "source": [
        "### Methods to Response Codes"
      ],
      "metadata": {
        "id": "wCDnlsUoeLxb"
      }
    },
    {
      "cell_type": "code",
      "source": [
        "from pyspark.sql import functions as F\n",
        "\n",
        "# Group by response_code and method, and count the occurrences\n",
        "grouped_df = logs_df.groupBy('response_code', 'method').count()\n",
        "\n",
        "# Show the grouped DataFrame\n",
        "grouped_df.show(truncate=False)\n"
      ],
      "metadata": {
        "colab": {
          "base_uri": "https://localhost:8080/"
        },
        "id": "9jIvyynieJOA",
        "outputId": "cd43cbef-a46e-4cc2-c095-d169f08aa157"
      },
      "execution_count": 141,
      "outputs": [
        {
          "output_type": "stream",
          "name": "stdout",
          "text": [
            "+-------------+------+-----+\n",
            "|response_code|method|count|\n",
            "+-------------+------+-----+\n",
            "|502          |DELETE|4265 |\n",
            "|200          |GET   |4359 |\n",
            "|403          |GET   |4336 |\n",
            "|403          |DELETE|4349 |\n",
            "|404          |PUT   |4339 |\n",
            "|303          |GET   |4237 |\n",
            "|200          |PUT   |4295 |\n",
            "|502          |PUT   |4334 |\n",
            "|502          |POST  |4298 |\n",
            "|304          |POST  |4277 |\n",
            "|404          |GET   |4158 |\n",
            "|304          |GET   |4327 |\n",
            "|502          |GET   |4182 |\n",
            "|200          |DELETE|4383 |\n",
            "|303          |POST  |4281 |\n",
            "|404          |DELETE|4280 |\n",
            "|303          |PUT   |4268 |\n",
            "|500          |POST  |4278 |\n",
            "|304          |DELETE|4275 |\n",
            "|304          |PUT   |4252 |\n",
            "+-------------+------+-----+\n",
            "only showing top 20 rows\n",
            "\n"
          ]
        }
      ]
    },
    {
      "cell_type": "code",
      "source": [
        "import matplotlib.pyplot as plt\n",
        "import seaborn as sns\n",
        "\n",
        "# Extract the response_code, method, and counts from the grouped DataFrame\n",
        "response_codes = grouped_df.select('response_code').rdd.flatMap(lambda x: x).collect()\n",
        "methods = grouped_df.select('method').rdd.flatMap(lambda x: x).collect()\n",
        "counts = grouped_df.select('count').rdd.flatMap(lambda x: x).collect()\n",
        "\n",
        "# Create the color palette\n",
        "colors = sns.color_palette('tab10', len(response_codes))\n",
        "\n",
        "# Set the figure size\n",
        "plt.figure(figsize=(10, 3))\n",
        "\n",
        "# Create a bar plot with clustered bars and colored by response_code\n",
        "sns.barplot(x=response_codes, y=counts, hue=methods, palette=colors)\n",
        "\n",
        "# Set labels and title\n",
        "plt.xlabel('Response Code')\n",
        "plt.ylabel('Count')\n",
        "plt.title('Response Code and Method Distribution')\n",
        "\n",
        "# Rotate x-axis labels if needed\n",
        "plt.xticks(rotation=45)\n",
        "\n",
        "# Place the legend in the bottom right corner\n",
        "plt.legend(loc='lower right')\n",
        "\n",
        "# Show the plot\n",
        "plt.show()\n"
      ],
      "metadata": {
        "colab": {
          "base_uri": "https://localhost:8080/",
          "height": 348
        },
        "id": "w085JfwBelR3",
        "outputId": "e7e1c5ea-68ff-414c-ff31-d30e4b09e7b2"
      },
      "execution_count": 153,
      "outputs": [
        {
          "output_type": "display_data",
          "data": {
            "text/plain": [
              "<Figure size 1000x300 with 1 Axes>"
            ],
            "image/png": "[encoded data removed]"
          },
          "metadata": {}
        }
      ]
    },
    {
      "cell_type": "markdown",
      "source": [
        "### Methods to IP Address"
      ],
      "metadata": {
        "id": "0VMhZTIBgNEh"
      }
    },
    {
      "cell_type": "code",
      "source": [
        "from pyspark.sql import functions as F\n",
        "\n",
        "# Group by response_code and method, and count the occurrences\n",
        "grouped_df = logs_df.groupBy('ip_address', 'method').count()\n",
        "\n",
        "# Show the grouped DataFrame\n",
        "grouped_df.show(truncate=False)\n"
      ],
      "metadata": {
        "outputId": "45e37284-c4ed-4139-cda4-169a4ae22e08",
        "colab": {
          "base_uri": "https://localhost:8080/"
        },
        "id": "1FvBzfrXgNEn"
      },
      "execution_count": 154,
      "outputs": [
        {
          "output_type": "stream",
          "name": "stdout",
          "text": [
            "+---------------+------+-----+\n",
            "|ip_address     |method|count|\n",
            "+---------------+------+-----+\n",
            "|130.72.85.37   |POST  |1    |\n",
            "|28.164.235.25  |PUT   |1    |\n",
            "|138.101.149.103|PUT   |1    |\n",
            "|4.142.129.56   |GET   |1    |\n",
            "|49.139.214.148 |GET   |1    |\n",
            "|86.245.110.248 |GET   |1    |\n",
            "|99.8.131.217   |GET   |1    |\n",
            "|12.57.175.101  |DELETE|1    |\n",
            "|102.208.14.68  |DELETE|1    |\n",
            "|70.156.139.188 |PUT   |1    |\n",
            "|5.4.119.82     |GET   |1    |\n",
            "|77.201.220.118 |POST  |1    |\n",
            "|24.48.77.112   |DELETE|1    |\n",
            "|19.7.210.73    |GET   |1    |\n",
            "|35.163.158.163 |GET   |1    |\n",
            "|42.141.171.167 |POST  |1    |\n",
            "|150.2.243.56   |PUT   |1    |\n",
            "|202.97.35.233  |POST  |1    |\n",
            "|11.50.12.216   |POST  |1    |\n",
            "|57.174.205.134 |DELETE|1    |\n",
            "+---------------+------+-----+\n",
            "only showing top 20 rows\n",
            "\n"
          ]
        }
      ]
    },
    {
      "cell_type": "markdown",
      "source": [
        "### Methods to Endpoints"
      ],
      "metadata": {
        "id": "a5bvMlz0g7e_"
      }
    },
    {
      "cell_type": "code",
      "source": [
        "from pyspark.sql import functions as F\n",
        "\n",
        "# Group by response_code and method, and count the occurrences\n",
        "grouped_df = logs_df.groupBy('endpoint', 'method').count()\n",
        "\n",
        "# Show the grouped DataFrame\n",
        "grouped_df.show(truncate=False)\n"
      ],
      "metadata": {
        "outputId": "23889c44-e9b7-49b0-a90e-2ba67e8acf82",
        "colab": {
          "base_uri": "https://localhost:8080/"
        },
        "id": "YPqONXiTg7fG"
      },
      "execution_count": 157,
      "outputs": [
        {
          "output_type": "stream",
          "name": "stdout",
          "text": [
            "+---------------------------------------------------------------------------------+------+-----+\n",
            "|endpoint                                                                         |method|count|\n",
            "+---------------------------------------------------------------------------------+------+-----+\n",
            "|/Archives/edgar/data/0001439124/000129281422000788/                              |GET   |198  |\n",
            "|/Archives/edgar/data/1932485/000110465923037622/tm239175d10_absee.htm            |GET   |178  |\n",
            "|/Archives/edgar/data/0001035018/000119312507272779/g47607g69u06.jpg              |DELETE|182  |\n",
            "|/Archives/edgar/data/0001729361/000121390021017176/s131100_10k.htm               |GET   |211  |\n",
            "|/Archives/edgar/data/0000205007/000114554923005581/0001145549-23-005581.txt      |PUT   |190  |\n",
            "|/Archives/edgar/data/0000004281/000119312517062657/R98.htm                       |PUT   |192  |\n",
            "|/Archives/edgar/data/0001129068/000095013122003743/narot19cabsee_0818-1508.htm   |DELETE|193  |\n",
            "|/Archives/edgar/data/24104/0001102624-12-000443.txt                              |GET   |186  |\n",
            "|/Archives/edgar/data/921112/000089542110000396/0000895421-10-000396.txt          |PUT   |178  |\n",
            "|/Archives/edgar/data/0001694010/000121390021017172/s131096_10k.htm               |DELETE|207  |\n",
            "|/Archives/edgar/data/0000352825/000035282519000012/0000352825-19-000012.txt      |POST  |182  |\n",
            "|/Archives/edgar/data/0001267332/000117494721000300/form10k-25692_indexpl20031.htm|DELETE|185  |\n",
            "|/Archives/edgar/data/0001439124/000129281422000854/                              |GET   |181  |\n",
            "|/Archives/edgar/data/0001326380/000132638023000019/gme-20230128_g1.jpg           |POST  |184  |\n",
            "|/Archives/edgar/data/0001056673/000094930398000131/0000949303-98-000131.txt      |PUT   |213  |\n",
            "|/Archives/edgar/data/0001242699/000143774911009194/0001437749-11-009194.txt      |GET   |162  |\n",
            "|/Archives/edgar/data/35315/000175272423067615/primary_doc.xml                    |POST  |201  |\n",
            "|/Archives/edgar/data/0000004281/000119312517062657/R101.htm                      |GET   |187  |\n",
            "|/Archives/edgar/data/0001787168/000120919122010338/0001209191-22-010338.txt      |POST  |217  |\n",
            "|/Archives/edgar/data/0000019957/000110465921115352/tm2127556d2_424b3.htm         |GET   |202  |\n",
            "+---------------------------------------------------------------------------------+------+-----+\n",
            "only showing top 20 rows\n",
            "\n"
          ]
        }
      ]
    },
    {
      "cell_type": "markdown",
      "metadata": {
        "id": "soeMndoj7Fuu"
      },
      "source": [
        "## Reset the max rows displayed in pandas"
      ]
    },
    {
      "cell_type": "code",
      "execution_count": 116,
      "metadata": {
        "collapsed": true,
        "id": "QWfTL_bX7Fuv"
      },
      "outputs": [],
      "source": [
        "pd.set_option('display.max_rows', def_mr)\n",
        "\n"
      ]
    }
  ],
  "metadata": {
    "kernelspec": {
      "display_name": "Python 3",
      "language": "python",
      "name": "python3"
    },
    "language_info": {
      "codemirror_mode": {
        "name": "ipython",
        "version": 3
      },
      "file_extension": ".py",
      "mimetype": "text/x-python",
      "name": "python",
      "nbconvert_exporter": "python",
      "pygments_lexer": "ipython3",
      "version": "3.11.3"
    },
    "colab": {
      "provenance": [],
      "toc_visible": true,
      "include_colab_link": true
    }
  },
  "nbformat": 4,
  "nbformat_minor": 0
}